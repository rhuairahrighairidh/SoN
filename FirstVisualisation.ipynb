{
 "metadata": {
  "name": "",
  "signature": "sha256:5b00e17c60d1ef1fea1e8c65734b00e34ff88f6ad04269ed69df0472caebbff9"
 },
 "nbformat": 3,
 "nbformat_minor": 0,
 "worksheets": [
  {
   "cells": [
    {
     "cell_type": "heading",
     "level": 1,
     "metadata": {},
     "source": [
      "Thoughts"
     ]
    },
    {
     "cell_type": "markdown",
     "metadata": {},
     "source": [
      "- Useful functions for Importing Data\n",
      "- List of example data .csv's ?\n",
      "- Useful Methods in NuPIC - in the temporal pooler and spatial pooler (compute, get_ouput, etc)\n",
      "- Useful Plots - array plots, line plots, interactive things?\n",
      "- Create some NuPIC specific plots - such as permanence plot"
     ]
    },
    {
     "cell_type": "heading",
     "level": 1,
     "metadata": {},
     "source": [
      "Initialization"
     ]
    },
    {
     "cell_type": "code",
     "collapsed": false,
     "input": [
      "import matplotlib.pyplot as plt\n",
      "import numpy as np\n",
      "%matplotlib inline"
     ],
     "language": "python",
     "metadata": {},
     "outputs": [],
     "prompt_number": 2
    },
    {
     "cell_type": "heading",
     "level": 1,
     "metadata": {},
     "source": [
      "Hinton Plot"
     ]
    },
    {
     "cell_type": "code",
     "collapsed": false,
     "input": [
      "def hinton(matrix, max_weight=None, ax=None):\n",
      "    \"\"\"Draw Hinton diagram for visualizing a weight matrix.\"\"\"\n",
      "    ax = ax if ax is not None else plt.gca()\n",
      "\n",
      "    if not max_weight:\n",
      "        max_weight = 2**np.ceil(np.log(np.abs(matrix).max())/np.log(2))\n",
      "\n",
      "    ax.patch.set_facecolor('gray')\n",
      "    ax.set_aspect('equal', 'box')\n",
      "    ax.xaxis.set_major_locator(plt.NullLocator())\n",
      "    ax.yaxis.set_major_locator(plt.NullLocator())\n",
      "\n",
      "    for (x,y),w in np.ndenumerate(matrix):\n",
      "        color = 'white' if w > 0 else 'black'\n",
      "        size = np.sqrt(np.abs(w))\n",
      "        rect = plt.Rectangle([x - size / 2, y - size / 2], size, size,\n",
      "                             facecolor=color, edgecolor=color)\n",
      "        ax.add_patch(rect)\n",
      "\n",
      "    ax.autoscale_view()\n",
      "    ax.invert_yaxis()"
     ],
     "language": "python",
     "metadata": {},
     "outputs": [],
     "prompt_number": 9
    },
    {
     "cell_type": "code",
     "collapsed": false,
     "input": [
      "hinton(np.random.rand(20, 20) - 0.5)"
     ],
     "language": "python",
     "metadata": {},
     "outputs": [
      {
       "metadata": {},
       "output_type": "display_data",
       "png": "[encoded data removed]",
       "text": [
        "<matplotlib.figure.Figure at 0xf29c6d8>"
       ]
      }
     ],
     "prompt_number": 16
    },
    {
     "cell_type": "heading",
     "level": 1,
     "metadata": {},
     "source": [
      "Assortment of Matplotlib plots"
     ]
    },
    {
     "cell_type": "code",
     "collapsed": false,
     "input": [
      "plt.hlines([1,2,4,5],[0,0,3,0],[1,2,5,1],colors=((1,0,1)))"
     ],
     "language": "python",
     "metadata": {},
     "outputs": [
      {
       "metadata": {},
       "output_type": "pyout",
       "prompt_number": 33,
       "text": [
        "<matplotlib.collections.LineCollection at 0xac76828>"
       ]
      },
      {
       "metadata": {},
       "output_type": "display_data",
       "png": "[encoded data removed]",
       "text": [
        "<matplotlib.figure.Figure at 0xc31fb38>"
       ]
      }
     ],
     "prompt_number": 33
    },
    {
     "cell_type": "code",
     "collapsed": false,
     "input": [
      "plt.matshow(np.random.randn(10,20))"
     ],
     "language": "python",
     "metadata": {},
     "outputs": [
      {
       "metadata": {},
       "output_type": "pyout",
       "prompt_number": 3,
       "text": [
        "<matplotlib.image.AxesImage at 0xaa759e8>"
       ]
      },
      {
       "metadata": {},
       "output_type": "display_data",
       "png": "[encoded data removed]",
       "text": [
        "<matplotlib.figure.Figure at 0xaa4d9e8>"
       ]
      }
     ],
     "prompt_number": 3
    },
    {
     "cell_type": "code",
     "collapsed": false,
     "input": [
      "plt.pcolormesh(np.random.randn(10,20))"
     ],
     "language": "python",
     "metadata": {},
     "outputs": [
      {
       "metadata": {},
       "output_type": "pyout",
       "prompt_number": 4,
       "text": [
        "<matplotlib.collections.QuadMesh at 0xb06d630>"
       ]
      },
      {
       "metadata": {},
       "output_type": "display_data",
       "png": "[encoded data removed]",
       "text": [
        "<matplotlib.figure.Figure at 0xaa64470>"
       ]
      }
     ],
     "prompt_number": 4
    },
    {
     "cell_type": "heading",
     "level": 1,
     "metadata": {},
     "source": [
      "Active Column Plot"
     ]
    },
    {
     "cell_type": "code",
     "collapsed": false,
     "input": [
      "activeColumns=np.random.randint(0,200,size=[20,4])\n",
      "print activeColumns"
     ],
     "language": "python",
     "metadata": {},
     "outputs": [
      {
       "output_type": "stream",
       "stream": "stdout",
       "text": [
        "[[ 79  36 136  18]\n",
        " [ 44  51 199  40]\n",
        " [157 173  84 195]\n",
        " [169 119 175  31]\n",
        " [185 177 127 173]\n",
        " [ 30  23 174 188]\n",
        " [ 89  13 112  34]\n",
        " [133 184  24  90]\n",
        " [194  60 167  13]\n",
        " [114 168 167 177]\n",
        " [ 42  23 153  17]\n",
        " [126  12  99  56]\n",
        " [130 100 141 145]\n",
        " [ 86  43  33 156]\n",
        " [153  78  85 172]\n",
        " [ 82 116 166 119]\n",
        " [105  58 104  61]\n",
        " [ 95 185  15 157]\n",
        " [ 76 188  82 161]\n",
        " [ 48   1   7  76]]\n"
       ]
      }
     ],
     "prompt_number": 24
    },
    {
     "cell_type": "code",
     "collapsed": false,
     "input": [
      "activeColumns.flatten()"
     ],
     "language": "python",
     "metadata": {},
     "outputs": [
      {
       "metadata": {},
       "output_type": "pyout",
       "prompt_number": 25,
       "text": [
        "array([ 79,  36, 136,  18,  44,  51, 199,  40, 157, 173,  84, 195, 169,\n",
        "       119, 175,  31, 185, 177, 127, 173,  30,  23, 174, 188,  89,  13,\n",
        "       112,  34, 133, 184,  24,  90, 194,  60, 167,  13, 114, 168, 167,\n",
        "       177,  42,  23, 153,  17, 126,  12,  99,  56, 130, 100, 141, 145,\n",
        "        86,  43,  33, 156, 153,  78,  85, 172,  82, 116, 166, 119, 105,\n",
        "        58, 104,  61,  95, 185,  15, 157,  76, 188,  82, 161,  48,   1,\n",
        "         7,  76])"
       ]
      }
     ],
     "prompt_number": 25
    },
    {
     "cell_type": "code",
     "collapsed": false,
     "input": [
      "xValues=np.array([range(activeColumns.shape[0])])\n",
      "xValues=np.repeat(xValues.T,activeColumns.shape[1],axis=1)\n",
      "print xValues"
     ],
     "language": "python",
     "metadata": {},
     "outputs": [
      {
       "output_type": "stream",
       "stream": "stdout",
       "text": [
        "[[ 0  0  0  0]\n",
        " [ 1  1  1  1]\n",
        " [ 2  2  2  2]\n",
        " [ 3  3  3  3]\n",
        " [ 4  4  4  4]\n",
        " [ 5  5  5  5]\n",
        " [ 6  6  6  6]\n",
        " [ 7  7  7  7]\n",
        " [ 8  8  8  8]\n",
        " [ 9  9  9  9]\n",
        " [10 10 10 10]\n",
        " [11 11 11 11]\n",
        " [12 12 12 12]\n",
        " [13 13 13 13]\n",
        " [14 14 14 14]\n",
        " [15 15 15 15]\n",
        " [16 16 16 16]\n",
        " [17 17 17 17]\n",
        " [18 18 18 18]\n",
        " [19 19 19 19]]\n"
       ]
      }
     ],
     "prompt_number": 12
    },
    {
     "cell_type": "code",
     "collapsed": false,
     "input": [
      "def transformActiveColumnIndexes(activeColumns):\n",
      "    \n",
      "    pastIndexes = []\n",
      "    yValues = []\n",
      "    for activeColumn in activeColumns.flatten():\n",
      "        if activeColumn not in pastIndexes:\n",
      "            pastIndexes.append(activeColumn)\n",
      "        yValue = pastIndexes.index(activeColumn)\n",
      "        yValues.append(yValue)\n",
      "        \n",
      "    return yValues"
     ],
     "language": "python",
     "metadata": {},
     "outputs": [],
     "prompt_number": 13
    },
    {
     "cell_type": "code",
     "collapsed": false,
     "input": [
      "(figure,axes) = plt.subplots()\n",
      "\n",
      "axes.plot(xValues.flatten(),transformActiveColumnIndexes(activeColumns),'.')\n",
      "axes.minorticks_on()\n",
      "axes.grid(b=True,axis='y',which='both',linestyle='solid',color=(0.8,0.8,0.8))\n",
      "figure.set_size_inches(15,7)"
     ],
     "language": "python",
     "metadata": {},
     "outputs": [
      {
       "metadata": {},
       "output_type": "display_data",
       "png": "[encoded data removed]",
       "text": [
        "<matplotlib.figure.Figure at 0xe538c88>"
       ]
      }
     ],
     "prompt_number": 34
    },
    {
     "cell_type": "code",
     "collapsed": false,
     "input": [
      "import mpld3"
     ],
     "language": "python",
     "metadata": {},
     "outputs": [],
     "prompt_number": 28
    },
    {
     "cell_type": "code",
     "collapsed": false,
     "input": [
      "mpld3.display(figure)"
     ],
     "language": "python",
     "metadata": {},
     "outputs": [
      {
       "html": [
        "\n",
        "\n",
        "<style>\n",
        "\n",
        "</style>\n",
        "\n",
        "<div id=\"fig_el4956240356488317402660\"></div>\n",
        "<script>\n",
        "function mpld3_load_lib(url, callback){\n",
        "  var s = document.createElement('script');\n",
        "  s.src = url;\n",
        "  s.async = true;\n",
        "  s.onreadystatechange = s.onload = callback;\n",
        "  s.onerror = function(){console.warn(\"failed to load library \" + url);};\n",
        "  document.getElementsByTagName(\"head\")[0].appendChild(s);\n",
        "}\n",
        "\n",
        "if(typeof(mpld3) !== \"undefined\" && mpld3._mpld3IsLoaded){\n",
        "   // already loaded: just create the figure\n",
        "   !function(mpld3){\n",
        "       \n",
        "       mpld3.draw_figure(\"fig_el4956240356488317402660\", {\"axes\": [{\"xlim\": [0.0, 20.0], \"yscale\": \"linear\", \"axesbg\": \"#FFFFFF\", \"texts\": [], \"zoomable\": true, \"images\": [], \"xdomain\": [0.0, 20.0], \"ylim\": [0.0, 70.0], \"paths\": [], \"sharey\": [], \"sharex\": [], \"axesbgalpha\": null, \"axes\": [{\"scale\": \"linear\", \"tickformat\": null, \"grid\": {\"gridOn\": false}, \"fontsize\": 10.0, \"position\": \"bottom\", \"nticks\": 5, \"tickvalues\": null}, {\"scale\": \"linear\", \"tickformat\": null, \"grid\": {\"color\": \"#CCCCCC\", \"alpha\": 1.0, \"dasharray\": \"10,0\", \"gridOn\": true}, \"fontsize\": 10.0, \"position\": \"left\", \"nticks\": 8, \"tickvalues\": null}], \"lines\": [], \"markers\": [{\"edgecolor\": \"#0000FF\", \"facecolor\": \"#0000FF\", \"edgewidth\": 0.5, \"yindex\": 1, \"coordinates\": \"data\", \"zorder\": 2, \"markerpath\": [[[0.0, 1.5], [0.39780465000000004, 1.5], [0.7793698061772802, 1.3419505373823626], [1.0606601717798214, 1.0606601717798214], [1.3419505373823626, 0.7793698061772802], [1.5, 0.39780465000000004], [1.5, 0.0], [1.5, -0.39780465000000004], [1.3419505373823626, -0.7793698061772802], [1.0606601717798214, -1.0606601717798214], [0.7793698061772802, -1.3419505373823626], [0.39780465000000004, -1.5], [0.0, -1.5], [-0.39780465000000004, -1.5], [-0.7793698061772802, -1.3419505373823626], [-1.0606601717798214, -1.0606601717798214], [-1.3419505373823626, -0.7793698061772802], [-1.5, -0.39780465000000004], [-1.5, 0.0], [-1.5, 0.39780465000000004], [-1.3419505373823626, 0.7793698061772802], [-1.0606601717798214, 1.0606601717798214], [-0.7793698061772802, 1.3419505373823626], [-0.39780465000000004, 1.5], [0.0, 1.5]], [\"M\", \"C\", \"C\", \"C\", \"C\", \"C\", \"C\", \"C\", \"C\", \"Z\"]], \"alpha\": 1, \"xindex\": 0, \"data\": \"data01\", \"id\": \"el4956240354752pts\"}], \"id\": \"el4956240353688\", \"ydomain\": [0.0, 70.0], \"collections\": [], \"xscale\": \"linear\", \"bbox\": [0.125, 0.125, 0.77500000000000002, 0.77500000000000002]}], \"height\": 560.0, \"width\": 1200.0, \"plugins\": [{\"type\": \"reset\"}, {\"enabled\": false, \"button\": true, \"type\": \"zoom\"}, {\"enabled\": false, \"button\": true, \"type\": \"boxzoom\"}], \"data\": {\"data01\": [[0.0, 0.0], [0.0, 1.0], [0.0, 2.0], [0.0, 3.0], [1.0, 4.0], [1.0, 5.0], [1.0, 6.0], [1.0, 7.0], [2.0, 8.0], [2.0, 9.0], [2.0, 10.0], [2.0, 11.0], [3.0, 12.0], [3.0, 13.0], [3.0, 14.0], [3.0, 15.0], [4.0, 16.0], [4.0, 17.0], [4.0, 18.0], [4.0, 9.0], [5.0, 19.0], [5.0, 20.0], [5.0, 21.0], [5.0, 22.0], [6.0, 23.0], [6.0, 24.0], [6.0, 25.0], [6.0, 26.0], [7.0, 27.0], [7.0, 28.0], [7.0, 29.0], [7.0, 30.0], [8.0, 31.0], [8.0, 32.0], [8.0, 33.0], [8.0, 24.0], [9.0, 34.0], [9.0, 35.0], [9.0, 33.0], [9.0, 17.0], [10.0, 36.0], [10.0, 20.0], [10.0, 37.0], [10.0, 38.0], [11.0, 39.0], [11.0, 40.0], [11.0, 41.0], [11.0, 42.0], [12.0, 43.0], [12.0, 44.0], [12.0, 45.0], [12.0, 46.0], [13.0, 47.0], [13.0, 48.0], [13.0, 49.0], [13.0, 50.0], [14.0, 37.0], [14.0, 51.0], [14.0, 52.0], [14.0, 53.0], [15.0, 54.0], [15.0, 55.0], [15.0, 56.0], [15.0, 13.0], [16.0, 57.0], [16.0, 58.0], [16.0, 59.0], [16.0, 60.0], [17.0, 61.0], [17.0, 16.0], [17.0, 62.0], [17.0, 8.0], [18.0, 63.0], [18.0, 22.0], [18.0, 54.0], [18.0, 64.0], [19.0, 65.0], [19.0, 66.0], [19.0, 67.0], [19.0, 63.0]]}, \"id\": \"el4956240356488\"});\n",
        "   }(mpld3);\n",
        "}else if(typeof define === \"function\" && define.amd){\n",
        "   // require.js is available: use it to load d3/mpld3\n",
        "   require.config({paths: {d3: \"https://mpld3.github.io/js/d3.v3.min\"}});\n",
        "   require([\"d3\"], function(d3){\n",
        "      window.d3 = d3;\n",
        "      mpld3_load_lib(\"https://mpld3.github.io/js/mpld3.v0.2.js\", function(){\n",
        "         \n",
        "         mpld3.draw_figure(\"fig_el4956240356488317402660\", {\"axes\": [{\"xlim\": [0.0, 20.0], \"yscale\": \"linear\", \"axesbg\": \"#FFFFFF\", \"texts\": [], \"zoomable\": true, \"images\": [], \"xdomain\": [0.0, 20.0], \"ylim\": [0.0, 70.0], \"paths\": [], \"sharey\": [], \"sharex\": [], \"axesbgalpha\": null, \"axes\": [{\"scale\": \"linear\", \"tickformat\": null, \"grid\": {\"gridOn\": false}, \"fontsize\": 10.0, \"position\": \"bottom\", \"nticks\": 5, \"tickvalues\": null}, {\"scale\": \"linear\", \"tickformat\": null, \"grid\": {\"color\": \"#CCCCCC\", \"alpha\": 1.0, \"dasharray\": \"10,0\", \"gridOn\": true}, \"fontsize\": 10.0, \"position\": \"left\", \"nticks\": 8, \"tickvalues\": null}], \"lines\": [], \"markers\": [{\"edgecolor\": \"#0000FF\", \"facecolor\": \"#0000FF\", \"edgewidth\": 0.5, \"yindex\": 1, \"coordinates\": \"data\", \"zorder\": 2, \"markerpath\": [[[0.0, 1.5], [0.39780465000000004, 1.5], [0.7793698061772802, 1.3419505373823626], [1.0606601717798214, 1.0606601717798214], [1.3419505373823626, 0.7793698061772802], [1.5, 0.39780465000000004], [1.5, 0.0], [1.5, -0.39780465000000004], [1.3419505373823626, -0.7793698061772802], [1.0606601717798214, -1.0606601717798214], [0.7793698061772802, -1.3419505373823626], [0.39780465000000004, -1.5], [0.0, -1.5], [-0.39780465000000004, -1.5], [-0.7793698061772802, -1.3419505373823626], [-1.0606601717798214, -1.0606601717798214], [-1.3419505373823626, -0.7793698061772802], [-1.5, -0.39780465000000004], [-1.5, 0.0], [-1.5, 0.39780465000000004], [-1.3419505373823626, 0.7793698061772802], [-1.0606601717798214, 1.0606601717798214], [-0.7793698061772802, 1.3419505373823626], [-0.39780465000000004, 1.5], [0.0, 1.5]], [\"M\", \"C\", \"C\", \"C\", \"C\", \"C\", \"C\", \"C\", \"C\", \"Z\"]], \"alpha\": 1, \"xindex\": 0, \"data\": \"data01\", \"id\": \"el4956240354752pts\"}], \"id\": \"el4956240353688\", \"ydomain\": [0.0, 70.0], \"collections\": [], \"xscale\": \"linear\", \"bbox\": [0.125, 0.125, 0.77500000000000002, 0.77500000000000002]}], \"height\": 560.0, \"width\": 1200.0, \"plugins\": [{\"type\": \"reset\"}, {\"enabled\": false, \"button\": true, \"type\": \"zoom\"}, {\"enabled\": false, \"button\": true, \"type\": \"boxzoom\"}], \"data\": {\"data01\": [[0.0, 0.0], [0.0, 1.0], [0.0, 2.0], [0.0, 3.0], [1.0, 4.0], [1.0, 5.0], [1.0, 6.0], [1.0, 7.0], [2.0, 8.0], [2.0, 9.0], [2.0, 10.0], [2.0, 11.0], [3.0, 12.0], [3.0, 13.0], [3.0, 14.0], [3.0, 15.0], [4.0, 16.0], [4.0, 17.0], [4.0, 18.0], [4.0, 9.0], [5.0, 19.0], [5.0, 20.0], [5.0, 21.0], [5.0, 22.0], [6.0, 23.0], [6.0, 24.0], [6.0, 25.0], [6.0, 26.0], [7.0, 27.0], [7.0, 28.0], [7.0, 29.0], [7.0, 30.0], [8.0, 31.0], [8.0, 32.0], [8.0, 33.0], [8.0, 24.0], [9.0, 34.0], [9.0, 35.0], [9.0, 33.0], [9.0, 17.0], [10.0, 36.0], [10.0, 20.0], [10.0, 37.0], [10.0, 38.0], [11.0, 39.0], [11.0, 40.0], [11.0, 41.0], [11.0, 42.0], [12.0, 43.0], [12.0, 44.0], [12.0, 45.0], [12.0, 46.0], [13.0, 47.0], [13.0, 48.0], [13.0, 49.0], [13.0, 50.0], [14.0, 37.0], [14.0, 51.0], [14.0, 52.0], [14.0, 53.0], [15.0, 54.0], [15.0, 55.0], [15.0, 56.0], [15.0, 13.0], [16.0, 57.0], [16.0, 58.0], [16.0, 59.0], [16.0, 60.0], [17.0, 61.0], [17.0, 16.0], [17.0, 62.0], [17.0, 8.0], [18.0, 63.0], [18.0, 22.0], [18.0, 54.0], [18.0, 64.0], [19.0, 65.0], [19.0, 66.0], [19.0, 67.0], [19.0, 63.0]]}, \"id\": \"el4956240356488\"});\n",
        "      });\n",
        "    });\n",
        "}else{\n",
        "    // require.js not available: dynamically load d3 & mpld3\n",
        "    mpld3_load_lib(\"https://mpld3.github.io/js/d3.v3.min.js\", function(){\n",
        "         mpld3_load_lib(\"https://mpld3.github.io/js/mpld3.v0.2.js\", function(){\n",
        "                 \n",
        "                 mpld3.draw_figure(\"fig_el4956240356488317402660\", {\"axes\": [{\"xlim\": [0.0, 20.0], \"yscale\": \"linear\", \"axesbg\": \"#FFFFFF\", \"texts\": [], \"zoomable\": true, \"images\": [], \"xdomain\": [0.0, 20.0], \"ylim\": [0.0, 70.0], \"paths\": [], \"sharey\": [], \"sharex\": [], \"axesbgalpha\": null, \"axes\": [{\"scale\": \"linear\", \"tickformat\": null, \"grid\": {\"gridOn\": false}, \"fontsize\": 10.0, \"position\": \"bottom\", \"nticks\": 5, \"tickvalues\": null}, {\"scale\": \"linear\", \"tickformat\": null, \"grid\": {\"color\": \"#CCCCCC\", \"alpha\": 1.0, \"dasharray\": \"10,0\", \"gridOn\": true}, \"fontsize\": 10.0, \"position\": \"left\", \"nticks\": 8, \"tickvalues\": null}], \"lines\": [], \"markers\": [{\"edgecolor\": \"#0000FF\", \"facecolor\": \"#0000FF\", \"edgewidth\": 0.5, \"yindex\": 1, \"coordinates\": \"data\", \"zorder\": 2, \"markerpath\": [[[0.0, 1.5], [0.39780465000000004, 1.5], [0.7793698061772802, 1.3419505373823626], [1.0606601717798214, 1.0606601717798214], [1.3419505373823626, 0.7793698061772802], [1.5, 0.39780465000000004], [1.5, 0.0], [1.5, -0.39780465000000004], [1.3419505373823626, -0.7793698061772802], [1.0606601717798214, -1.0606601717798214], [0.7793698061772802, -1.3419505373823626], [0.39780465000000004, -1.5], [0.0, -1.5], [-0.39780465000000004, -1.5], [-0.7793698061772802, -1.3419505373823626], [-1.0606601717798214, -1.0606601717798214], [-1.3419505373823626, -0.7793698061772802], [-1.5, -0.39780465000000004], [-1.5, 0.0], [-1.5, 0.39780465000000004], [-1.3419505373823626, 0.7793698061772802], [-1.0606601717798214, 1.0606601717798214], [-0.7793698061772802, 1.3419505373823626], [-0.39780465000000004, 1.5], [0.0, 1.5]], [\"M\", \"C\", \"C\", \"C\", \"C\", \"C\", \"C\", \"C\", \"C\", \"Z\"]], \"alpha\": 1, \"xindex\": 0, \"data\": \"data01\", \"id\": \"el4956240354752pts\"}], \"id\": \"el4956240353688\", \"ydomain\": [0.0, 70.0], \"collections\": [], \"xscale\": \"linear\", \"bbox\": [0.125, 0.125, 0.77500000000000002, 0.77500000000000002]}], \"height\": 560.0, \"width\": 1200.0, \"plugins\": [{\"type\": \"reset\"}, {\"enabled\": false, \"button\": true, \"type\": \"zoom\"}, {\"enabled\": false, \"button\": true, \"type\": \"boxzoom\"}], \"data\": {\"data01\": [[0.0, 0.0], [0.0, 1.0], [0.0, 2.0], [0.0, 3.0], [1.0, 4.0], [1.0, 5.0], [1.0, 6.0], [1.0, 7.0], [2.0, 8.0], [2.0, 9.0], [2.0, 10.0], [2.0, 11.0], [3.0, 12.0], [3.0, 13.0], [3.0, 14.0], [3.0, 15.0], [4.0, 16.0], [4.0, 17.0], [4.0, 18.0], [4.0, 9.0], [5.0, 19.0], [5.0, 20.0], [5.0, 21.0], [5.0, 22.0], [6.0, 23.0], [6.0, 24.0], [6.0, 25.0], [6.0, 26.0], [7.0, 27.0], [7.0, 28.0], [7.0, 29.0], [7.0, 30.0], [8.0, 31.0], [8.0, 32.0], [8.0, 33.0], [8.0, 24.0], [9.0, 34.0], [9.0, 35.0], [9.0, 33.0], [9.0, 17.0], [10.0, 36.0], [10.0, 20.0], [10.0, 37.0], [10.0, 38.0], [11.0, 39.0], [11.0, 40.0], [11.0, 41.0], [11.0, 42.0], [12.0, 43.0], [12.0, 44.0], [12.0, 45.0], [12.0, 46.0], [13.0, 47.0], [13.0, 48.0], [13.0, 49.0], [13.0, 50.0], [14.0, 37.0], [14.0, 51.0], [14.0, 52.0], [14.0, 53.0], [15.0, 54.0], [15.0, 55.0], [15.0, 56.0], [15.0, 13.0], [16.0, 57.0], [16.0, 58.0], [16.0, 59.0], [16.0, 60.0], [17.0, 61.0], [17.0, 16.0], [17.0, 62.0], [17.0, 8.0], [18.0, 63.0], [18.0, 22.0], [18.0, 54.0], [18.0, 64.0], [19.0, 65.0], [19.0, 66.0], [19.0, 67.0], [19.0, 63.0]]}, \"id\": \"el4956240356488\"});\n",
        "            })\n",
        "         });\n",
        "}\n",
        "</script>"
       ],
       "metadata": {},
       "output_type": "pyout",
       "prompt_number": 35,
       "text": [
        "<IPython.core.display.HTML at 0xb0756a0>"
       ]
      }
     ],
     "prompt_number": 35
    },
    {
     "cell_type": "heading",
     "level": 1,
     "metadata": {},
     "source": [
      "Cerebro2 Function"
     ]
    },
    {
     "cell_type": "code",
     "collapsed": false,
     "input": [
      "try:\n",
      "    from IPython.html import widgets # Widget definitions\n",
      "    from IPython.display import display # Used to display widgets in the notebook\n",
      "except:\n",
      "    #launch cerebro2 srvers\n",
      "    print \"Cerebro2 servers started with PIDs \"+str(pids[0])+\" and \"+str(pids[1])\n",
      "    print \"Remember to kill them in the command line or in python with os.kill('PID')\"\n",
      "else:\n",
      "    #launch cerebro2 servers\n",
      "    \n",
      "    button = widgets.ButtonWidget()\n",
      "    button.pids = (192,193)#get proper pids\n",
      "    button.description = \"Running with PID \"+str(button.pids[0])+\" and \"+str(button.pids[1])+\". Click To Shutdown\"\n",
      "\n",
      "    def closeServers(b):\n",
      "        b.description = \"Sending kill command to servers.\"\n",
      "        #kill the processes\n",
      "    \n",
      "    button.on_click(closeServers)\n",
      "    \n",
      "    display(button)"
     ],
     "language": "python",
     "metadata": {},
     "outputs": []
    }
   ],
   "metadata": {}
  }
 ]
}