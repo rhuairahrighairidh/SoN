{
 "metadata": {
  "name": "",
  "signature": "sha256:62c20ae67dd7e698ae226fc13d69fdf8bdb8b875481a41c5c17f3d08b82207ff"
 },
 "nbformat": 3,
 "nbformat_minor": 0,
 "worksheets": [
  {
   "cells": [
    {
     "cell_type": "heading",
     "level": 1,
     "metadata": {},
     "source": [
      "Initialization"
     ]
    },
    {
     "cell_type": "code",
     "collapsed": false,
     "input": [
      "import matplotlib.pyplot as plt\n",
      "import numpy as np\n",
      "%matplotlib inline"
     ],
     "language": "python",
     "metadata": {},
     "outputs": [],
     "prompt_number": 1
    },
    {
     "cell_type": "heading",
     "level": 1,
     "metadata": {},
     "source": [
      "Active Column Plot"
     ]
    },
    {
     "cell_type": "markdown",
     "metadata": {},
     "source": [
      "This plot shows the active cells/columns in a region at each timestep.\n",
      "\n",
      "Time increases to the right. Each horizontal line represents one cell. The dots show when it was active. The dots that lie vertically above each other show the active cells at that time step.\n",
      "\n",
      "All topology has been removed in this plot. The left-most dot on any line shows when that cell was first active."
     ]
    },
    {
     "cell_type": "heading",
     "level": 3,
     "metadata": {},
     "source": [
      "Get a list of all the active columns"
     ]
    },
    {
     "cell_type": "markdown",
     "metadata": {},
     "source": [
      "Fix with proper data loading functions/class. Currently this just loads what ever is in tmp/cerebro2.\n",
      "\n",
      "The data here was produced by the Cerebro2 spatial pooler demo - a small spatial pooler fed with random data."
     ]
    },
    {
     "cell_type": "code",
     "collapsed": false,
     "input": [
      "from cerebro2.patcher import readJSON\n",
      "\n",
      "def getActiveColumns(maxIteration=100):\n",
      "    activeColumns = []\n",
      "    for iteration in range(1,maxIteration+1):\n",
      "        activeColumns.append(readJSON('/tmp/cerebro2/model/states/'+str(iteration)+'/output/active_columns.json',create=False))\n",
      "    return activeColumns"
     ],
     "language": "python",
     "metadata": {},
     "outputs": [],
     "prompt_number": 54
    },
    {
     "cell_type": "code",
     "collapsed": false,
     "input": [
      "activeColumns=np.array(getActiveColumns())\n",
      "print activeColumns"
     ],
     "language": "python",
     "metadata": {},
     "outputs": [
      {
       "output_type": "stream",
       "stream": "stdout",
       "text": [
        "[[15 22 26 28 37]\n",
        " [ 0  9 18 37 48]\n",
        " [ 9 13 22 35 37]\n",
        " [ 4  9 11 25 26]\n",
        " [ 5 11 15 22 26]\n",
        " [ 9 13 14 15 40]\n",
        " [ 5 10 15 40 43]\n",
        " [ 8 18 22 28 40]\n",
        " [ 9 18 25 40 48]\n",
        " [ 4  9 22 40 43]\n",
        " [ 5 15 25 37 43]\n",
        " [ 4  5 20 22 48]\n",
        " [ 4  8  9 11 48]\n",
        " [ 4  5  9 11 23]\n",
        " [ 9 18 22 34 48]\n",
        " [ 4  9 18 40 48]\n",
        " [ 9 10 11 40 48]\n",
        " [ 2  9 23 43 48]\n",
        " [ 5 11 14 25 48]\n",
        " [ 2 11 40 43 48]\n",
        " [ 9 10 23 43 48]\n",
        " [ 4 11 23 25 43]\n",
        " [22 23 30 40 43]\n",
        " [ 9 22 23 25 26]\n",
        " [10 22 23 25 26]\n",
        " [ 5 11 22 23 43]\n",
        " [ 4  9 23 26 48]\n",
        " [ 4 14 15 25 26]\n",
        " [ 4 14 15 22 43]\n",
        " [ 5 11 22 26 48]\n",
        " [ 5  9 14 15 25]\n",
        " [ 4  9 25 40 43]\n",
        " [ 5  9 15 25 40]\n",
        " [ 4  5 15 23 26]\n",
        " [ 4  9 14 20 26]\n",
        " [ 2  9 22 40 48]\n",
        " [ 2  9 15 23 26]\n",
        " [ 5  9 15 23 28]\n",
        " [ 9 14 20 26 40]\n",
        " [15 18 40 43 48]\n",
        " [18 23 26 30 43]\n",
        " [ 4 15 26 40 48]\n",
        " [ 5  9 18 26 48]\n",
        " [ 4 14 15 26 43]\n",
        " [ 5 15 22 23 26]\n",
        " [ 2  4  9 23 40]\n",
        " [ 2 10 18 22 23]\n",
        " [11 18 23 43 48]\n",
        " [23 25 30 40 43]\n",
        " [ 4  9 11 26 40]\n",
        " [15 23 30 43 48]\n",
        " [ 3 12 21 27 33]\n",
        " [ 7 24 42 46 47]\n",
        " [ 6 36 39 44 45]\n",
        " [ 1 17 19 41 49]\n",
        " [16 29 31 32 38]\n",
        " [11 20 23 40 43]\n",
        " [ 2  4 20 26 43]\n",
        " [18 23 26 42 43]\n",
        " [ 4 15 23 26 43]\n",
        " [ 4  9 22 30 40]\n",
        " [ 2  4  9 18 40]\n",
        " [18 22 23 30 38]\n",
        " [ 9 11 23 30 48]\n",
        " [ 4 14 15 23 37]\n",
        " [11 15 23 26 48]\n",
        " [ 9 10 15 26 40]\n",
        " [11 18 20 23 30]\n",
        " [ 9 20 30 37 40]\n",
        " [14 18 30 40 48]\n",
        " [ 4  9 26 37 40]\n",
        " [ 4  9 15 40 48]\n",
        " [11 14 22 23 48]\n",
        " [20 23 30 40 48]\n",
        " [ 5 14 15 18 26]\n",
        " [ 4 18 20 40 48]\n",
        " [ 5 11 14 18 40]\n",
        " [ 4 11 18 30 48]\n",
        " [ 5 14 15 20 30]\n",
        " [22 26 37 38 48]\n",
        " [ 4  5 15 22 23]\n",
        " [ 2  4 18 45 48]\n",
        " [ 4  5 15 26 30]\n",
        " [ 9 15 20 22 30]\n",
        " [11 14 16 20 34]\n",
        " [ 4  9 10 18 23]\n",
        " [15 23 25 40 48]\n",
        " [ 4 14 16 24 26]\n",
        " [10 14 16 40 48]\n",
        " [ 4 18 26 43 48]\n",
        " [ 2 10 15 18 48]\n",
        " [ 5 18 30 40 43]\n",
        " [ 4 11 30 43 48]\n",
        " [ 9 10 11 15 40]\n",
        " [ 4  5 15 43 45]\n",
        " [ 4  5 11 15 45]\n",
        " [ 9 20 23 30 48]\n",
        " [14 15 18 25 26]\n",
        " [ 5 22 26 30 43]\n",
        " [ 5 14 15 23 43]]\n"
       ]
      }
     ],
     "prompt_number": 55
    },
    {
     "cell_type": "heading",
     "level": 3,
     "metadata": {},
     "source": [
      "Convert the list of active columns into X,Y coordinates"
     ]
    },
    {
     "cell_type": "markdown",
     "metadata": {},
     "source": [
      "Each active column is plotted as a point. The x value for each point is the iteration."
     ]
    },
    {
     "cell_type": "markdown",
     "metadata": {},
     "source": [
      "Fix this: this won't work if the number of active columns varies with time"
     ]
    },
    {
     "cell_type": "code",
     "collapsed": false,
     "input": [
      "xValues=np.array([range(activeColumns.shape[0])])\n",
      "xValues=np.repeat(xValues.T,activeColumns.shape[1],axis=1)\n",
      "print xValues"
     ],
     "language": "python",
     "metadata": {},
     "outputs": [
      {
       "output_type": "stream",
       "stream": "stdout",
       "text": [
        "[[ 0  0  0  0  0]\n",
        " [ 1  1  1  1  1]\n",
        " [ 2  2  2  2  2]\n",
        " [ 3  3  3  3  3]\n",
        " [ 4  4  4  4  4]\n",
        " [ 5  5  5  5  5]\n",
        " [ 6  6  6  6  6]\n",
        " [ 7  7  7  7  7]\n",
        " [ 8  8  8  8  8]\n",
        " [ 9  9  9  9  9]\n",
        " [10 10 10 10 10]\n",
        " [11 11 11 11 11]\n",
        " [12 12 12 12 12]\n",
        " [13 13 13 13 13]\n",
        " [14 14 14 14 14]\n",
        " [15 15 15 15 15]\n",
        " [16 16 16 16 16]\n",
        " [17 17 17 17 17]\n",
        " [18 18 18 18 18]\n",
        " [19 19 19 19 19]\n",
        " [20 20 20 20 20]\n",
        " [21 21 21 21 21]\n",
        " [22 22 22 22 22]\n",
        " [23 23 23 23 23]\n",
        " [24 24 24 24 24]\n",
        " [25 25 25 25 25]\n",
        " [26 26 26 26 26]\n",
        " [27 27 27 27 27]\n",
        " [28 28 28 28 28]\n",
        " [29 29 29 29 29]\n",
        " [30 30 30 30 30]\n",
        " [31 31 31 31 31]\n",
        " [32 32 32 32 32]\n",
        " [33 33 33 33 33]\n",
        " [34 34 34 34 34]\n",
        " [35 35 35 35 35]\n",
        " [36 36 36 36 36]\n",
        " [37 37 37 37 37]\n",
        " [38 38 38 38 38]\n",
        " [39 39 39 39 39]\n",
        " [40 40 40 40 40]\n",
        " [41 41 41 41 41]\n",
        " [42 42 42 42 42]\n",
        " [43 43 43 43 43]\n",
        " [44 44 44 44 44]\n",
        " [45 45 45 45 45]\n",
        " [46 46 46 46 46]\n",
        " [47 47 47 47 47]\n",
        " [48 48 48 48 48]\n",
        " [49 49 49 49 49]\n",
        " [50 50 50 50 50]\n",
        " [51 51 51 51 51]\n",
        " [52 52 52 52 52]\n",
        " [53 53 53 53 53]\n",
        " [54 54 54 54 54]\n",
        " [55 55 55 55 55]\n",
        " [56 56 56 56 56]\n",
        " [57 57 57 57 57]\n",
        " [58 58 58 58 58]\n",
        " [59 59 59 59 59]\n",
        " [60 60 60 60 60]\n",
        " [61 61 61 61 61]\n",
        " [62 62 62 62 62]\n",
        " [63 63 63 63 63]\n",
        " [64 64 64 64 64]\n",
        " [65 65 65 65 65]\n",
        " [66 66 66 66 66]\n",
        " [67 67 67 67 67]\n",
        " [68 68 68 68 68]\n",
        " [69 69 69 69 69]\n",
        " [70 70 70 70 70]\n",
        " [71 71 71 71 71]\n",
        " [72 72 72 72 72]\n",
        " [73 73 73 73 73]\n",
        " [74 74 74 74 74]\n",
        " [75 75 75 75 75]\n",
        " [76 76 76 76 76]\n",
        " [77 77 77 77 77]\n",
        " [78 78 78 78 78]\n",
        " [79 79 79 79 79]\n",
        " [80 80 80 80 80]\n",
        " [81 81 81 81 81]\n",
        " [82 82 82 82 82]\n",
        " [83 83 83 83 83]\n",
        " [84 84 84 84 84]\n",
        " [85 85 85 85 85]\n",
        " [86 86 86 86 86]\n",
        " [87 87 87 87 87]\n",
        " [88 88 88 88 88]\n",
        " [89 89 89 89 89]\n",
        " [90 90 90 90 90]\n",
        " [91 91 91 91 91]\n",
        " [92 92 92 92 92]\n",
        " [93 93 93 93 93]\n",
        " [94 94 94 94 94]\n",
        " [95 95 95 95 95]\n",
        " [96 96 96 96 96]\n",
        " [97 97 97 97 97]\n",
        " [98 98 98 98 98]\n",
        " [99 99 99 99 99]]\n"
       ]
      }
     ],
     "prompt_number": 61
    },
    {
     "cell_type": "markdown",
     "metadata": {},
     "source": [
      "Get the y values for each active column. The y value is the iteration when that column was first active."
     ]
    },
    {
     "cell_type": "code",
     "collapsed": false,
     "input": [
      "def transformActiveColumnIndexes(activeColumns):\n",
      "    \n",
      "    pastIndexes = []\n",
      "    yValues = []\n",
      "    for activeColumn in activeColumns.flatten():\n",
      "        if activeColumn not in pastIndexes:\n",
      "            pastIndexes.append(activeColumn)\n",
      "        yValue = pastIndexes.index(activeColumn)\n",
      "        yValues.append(yValue)\n",
      "        \n",
      "    return yValues"
     ],
     "language": "python",
     "metadata": {},
     "outputs": [],
     "prompt_number": 50
    },
    {
     "cell_type": "heading",
     "level": 3,
     "metadata": {},
     "source": [
      "Draw the plot"
     ]
    },
    {
     "cell_type": "code",
     "collapsed": false,
     "input": [
      "(figure,axes) = plt.subplots()\n",
      "\n",
      "axes.plot(xValues.flatten(),transformActiveColumnIndexes(activeColumns),'o')\n",
      "axes.minorticks_on()\n",
      "axes.grid(b=True,axis='y',which='both',linestyle='solid',color=(0.6,0.6,0.6))\n",
      "figure.set_size_inches(14,6)"
     ],
     "language": "python",
     "metadata": {},
     "outputs": [
      {
       "metadata": {},
       "output_type": "display_data",
       "png": "[encoded data removed]",
       "text": [
        "<matplotlib.figure.Figure at 0xaf55b12c>"
       ]
      }
     ],
     "prompt_number": 67
    },
    {
     "cell_type": "markdown",
     "metadata": {},
     "source": [
      "Whats going on in the middle? - boosting?"
     ]
    },
    {
     "cell_type": "heading",
     "level": 3,
     "metadata": {},
     "source": [
      "Draw a D3 version of the above plot"
     ]
    },
    {
     "cell_type": "markdown",
     "metadata": {},
     "source": [
      "This package will hopefully allow interactivity.\n",
      "\n",
      "Formatting isn't precisely replicated"
     ]
    },
    {
     "cell_type": "code",
     "collapsed": false,
     "input": [
      "import mpld3"
     ],
     "language": "python",
     "metadata": {},
     "outputs": [],
     "prompt_number": 52
    },
    {
     "cell_type": "code",
     "collapsed": false,
     "input": [
      "mpld3.display(figure)"
     ],
     "language": "python",
     "metadata": {},
     "outputs": [
      {
       "html": [
        "\n",
        "\n",
        "<style>\n",
        "\n",
        "</style>\n",
        "\n",
        "<div id=\"fig_el1424329416287169968130467\"></div>\n",
        "<script>\n",
        "function mpld3_load_lib(url, callback){\n",
        "  var s = document.createElement('script');\n",
        "  s.src = url;\n",
        "  s.async = true;\n",
        "  s.onreadystatechange = s.onload = callback;\n",
        "  s.onerror = function(){console.warn(\"failed to load library \" + url);};\n",
        "  document.getElementsByTagName(\"head\")[0].appendChild(s);\n",
        "}\n",
        "\n",
        "if(typeof(mpld3) !== \"undefined\" && mpld3._mpld3IsLoaded){\n",
        "   // already loaded: just create the figure\n",
        "   !function(mpld3){\n",
        "       \n",
        "       mpld3.draw_figure(\"fig_el1424329416287169968130467\", {\"axes\": [{\"xlim\": [0.0, 100.0], \"yscale\": \"linear\", \"axesbg\": \"#FFFFFF\", \"texts\": [], \"zoomable\": true, \"images\": [], \"xdomain\": [0.0, 100.0], \"ylim\": [0.0, 50.0], \"paths\": [], \"sharey\": [], \"sharex\": [], \"axesbgalpha\": null, \"axes\": [{\"scale\": \"linear\", \"tickformat\": null, \"grid\": {\"gridOn\": false}, \"fontsize\": 10.0, \"position\": \"bottom\", \"nticks\": 6, \"tickvalues\": null}, {\"scale\": \"linear\", \"tickformat\": null, \"grid\": {\"color\": \"#999999\", \"alpha\": 1.0, \"dasharray\": \"10,0\", \"gridOn\": true}, \"fontsize\": 10.0, \"position\": \"left\", \"nticks\": 6, \"tickvalues\": null}], \"lines\": [], \"markers\": [{\"edgecolor\": \"#000000\", \"facecolor\": \"#0000FF\", \"edgewidth\": 0.5, \"yindex\": 1, \"coordinates\": \"data\", \"zorder\": 2, \"markerpath\": [[[0.0, 3.0], [0.7956093000000001, 3.0], [1.5587396123545605, 2.683901074764725], [2.121320343559643, 2.121320343559643], [2.683901074764725, 1.5587396123545605], [3.0, 0.7956093000000001], [3.0, 0.0], [3.0, -0.7956093000000001], [2.683901074764725, -1.5587396123545605], [2.121320343559643, -2.121320343559643], [1.5587396123545605, -2.683901074764725], [0.7956093000000001, -3.0], [0.0, -3.0], [-0.7956093000000001, -3.0], [-1.5587396123545605, -2.683901074764725], [-2.121320343559643, -2.121320343559643], [-2.683901074764725, -1.5587396123545605], [-3.0, -0.7956093000000001], [-3.0, 0.0], [-3.0, 0.7956093000000001], [-2.683901074764725, 1.5587396123545605], [-2.121320343559643, 2.121320343559643], [-1.5587396123545605, 2.683901074764725], [-0.7956093000000001, 3.0], [0.0, 3.0]], [\"M\", \"C\", \"C\", \"C\", \"C\", \"C\", \"C\", \"C\", \"C\", \"Z\"]], \"alpha\": 1, \"xindex\": 0, \"data\": \"data01\", \"id\": \"el142432942976172pts\"}], \"id\": \"el142432942509772\", \"ydomain\": [0.0, 50.0], \"collections\": [], \"xscale\": \"linear\", \"bbox\": [0.125, 0.125, 0.77500000000000002, 0.77500000000000002]}], \"height\": 480.0, \"width\": 1120.0, \"plugins\": [{\"type\": \"reset\"}, {\"enabled\": false, \"button\": true, \"type\": \"zoom\"}, {\"enabled\": false, \"button\": true, \"type\": \"boxzoom\"}], \"data\": {\"data01\": [[0.0, 0.0], [0.0, 1.0], [0.0, 2.0], [0.0, 3.0], [0.0, 4.0], [1.0, 5.0], [1.0, 6.0], [1.0, 7.0], [1.0, 4.0], [1.0, 8.0], [2.0, 6.0], [2.0, 9.0], [2.0, 1.0], [2.0, 10.0], [2.0, 4.0], [3.0, 11.0], [3.0, 6.0], [3.0, 12.0], [3.0, 13.0], [3.0, 2.0], [4.0, 14.0], [4.0, 12.0], [4.0, 0.0], [4.0, 1.0], [4.0, 2.0], [5.0, 6.0], [5.0, 9.0], [5.0, 15.0], [5.0, 0.0], [5.0, 16.0], [6.0, 14.0], [6.0, 17.0], [6.0, 0.0], [6.0, 16.0], [6.0, 18.0], [7.0, 19.0], [7.0, 7.0], [7.0, 1.0], [7.0, 3.0], [7.0, 16.0], [8.0, 6.0], [8.0, 7.0], [8.0, 13.0], [8.0, 16.0], [8.0, 8.0], [9.0, 11.0], [9.0, 6.0], [9.0, 1.0], [9.0, 16.0], [9.0, 18.0], [10.0, 14.0], [10.0, 0.0], [10.0, 13.0], [10.0, 4.0], [10.0, 18.0], [11.0, 11.0], [11.0, 14.0], [11.0, 20.0], [11.0, 1.0], [11.0, 8.0], [12.0, 11.0], [12.0, 19.0], [12.0, 6.0], [12.0, 12.0], [12.0, 8.0], [13.0, 11.0], [13.0, 14.0], [13.0, 6.0], [13.0, 12.0], [13.0, 21.0], [14.0, 6.0], [14.0, 7.0], [14.0, 1.0], [14.0, 22.0], [14.0, 8.0], [15.0, 11.0], [15.0, 6.0], [15.0, 7.0], [15.0, 16.0], [15.0, 8.0], [16.0, 6.0], [16.0, 17.0], [16.0, 12.0], [16.0, 16.0], [16.0, 8.0], [17.0, 23.0], [17.0, 6.0], [17.0, 21.0], [17.0, 18.0], [17.0, 8.0], [18.0, 14.0], [18.0, 12.0], [18.0, 15.0], [18.0, 13.0], [18.0, 8.0], [19.0, 23.0], [19.0, 12.0], [19.0, 16.0], [19.0, 18.0], [19.0, 8.0], [20.0, 6.0], [20.0, 17.0], [20.0, 21.0], [20.0, 18.0], [20.0, 8.0], [21.0, 11.0], [21.0, 12.0], [21.0, 21.0], [21.0, 13.0], [21.0, 18.0], [22.0, 1.0], [22.0, 21.0], [22.0, 24.0], [22.0, 16.0], [22.0, 18.0], [23.0, 6.0], [23.0, 1.0], [23.0, 21.0], [23.0, 13.0], [23.0, 2.0], [24.0, 17.0], [24.0, 1.0], [24.0, 21.0], [24.0, 13.0], [24.0, 2.0], [25.0, 14.0], [25.0, 12.0], [25.0, 1.0], [25.0, 21.0], [25.0, 18.0], [26.0, 11.0], [26.0, 6.0], [26.0, 21.0], [26.0, 2.0], [26.0, 8.0], [27.0, 11.0], [27.0, 15.0], [27.0, 0.0], [27.0, 13.0], [27.0, 2.0], [28.0, 11.0], [28.0, 15.0], [28.0, 0.0], [28.0, 1.0], [28.0, 18.0], [29.0, 14.0], [29.0, 12.0], [29.0, 1.0], [29.0, 2.0], [29.0, 8.0], [30.0, 14.0], [30.0, 6.0], [30.0, 15.0], [30.0, 0.0], [30.0, 13.0], [31.0, 11.0], [31.0, 6.0], [31.0, 13.0], [31.0, 16.0], [31.0, 18.0], [32.0, 14.0], [32.0, 6.0], [32.0, 0.0], [32.0, 13.0], [32.0, 16.0], [33.0, 11.0], [33.0, 14.0], [33.0, 0.0], [33.0, 21.0], [33.0, 2.0], [34.0, 11.0], [34.0, 6.0], [34.0, 15.0], [34.0, 20.0], [34.0, 2.0], [35.0, 23.0], [35.0, 6.0], [35.0, 1.0], [35.0, 16.0], [35.0, 8.0], [36.0, 23.0], [36.0, 6.0], [36.0, 0.0], [36.0, 21.0], [36.0, 2.0], [37.0, 14.0], [37.0, 6.0], [37.0, 0.0], [37.0, 21.0], [37.0, 3.0], [38.0, 6.0], [38.0, 15.0], [38.0, 20.0], [38.0, 2.0], [38.0, 16.0], [39.0, 0.0], [39.0, 7.0], [39.0, 16.0], [39.0, 18.0], [39.0, 8.0], [40.0, 7.0], [40.0, 21.0], [40.0, 2.0], [40.0, 24.0], [40.0, 18.0], [41.0, 11.0], [41.0, 0.0], [41.0, 2.0], [41.0, 16.0], [41.0, 8.0], [42.0, 14.0], [42.0, 6.0], [42.0, 7.0], [42.0, 2.0], [42.0, 8.0], [43.0, 11.0], [43.0, 15.0], [43.0, 0.0], [43.0, 2.0], [43.0, 18.0], [44.0, 14.0], [44.0, 0.0], [44.0, 1.0], [44.0, 21.0], [44.0, 2.0], [45.0, 23.0], [45.0, 11.0], [45.0, 6.0], [45.0, 21.0], [45.0, 16.0], [46.0, 23.0], [46.0, 17.0], [46.0, 7.0], [46.0, 1.0], [46.0, 21.0], [47.0, 12.0], [47.0, 7.0], [47.0, 21.0], [47.0, 18.0], [47.0, 8.0], [48.0, 21.0], [48.0, 13.0], [48.0, 24.0], [48.0, 16.0], [48.0, 18.0], [49.0, 11.0], [49.0, 6.0], [49.0, 12.0], [49.0, 2.0], [49.0, 16.0], [50.0, 0.0], [50.0, 21.0], [50.0, 24.0], [50.0, 18.0], [50.0, 8.0], [51.0, 25.0], [51.0, 26.0], [51.0, 27.0], [51.0, 28.0], [51.0, 29.0], [52.0, 30.0], [52.0, 31.0], [52.0, 32.0], [52.0, 33.0], [52.0, 34.0], [53.0, 35.0], [53.0, 36.0], [53.0, 37.0], [53.0, 38.0], [53.0, 39.0], [54.0, 40.0], [54.0, 41.0], [54.0, 42.0], [54.0, 43.0], [54.0, 44.0], [55.0, 45.0], [55.0, 46.0], [55.0, 47.0], [55.0, 48.0], [55.0, 49.0], [56.0, 12.0], [56.0, 20.0], [56.0, 21.0], [56.0, 16.0], [56.0, 18.0], [57.0, 23.0], [57.0, 11.0], [57.0, 20.0], [57.0, 2.0], [57.0, 18.0], [58.0, 7.0], [58.0, 21.0], [58.0, 2.0], [58.0, 32.0], [58.0, 18.0], [59.0, 11.0], [59.0, 0.0], [59.0, 21.0], [59.0, 2.0], [59.0, 18.0], [60.0, 11.0], [60.0, 6.0], [60.0, 1.0], [60.0, 24.0], [60.0, 16.0], [61.0, 23.0], [61.0, 11.0], [61.0, 6.0], [61.0, 7.0], [61.0, 16.0], [62.0, 7.0], [62.0, 1.0], [62.0, 21.0], [62.0, 24.0], [62.0, 49.0], [63.0, 6.0], [63.0, 12.0], [63.0, 21.0], [63.0, 24.0], [63.0, 8.0], [64.0, 11.0], [64.0, 15.0], [64.0, 0.0], [64.0, 21.0], [64.0, 4.0], [65.0, 12.0], [65.0, 0.0], [65.0, 21.0], [65.0, 2.0], [65.0, 8.0], [66.0, 6.0], [66.0, 17.0], [66.0, 0.0], [66.0, 2.0], [66.0, 16.0], [67.0, 12.0], [67.0, 7.0], [67.0, 20.0], [67.0, 21.0], [67.0, 24.0], [68.0, 6.0], [68.0, 20.0], [68.0, 24.0], [68.0, 4.0], [68.0, 16.0], [69.0, 15.0], [69.0, 7.0], [69.0, 24.0], [69.0, 16.0], [69.0, 8.0], [70.0, 11.0], [70.0, 6.0], [70.0, 2.0], [70.0, 4.0], [70.0, 16.0], [71.0, 11.0], [71.0, 6.0], [71.0, 0.0], [71.0, 16.0], [71.0, 8.0], [72.0, 12.0], [72.0, 15.0], [72.0, 1.0], [72.0, 21.0], [72.0, 8.0], [73.0, 20.0], [73.0, 21.0], [73.0, 24.0], [73.0, 16.0], [73.0, 8.0], [74.0, 14.0], [74.0, 15.0], [74.0, 0.0], [74.0, 7.0], [74.0, 2.0], [75.0, 11.0], [75.0, 7.0], [75.0, 20.0], [75.0, 16.0], [75.0, 8.0], [76.0, 14.0], [76.0, 12.0], [76.0, 15.0], [76.0, 7.0], [76.0, 16.0], [77.0, 11.0], [77.0, 12.0], [77.0, 7.0], [77.0, 24.0], [77.0, 8.0], [78.0, 14.0], [78.0, 15.0], [78.0, 0.0], [78.0, 20.0], [78.0, 24.0], [79.0, 1.0], [79.0, 2.0], [79.0, 4.0], [79.0, 49.0], [79.0, 8.0], [80.0, 11.0], [80.0, 14.0], [80.0, 0.0], [80.0, 1.0], [80.0, 21.0], [81.0, 23.0], [81.0, 11.0], [81.0, 7.0], [81.0, 39.0], [81.0, 8.0], [82.0, 11.0], [82.0, 14.0], [82.0, 0.0], [82.0, 2.0], [82.0, 24.0], [83.0, 6.0], [83.0, 0.0], [83.0, 20.0], [83.0, 1.0], [83.0, 24.0], [84.0, 12.0], [84.0, 15.0], [84.0, 45.0], [84.0, 20.0], [84.0, 22.0], [85.0, 11.0], [85.0, 6.0], [85.0, 17.0], [85.0, 7.0], [85.0, 21.0], [86.0, 0.0], [86.0, 21.0], [86.0, 13.0], [86.0, 16.0], [86.0, 8.0], [87.0, 11.0], [87.0, 15.0], [87.0, 45.0], [87.0, 31.0], [87.0, 2.0], [88.0, 17.0], [88.0, 15.0], [88.0, 45.0], [88.0, 16.0], [88.0, 8.0], [89.0, 11.0], [89.0, 7.0], [89.0, 2.0], [89.0, 18.0], [89.0, 8.0], [90.0, 23.0], [90.0, 17.0], [90.0, 0.0], [90.0, 7.0], [90.0, 8.0], [91.0, 14.0], [91.0, 7.0], [91.0, 24.0], [91.0, 16.0], [91.0, 18.0], [92.0, 11.0], [92.0, 12.0], [92.0, 24.0], [92.0, 18.0], [92.0, 8.0], [93.0, 6.0], [93.0, 17.0], [93.0, 12.0], [93.0, 0.0], [93.0, 16.0], [94.0, 11.0], [94.0, 14.0], [94.0, 0.0], [94.0, 18.0], [94.0, 39.0], [95.0, 11.0], [95.0, 14.0], [95.0, 12.0], [95.0, 0.0], [95.0, 39.0], [96.0, 6.0], [96.0, 20.0], [96.0, 21.0], [96.0, 24.0], [96.0, 8.0], [97.0, 15.0], [97.0, 0.0], [97.0, 7.0], [97.0, 13.0], [97.0, 2.0], [98.0, 14.0], [98.0, 1.0], [98.0, 2.0], [98.0, 24.0], [98.0, 18.0], [99.0, 14.0], [99.0, 15.0], [99.0, 0.0], [99.0, 21.0], [99.0, 18.0]]}, \"id\": \"el142432941628716\"});\n",
        "   }(mpld3);\n",
        "}else if(typeof define === \"function\" && define.amd){\n",
        "   // require.js is available: use it to load d3/mpld3\n",
        "   require.config({paths: {d3: \"https://mpld3.github.io/js/d3.v3.min\"}});\n",
        "   require([\"d3\"], function(d3){\n",
        "      window.d3 = d3;\n",
        "      mpld3_load_lib(\"https://mpld3.github.io/js/mpld3.v0.2.js\", function(){\n",
        "         \n",
        "         mpld3.draw_figure(\"fig_el1424329416287169968130467\", {\"axes\": [{\"xlim\": [0.0, 100.0], \"yscale\": \"linear\", \"axesbg\": \"#FFFFFF\", \"texts\": [], \"zoomable\": true, \"images\": [], \"xdomain\": [0.0, 100.0], \"ylim\": [0.0, 50.0], \"paths\": [], \"sharey\": [], \"sharex\": [], \"axesbgalpha\": null, \"axes\": [{\"scale\": \"linear\", \"tickformat\": null, \"grid\": {\"gridOn\": false}, \"fontsize\": 10.0, \"position\": \"bottom\", \"nticks\": 6, \"tickvalues\": null}, {\"scale\": \"linear\", \"tickformat\": null, \"grid\": {\"color\": \"#999999\", \"alpha\": 1.0, \"dasharray\": \"10,0\", \"gridOn\": true}, \"fontsize\": 10.0, \"position\": \"left\", \"nticks\": 6, \"tickvalues\": null}], \"lines\": [], \"markers\": [{\"edgecolor\": \"#000000\", \"facecolor\": \"#0000FF\", \"edgewidth\": 0.5, \"yindex\": 1, \"coordinates\": \"data\", \"zorder\": 2, \"markerpath\": [[[0.0, 3.0], [0.7956093000000001, 3.0], [1.5587396123545605, 2.683901074764725], [2.121320343559643, 2.121320343559643], [2.683901074764725, 1.5587396123545605], [3.0, 0.7956093000000001], [3.0, 0.0], [3.0, -0.7956093000000001], [2.683901074764725, -1.5587396123545605], [2.121320343559643, -2.121320343559643], [1.5587396123545605, -2.683901074764725], [0.7956093000000001, -3.0], [0.0, -3.0], [-0.7956093000000001, -3.0], [-1.5587396123545605, -2.683901074764725], [-2.121320343559643, -2.121320343559643], [-2.683901074764725, -1.5587396123545605], [-3.0, -0.7956093000000001], [-3.0, 0.0], [-3.0, 0.7956093000000001], [-2.683901074764725, 1.5587396123545605], [-2.121320343559643, 2.121320343559643], [-1.5587396123545605, 2.683901074764725], [-0.7956093000000001, 3.0], [0.0, 3.0]], [\"M\", \"C\", \"C\", \"C\", \"C\", \"C\", \"C\", \"C\", \"C\", \"Z\"]], \"alpha\": 1, \"xindex\": 0, \"data\": \"data01\", \"id\": \"el142432942976172pts\"}], \"id\": \"el142432942509772\", \"ydomain\": [0.0, 50.0], \"collections\": [], \"xscale\": \"linear\", \"bbox\": [0.125, 0.125, 0.77500000000000002, 0.77500000000000002]}], \"height\": 480.0, \"width\": 1120.0, \"plugins\": [{\"type\": \"reset\"}, {\"enabled\": false, \"button\": true, \"type\": \"zoom\"}, {\"enabled\": false, \"button\": true, \"type\": \"boxzoom\"}], \"data\": {\"data01\": [[0.0, 0.0], [0.0, 1.0], [0.0, 2.0], [0.0, 3.0], [0.0, 4.0], [1.0, 5.0], [1.0, 6.0], [1.0, 7.0], [1.0, 4.0], [1.0, 8.0], [2.0, 6.0], [2.0, 9.0], [2.0, 1.0], [2.0, 10.0], [2.0, 4.0], [3.0, 11.0], [3.0, 6.0], [3.0, 12.0], [3.0, 13.0], [3.0, 2.0], [4.0, 14.0], [4.0, 12.0], [4.0, 0.0], [4.0, 1.0], [4.0, 2.0], [5.0, 6.0], [5.0, 9.0], [5.0, 15.0], [5.0, 0.0], [5.0, 16.0], [6.0, 14.0], [6.0, 17.0], [6.0, 0.0], [6.0, 16.0], [6.0, 18.0], [7.0, 19.0], [7.0, 7.0], [7.0, 1.0], [7.0, 3.0], [7.0, 16.0], [8.0, 6.0], [8.0, 7.0], [8.0, 13.0], [8.0, 16.0], [8.0, 8.0], [9.0, 11.0], [9.0, 6.0], [9.0, 1.0], [9.0, 16.0], [9.0, 18.0], [10.0, 14.0], [10.0, 0.0], [10.0, 13.0], [10.0, 4.0], [10.0, 18.0], [11.0, 11.0], [11.0, 14.0], [11.0, 20.0], [11.0, 1.0], [11.0, 8.0], [12.0, 11.0], [12.0, 19.0], [12.0, 6.0], [12.0, 12.0], [12.0, 8.0], [13.0, 11.0], [13.0, 14.0], [13.0, 6.0], [13.0, 12.0], [13.0, 21.0], [14.0, 6.0], [14.0, 7.0], [14.0, 1.0], [14.0, 22.0], [14.0, 8.0], [15.0, 11.0], [15.0, 6.0], [15.0, 7.0], [15.0, 16.0], [15.0, 8.0], [16.0, 6.0], [16.0, 17.0], [16.0, 12.0], [16.0, 16.0], [16.0, 8.0], [17.0, 23.0], [17.0, 6.0], [17.0, 21.0], [17.0, 18.0], [17.0, 8.0], [18.0, 14.0], [18.0, 12.0], [18.0, 15.0], [18.0, 13.0], [18.0, 8.0], [19.0, 23.0], [19.0, 12.0], [19.0, 16.0], [19.0, 18.0], [19.0, 8.0], [20.0, 6.0], [20.0, 17.0], [20.0, 21.0], [20.0, 18.0], [20.0, 8.0], [21.0, 11.0], [21.0, 12.0], [21.0, 21.0], [21.0, 13.0], [21.0, 18.0], [22.0, 1.0], [22.0, 21.0], [22.0, 24.0], [22.0, 16.0], [22.0, 18.0], [23.0, 6.0], [23.0, 1.0], [23.0, 21.0], [23.0, 13.0], [23.0, 2.0], [24.0, 17.0], [24.0, 1.0], [24.0, 21.0], [24.0, 13.0], [24.0, 2.0], [25.0, 14.0], [25.0, 12.0], [25.0, 1.0], [25.0, 21.0], [25.0, 18.0], [26.0, 11.0], [26.0, 6.0], [26.0, 21.0], [26.0, 2.0], [26.0, 8.0], [27.0, 11.0], [27.0, 15.0], [27.0, 0.0], [27.0, 13.0], [27.0, 2.0], [28.0, 11.0], [28.0, 15.0], [28.0, 0.0], [28.0, 1.0], [28.0, 18.0], [29.0, 14.0], [29.0, 12.0], [29.0, 1.0], [29.0, 2.0], [29.0, 8.0], [30.0, 14.0], [30.0, 6.0], [30.0, 15.0], [30.0, 0.0], [30.0, 13.0], [31.0, 11.0], [31.0, 6.0], [31.0, 13.0], [31.0, 16.0], [31.0, 18.0], [32.0, 14.0], [32.0, 6.0], [32.0, 0.0], [32.0, 13.0], [32.0, 16.0], [33.0, 11.0], [33.0, 14.0], [33.0, 0.0], [33.0, 21.0], [33.0, 2.0], [34.0, 11.0], [34.0, 6.0], [34.0, 15.0], [34.0, 20.0], [34.0, 2.0], [35.0, 23.0], [35.0, 6.0], [35.0, 1.0], [35.0, 16.0], [35.0, 8.0], [36.0, 23.0], [36.0, 6.0], [36.0, 0.0], [36.0, 21.0], [36.0, 2.0], [37.0, 14.0], [37.0, 6.0], [37.0, 0.0], [37.0, 21.0], [37.0, 3.0], [38.0, 6.0], [38.0, 15.0], [38.0, 20.0], [38.0, 2.0], [38.0, 16.0], [39.0, 0.0], [39.0, 7.0], [39.0, 16.0], [39.0, 18.0], [39.0, 8.0], [40.0, 7.0], [40.0, 21.0], [40.0, 2.0], [40.0, 24.0], [40.0, 18.0], [41.0, 11.0], [41.0, 0.0], [41.0, 2.0], [41.0, 16.0], [41.0, 8.0], [42.0, 14.0], [42.0, 6.0], [42.0, 7.0], [42.0, 2.0], [42.0, 8.0], [43.0, 11.0], [43.0, 15.0], [43.0, 0.0], [43.0, 2.0], [43.0, 18.0], [44.0, 14.0], [44.0, 0.0], [44.0, 1.0], [44.0, 21.0], [44.0, 2.0], [45.0, 23.0], [45.0, 11.0], [45.0, 6.0], [45.0, 21.0], [45.0, 16.0], [46.0, 23.0], [46.0, 17.0], [46.0, 7.0], [46.0, 1.0], [46.0, 21.0], [47.0, 12.0], [47.0, 7.0], [47.0, 21.0], [47.0, 18.0], [47.0, 8.0], [48.0, 21.0], [48.0, 13.0], [48.0, 24.0], [48.0, 16.0], [48.0, 18.0], [49.0, 11.0], [49.0, 6.0], [49.0, 12.0], [49.0, 2.0], [49.0, 16.0], [50.0, 0.0], [50.0, 21.0], [50.0, 24.0], [50.0, 18.0], [50.0, 8.0], [51.0, 25.0], [51.0, 26.0], [51.0, 27.0], [51.0, 28.0], [51.0, 29.0], [52.0, 30.0], [52.0, 31.0], [52.0, 32.0], [52.0, 33.0], [52.0, 34.0], [53.0, 35.0], [53.0, 36.0], [53.0, 37.0], [53.0, 38.0], [53.0, 39.0], [54.0, 40.0], [54.0, 41.0], [54.0, 42.0], [54.0, 43.0], [54.0, 44.0], [55.0, 45.0], [55.0, 46.0], [55.0, 47.0], [55.0, 48.0], [55.0, 49.0], [56.0, 12.0], [56.0, 20.0], [56.0, 21.0], [56.0, 16.0], [56.0, 18.0], [57.0, 23.0], [57.0, 11.0], [57.0, 20.0], [57.0, 2.0], [57.0, 18.0], [58.0, 7.0], [58.0, 21.0], [58.0, 2.0], [58.0, 32.0], [58.0, 18.0], [59.0, 11.0], [59.0, 0.0], [59.0, 21.0], [59.0, 2.0], [59.0, 18.0], [60.0, 11.0], [60.0, 6.0], [60.0, 1.0], [60.0, 24.0], [60.0, 16.0], [61.0, 23.0], [61.0, 11.0], [61.0, 6.0], [61.0, 7.0], [61.0, 16.0], [62.0, 7.0], [62.0, 1.0], [62.0, 21.0], [62.0, 24.0], [62.0, 49.0], [63.0, 6.0], [63.0, 12.0], [63.0, 21.0], [63.0, 24.0], [63.0, 8.0], [64.0, 11.0], [64.0, 15.0], [64.0, 0.0], [64.0, 21.0], [64.0, 4.0], [65.0, 12.0], [65.0, 0.0], [65.0, 21.0], [65.0, 2.0], [65.0, 8.0], [66.0, 6.0], [66.0, 17.0], [66.0, 0.0], [66.0, 2.0], [66.0, 16.0], [67.0, 12.0], [67.0, 7.0], [67.0, 20.0], [67.0, 21.0], [67.0, 24.0], [68.0, 6.0], [68.0, 20.0], [68.0, 24.0], [68.0, 4.0], [68.0, 16.0], [69.0, 15.0], [69.0, 7.0], [69.0, 24.0], [69.0, 16.0], [69.0, 8.0], [70.0, 11.0], [70.0, 6.0], [70.0, 2.0], [70.0, 4.0], [70.0, 16.0], [71.0, 11.0], [71.0, 6.0], [71.0, 0.0], [71.0, 16.0], [71.0, 8.0], [72.0, 12.0], [72.0, 15.0], [72.0, 1.0], [72.0, 21.0], [72.0, 8.0], [73.0, 20.0], [73.0, 21.0], [73.0, 24.0], [73.0, 16.0], [73.0, 8.0], [74.0, 14.0], [74.0, 15.0], [74.0, 0.0], [74.0, 7.0], [74.0, 2.0], [75.0, 11.0], [75.0, 7.0], [75.0, 20.0], [75.0, 16.0], [75.0, 8.0], [76.0, 14.0], [76.0, 12.0], [76.0, 15.0], [76.0, 7.0], [76.0, 16.0], [77.0, 11.0], [77.0, 12.0], [77.0, 7.0], [77.0, 24.0], [77.0, 8.0], [78.0, 14.0], [78.0, 15.0], [78.0, 0.0], [78.0, 20.0], [78.0, 24.0], [79.0, 1.0], [79.0, 2.0], [79.0, 4.0], [79.0, 49.0], [79.0, 8.0], [80.0, 11.0], [80.0, 14.0], [80.0, 0.0], [80.0, 1.0], [80.0, 21.0], [81.0, 23.0], [81.0, 11.0], [81.0, 7.0], [81.0, 39.0], [81.0, 8.0], [82.0, 11.0], [82.0, 14.0], [82.0, 0.0], [82.0, 2.0], [82.0, 24.0], [83.0, 6.0], [83.0, 0.0], [83.0, 20.0], [83.0, 1.0], [83.0, 24.0], [84.0, 12.0], [84.0, 15.0], [84.0, 45.0], [84.0, 20.0], [84.0, 22.0], [85.0, 11.0], [85.0, 6.0], [85.0, 17.0], [85.0, 7.0], [85.0, 21.0], [86.0, 0.0], [86.0, 21.0], [86.0, 13.0], [86.0, 16.0], [86.0, 8.0], [87.0, 11.0], [87.0, 15.0], [87.0, 45.0], [87.0, 31.0], [87.0, 2.0], [88.0, 17.0], [88.0, 15.0], [88.0, 45.0], [88.0, 16.0], [88.0, 8.0], [89.0, 11.0], [89.0, 7.0], [89.0, 2.0], [89.0, 18.0], [89.0, 8.0], [90.0, 23.0], [90.0, 17.0], [90.0, 0.0], [90.0, 7.0], [90.0, 8.0], [91.0, 14.0], [91.0, 7.0], [91.0, 24.0], [91.0, 16.0], [91.0, 18.0], [92.0, 11.0], [92.0, 12.0], [92.0, 24.0], [92.0, 18.0], [92.0, 8.0], [93.0, 6.0], [93.0, 17.0], [93.0, 12.0], [93.0, 0.0], [93.0, 16.0], [94.0, 11.0], [94.0, 14.0], [94.0, 0.0], [94.0, 18.0], [94.0, 39.0], [95.0, 11.0], [95.0, 14.0], [95.0, 12.0], [95.0, 0.0], [95.0, 39.0], [96.0, 6.0], [96.0, 20.0], [96.0, 21.0], [96.0, 24.0], [96.0, 8.0], [97.0, 15.0], [97.0, 0.0], [97.0, 7.0], [97.0, 13.0], [97.0, 2.0], [98.0, 14.0], [98.0, 1.0], [98.0, 2.0], [98.0, 24.0], [98.0, 18.0], [99.0, 14.0], [99.0, 15.0], [99.0, 0.0], [99.0, 21.0], [99.0, 18.0]]}, \"id\": \"el142432941628716\"});\n",
        "      });\n",
        "    });\n",
        "}else{\n",
        "    // require.js not available: dynamically load d3 & mpld3\n",
        "    mpld3_load_lib(\"https://mpld3.github.io/js/d3.v3.min.js\", function(){\n",
        "         mpld3_load_lib(\"https://mpld3.github.io/js/mpld3.v0.2.js\", function(){\n",
        "                 \n",
        "                 mpld3.draw_figure(\"fig_el1424329416287169968130467\", {\"axes\": [{\"xlim\": [0.0, 100.0], \"yscale\": \"linear\", \"axesbg\": \"#FFFFFF\", \"texts\": [], \"zoomable\": true, \"images\": [], \"xdomain\": [0.0, 100.0], \"ylim\": [0.0, 50.0], \"paths\": [], \"sharey\": [], \"sharex\": [], \"axesbgalpha\": null, \"axes\": [{\"scale\": \"linear\", \"tickformat\": null, \"grid\": {\"gridOn\": false}, \"fontsize\": 10.0, \"position\": \"bottom\", \"nticks\": 6, \"tickvalues\": null}, {\"scale\": \"linear\", \"tickformat\": null, \"grid\": {\"color\": \"#999999\", \"alpha\": 1.0, \"dasharray\": \"10,0\", \"gridOn\": true}, \"fontsize\": 10.0, \"position\": \"left\", \"nticks\": 6, \"tickvalues\": null}], \"lines\": [], \"markers\": [{\"edgecolor\": \"#000000\", \"facecolor\": \"#0000FF\", \"edgewidth\": 0.5, \"yindex\": 1, \"coordinates\": \"data\", \"zorder\": 2, \"markerpath\": [[[0.0, 3.0], [0.7956093000000001, 3.0], [1.5587396123545605, 2.683901074764725], [2.121320343559643, 2.121320343559643], [2.683901074764725, 1.5587396123545605], [3.0, 0.7956093000000001], [3.0, 0.0], [3.0, -0.7956093000000001], [2.683901074764725, -1.5587396123545605], [2.121320343559643, -2.121320343559643], [1.5587396123545605, -2.683901074764725], [0.7956093000000001, -3.0], [0.0, -3.0], [-0.7956093000000001, -3.0], [-1.5587396123545605, -2.683901074764725], [-2.121320343559643, -2.121320343559643], [-2.683901074764725, -1.5587396123545605], [-3.0, -0.7956093000000001], [-3.0, 0.0], [-3.0, 0.7956093000000001], [-2.683901074764725, 1.5587396123545605], [-2.121320343559643, 2.121320343559643], [-1.5587396123545605, 2.683901074764725], [-0.7956093000000001, 3.0], [0.0, 3.0]], [\"M\", \"C\", \"C\", \"C\", \"C\", \"C\", \"C\", \"C\", \"C\", \"Z\"]], \"alpha\": 1, \"xindex\": 0, \"data\": \"data01\", \"id\": \"el142432942976172pts\"}], \"id\": \"el142432942509772\", \"ydomain\": [0.0, 50.0], \"collections\": [], \"xscale\": \"linear\", \"bbox\": [0.125, 0.125, 0.77500000000000002, 0.77500000000000002]}], \"height\": 480.0, \"width\": 1120.0, \"plugins\": [{\"type\": \"reset\"}, {\"enabled\": false, \"button\": true, \"type\": \"zoom\"}, {\"enabled\": false, \"button\": true, \"type\": \"boxzoom\"}], \"data\": {\"data01\": [[0.0, 0.0], [0.0, 1.0], [0.0, 2.0], [0.0, 3.0], [0.0, 4.0], [1.0, 5.0], [1.0, 6.0], [1.0, 7.0], [1.0, 4.0], [1.0, 8.0], [2.0, 6.0], [2.0, 9.0], [2.0, 1.0], [2.0, 10.0], [2.0, 4.0], [3.0, 11.0], [3.0, 6.0], [3.0, 12.0], [3.0, 13.0], [3.0, 2.0], [4.0, 14.0], [4.0, 12.0], [4.0, 0.0], [4.0, 1.0], [4.0, 2.0], [5.0, 6.0], [5.0, 9.0], [5.0, 15.0], [5.0, 0.0], [5.0, 16.0], [6.0, 14.0], [6.0, 17.0], [6.0, 0.0], [6.0, 16.0], [6.0, 18.0], [7.0, 19.0], [7.0, 7.0], [7.0, 1.0], [7.0, 3.0], [7.0, 16.0], [8.0, 6.0], [8.0, 7.0], [8.0, 13.0], [8.0, 16.0], [8.0, 8.0], [9.0, 11.0], [9.0, 6.0], [9.0, 1.0], [9.0, 16.0], [9.0, 18.0], [10.0, 14.0], [10.0, 0.0], [10.0, 13.0], [10.0, 4.0], [10.0, 18.0], [11.0, 11.0], [11.0, 14.0], [11.0, 20.0], [11.0, 1.0], [11.0, 8.0], [12.0, 11.0], [12.0, 19.0], [12.0, 6.0], [12.0, 12.0], [12.0, 8.0], [13.0, 11.0], [13.0, 14.0], [13.0, 6.0], [13.0, 12.0], [13.0, 21.0], [14.0, 6.0], [14.0, 7.0], [14.0, 1.0], [14.0, 22.0], [14.0, 8.0], [15.0, 11.0], [15.0, 6.0], [15.0, 7.0], [15.0, 16.0], [15.0, 8.0], [16.0, 6.0], [16.0, 17.0], [16.0, 12.0], [16.0, 16.0], [16.0, 8.0], [17.0, 23.0], [17.0, 6.0], [17.0, 21.0], [17.0, 18.0], [17.0, 8.0], [18.0, 14.0], [18.0, 12.0], [18.0, 15.0], [18.0, 13.0], [18.0, 8.0], [19.0, 23.0], [19.0, 12.0], [19.0, 16.0], [19.0, 18.0], [19.0, 8.0], [20.0, 6.0], [20.0, 17.0], [20.0, 21.0], [20.0, 18.0], [20.0, 8.0], [21.0, 11.0], [21.0, 12.0], [21.0, 21.0], [21.0, 13.0], [21.0, 18.0], [22.0, 1.0], [22.0, 21.0], [22.0, 24.0], [22.0, 16.0], [22.0, 18.0], [23.0, 6.0], [23.0, 1.0], [23.0, 21.0], [23.0, 13.0], [23.0, 2.0], [24.0, 17.0], [24.0, 1.0], [24.0, 21.0], [24.0, 13.0], [24.0, 2.0], [25.0, 14.0], [25.0, 12.0], [25.0, 1.0], [25.0, 21.0], [25.0, 18.0], [26.0, 11.0], [26.0, 6.0], [26.0, 21.0], [26.0, 2.0], [26.0, 8.0], [27.0, 11.0], [27.0, 15.0], [27.0, 0.0], [27.0, 13.0], [27.0, 2.0], [28.0, 11.0], [28.0, 15.0], [28.0, 0.0], [28.0, 1.0], [28.0, 18.0], [29.0, 14.0], [29.0, 12.0], [29.0, 1.0], [29.0, 2.0], [29.0, 8.0], [30.0, 14.0], [30.0, 6.0], [30.0, 15.0], [30.0, 0.0], [30.0, 13.0], [31.0, 11.0], [31.0, 6.0], [31.0, 13.0], [31.0, 16.0], [31.0, 18.0], [32.0, 14.0], [32.0, 6.0], [32.0, 0.0], [32.0, 13.0], [32.0, 16.0], [33.0, 11.0], [33.0, 14.0], [33.0, 0.0], [33.0, 21.0], [33.0, 2.0], [34.0, 11.0], [34.0, 6.0], [34.0, 15.0], [34.0, 20.0], [34.0, 2.0], [35.0, 23.0], [35.0, 6.0], [35.0, 1.0], [35.0, 16.0], [35.0, 8.0], [36.0, 23.0], [36.0, 6.0], [36.0, 0.0], [36.0, 21.0], [36.0, 2.0], [37.0, 14.0], [37.0, 6.0], [37.0, 0.0], [37.0, 21.0], [37.0, 3.0], [38.0, 6.0], [38.0, 15.0], [38.0, 20.0], [38.0, 2.0], [38.0, 16.0], [39.0, 0.0], [39.0, 7.0], [39.0, 16.0], [39.0, 18.0], [39.0, 8.0], [40.0, 7.0], [40.0, 21.0], [40.0, 2.0], [40.0, 24.0], [40.0, 18.0], [41.0, 11.0], [41.0, 0.0], [41.0, 2.0], [41.0, 16.0], [41.0, 8.0], [42.0, 14.0], [42.0, 6.0], [42.0, 7.0], [42.0, 2.0], [42.0, 8.0], [43.0, 11.0], [43.0, 15.0], [43.0, 0.0], [43.0, 2.0], [43.0, 18.0], [44.0, 14.0], [44.0, 0.0], [44.0, 1.0], [44.0, 21.0], [44.0, 2.0], [45.0, 23.0], [45.0, 11.0], [45.0, 6.0], [45.0, 21.0], [45.0, 16.0], [46.0, 23.0], [46.0, 17.0], [46.0, 7.0], [46.0, 1.0], [46.0, 21.0], [47.0, 12.0], [47.0, 7.0], [47.0, 21.0], [47.0, 18.0], [47.0, 8.0], [48.0, 21.0], [48.0, 13.0], [48.0, 24.0], [48.0, 16.0], [48.0, 18.0], [49.0, 11.0], [49.0, 6.0], [49.0, 12.0], [49.0, 2.0], [49.0, 16.0], [50.0, 0.0], [50.0, 21.0], [50.0, 24.0], [50.0, 18.0], [50.0, 8.0], [51.0, 25.0], [51.0, 26.0], [51.0, 27.0], [51.0, 28.0], [51.0, 29.0], [52.0, 30.0], [52.0, 31.0], [52.0, 32.0], [52.0, 33.0], [52.0, 34.0], [53.0, 35.0], [53.0, 36.0], [53.0, 37.0], [53.0, 38.0], [53.0, 39.0], [54.0, 40.0], [54.0, 41.0], [54.0, 42.0], [54.0, 43.0], [54.0, 44.0], [55.0, 45.0], [55.0, 46.0], [55.0, 47.0], [55.0, 48.0], [55.0, 49.0], [56.0, 12.0], [56.0, 20.0], [56.0, 21.0], [56.0, 16.0], [56.0, 18.0], [57.0, 23.0], [57.0, 11.0], [57.0, 20.0], [57.0, 2.0], [57.0, 18.0], [58.0, 7.0], [58.0, 21.0], [58.0, 2.0], [58.0, 32.0], [58.0, 18.0], [59.0, 11.0], [59.0, 0.0], [59.0, 21.0], [59.0, 2.0], [59.0, 18.0], [60.0, 11.0], [60.0, 6.0], [60.0, 1.0], [60.0, 24.0], [60.0, 16.0], [61.0, 23.0], [61.0, 11.0], [61.0, 6.0], [61.0, 7.0], [61.0, 16.0], [62.0, 7.0], [62.0, 1.0], [62.0, 21.0], [62.0, 24.0], [62.0, 49.0], [63.0, 6.0], [63.0, 12.0], [63.0, 21.0], [63.0, 24.0], [63.0, 8.0], [64.0, 11.0], [64.0, 15.0], [64.0, 0.0], [64.0, 21.0], [64.0, 4.0], [65.0, 12.0], [65.0, 0.0], [65.0, 21.0], [65.0, 2.0], [65.0, 8.0], [66.0, 6.0], [66.0, 17.0], [66.0, 0.0], [66.0, 2.0], [66.0, 16.0], [67.0, 12.0], [67.0, 7.0], [67.0, 20.0], [67.0, 21.0], [67.0, 24.0], [68.0, 6.0], [68.0, 20.0], [68.0, 24.0], [68.0, 4.0], [68.0, 16.0], [69.0, 15.0], [69.0, 7.0], [69.0, 24.0], [69.0, 16.0], [69.0, 8.0], [70.0, 11.0], [70.0, 6.0], [70.0, 2.0], [70.0, 4.0], [70.0, 16.0], [71.0, 11.0], [71.0, 6.0], [71.0, 0.0], [71.0, 16.0], [71.0, 8.0], [72.0, 12.0], [72.0, 15.0], [72.0, 1.0], [72.0, 21.0], [72.0, 8.0], [73.0, 20.0], [73.0, 21.0], [73.0, 24.0], [73.0, 16.0], [73.0, 8.0], [74.0, 14.0], [74.0, 15.0], [74.0, 0.0], [74.0, 7.0], [74.0, 2.0], [75.0, 11.0], [75.0, 7.0], [75.0, 20.0], [75.0, 16.0], [75.0, 8.0], [76.0, 14.0], [76.0, 12.0], [76.0, 15.0], [76.0, 7.0], [76.0, 16.0], [77.0, 11.0], [77.0, 12.0], [77.0, 7.0], [77.0, 24.0], [77.0, 8.0], [78.0, 14.0], [78.0, 15.0], [78.0, 0.0], [78.0, 20.0], [78.0, 24.0], [79.0, 1.0], [79.0, 2.0], [79.0, 4.0], [79.0, 49.0], [79.0, 8.0], [80.0, 11.0], [80.0, 14.0], [80.0, 0.0], [80.0, 1.0], [80.0, 21.0], [81.0, 23.0], [81.0, 11.0], [81.0, 7.0], [81.0, 39.0], [81.0, 8.0], [82.0, 11.0], [82.0, 14.0], [82.0, 0.0], [82.0, 2.0], [82.0, 24.0], [83.0, 6.0], [83.0, 0.0], [83.0, 20.0], [83.0, 1.0], [83.0, 24.0], [84.0, 12.0], [84.0, 15.0], [84.0, 45.0], [84.0, 20.0], [84.0, 22.0], [85.0, 11.0], [85.0, 6.0], [85.0, 17.0], [85.0, 7.0], [85.0, 21.0], [86.0, 0.0], [86.0, 21.0], [86.0, 13.0], [86.0, 16.0], [86.0, 8.0], [87.0, 11.0], [87.0, 15.0], [87.0, 45.0], [87.0, 31.0], [87.0, 2.0], [88.0, 17.0], [88.0, 15.0], [88.0, 45.0], [88.0, 16.0], [88.0, 8.0], [89.0, 11.0], [89.0, 7.0], [89.0, 2.0], [89.0, 18.0], [89.0, 8.0], [90.0, 23.0], [90.0, 17.0], [90.0, 0.0], [90.0, 7.0], [90.0, 8.0], [91.0, 14.0], [91.0, 7.0], [91.0, 24.0], [91.0, 16.0], [91.0, 18.0], [92.0, 11.0], [92.0, 12.0], [92.0, 24.0], [92.0, 18.0], [92.0, 8.0], [93.0, 6.0], [93.0, 17.0], [93.0, 12.0], [93.0, 0.0], [93.0, 16.0], [94.0, 11.0], [94.0, 14.0], [94.0, 0.0], [94.0, 18.0], [94.0, 39.0], [95.0, 11.0], [95.0, 14.0], [95.0, 12.0], [95.0, 0.0], [95.0, 39.0], [96.0, 6.0], [96.0, 20.0], [96.0, 21.0], [96.0, 24.0], [96.0, 8.0], [97.0, 15.0], [97.0, 0.0], [97.0, 7.0], [97.0, 13.0], [97.0, 2.0], [98.0, 14.0], [98.0, 1.0], [98.0, 2.0], [98.0, 24.0], [98.0, 18.0], [99.0, 14.0], [99.0, 15.0], [99.0, 0.0], [99.0, 21.0], [99.0, 18.0]]}, \"id\": \"el142432941628716\"});\n",
        "            })\n",
        "         });\n",
        "}\n",
        "</script>"
       ],
       "metadata": {},
       "output_type": "pyout",
       "prompt_number": 68,
       "text": [
        "<IPython.core.display.HTML at 0xaf68672c>"
       ]
      }
     ],
     "prompt_number": 68
    },
    {
     "cell_type": "heading",
     "level": 1,
     "metadata": {},
     "source": [
      "Cerebro2 Function"
     ]
    },
    {
     "cell_type": "markdown",
     "metadata": {},
     "source": [
      "A convenience function to launch Cerebro2 from within IPython.\n",
      "This is a bit of a work in process."
     ]
    },
    {
     "cell_type": "markdown",
     "metadata": {},
     "source": [
      "IDEA: Its possible to display the cerebro2 webpage directly in the notebook."
     ]
    },
    {
     "cell_type": "code",
     "collapsed": false,
     "input": [
      "import subprocess\n",
      "import webbrowser\n",
      "import os"
     ],
     "language": "python",
     "metadata": {},
     "outputs": [],
     "prompt_number": 70
    },
    {
     "cell_type": "markdown",
     "metadata": {},
     "source": [
      "This function launches the cerebro servers and returns them as subprocess objects"
     ]
    },
    {
     "cell_type": "code",
     "collapsed": false,
     "input": [
      "def launchCerebro2Servers(pathToCerebro2=\"/home/ruaridh/Cerebro2/\"):\n",
      "    \n",
      "    #Start the two server processes\n",
      "    dataServer=subprocess.Popen([\"python\",os.path.join(pathToCerebro2,\"nupic.cerebro2.server/server.py\"),\"9090\"])\n",
      "    displayServer=subprocess.Popen(['python', '-m', 'SimpleHTTPServer', '8000'],cwd=os.path.join(pathToCerebro2,\"nupic.cerebro2/static\"))\n",
      "    \n",
      "    #Open a browser pag\n",
      "    webbrowser.open(\"http://localhost:8000\")\n",
      "    \n",
      "    #Return objects of the two processes\n",
      "    return (dataServer, displayServer)"
     ],
     "language": "python",
     "metadata": {},
     "outputs": [],
     "prompt_number": 76
    },
    {
     "cell_type": "markdown",
     "metadata": {},
     "source": [
      "This wraps around the server launching function above. It displays a 'shutdown server button' if it is called from an up to date version of IPython. Otherwise it just prints a reminder to shutdown the processes."
     ]
    },
    {
     "cell_type": "code",
     "collapsed": false,
     "input": [
      "try:\n",
      "    from IPython.html import widgets # Widget definitions\n",
      "    from IPython.display import display # Used to display widgets in the notebook\n",
      "except:\n",
      "    servers=launchCerebro2Servers()\n",
      "    print \"Cerebro2 servers started with PIDs \"+str(servers[0].pid)+\" and \"+str(servers[1].pid)\n",
      "    print \"Remember to kill them in the command line or in python with os.kill('PID')\"\n",
      "else:\n",
      "    servers=launchCerebro2Servers()\n",
      "    \n",
      "    button = widgets.ButtonWidget()\n",
      "    button.pids = (servers[0].pid,servers[1].pid)\n",
      "    button.description = \"Running with PID \"+str(button.pids[0])+\" and \"+str(button.pids[1])+\". Click To Shutdown\"\n",
      "\n",
      "    def closeServers(b):\n",
      "        for process in servers:\n",
      "            process.kill()\n",
      "        b.description = \"Sent kill command to servers.\"\n",
      "    \n",
      "    button.on_click(closeServers)\n",
      "    \n",
      "    display(button)"
     ],
     "language": "python",
     "metadata": {},
     "outputs": [],
     "prompt_number": 7
    },
    {
     "cell_type": "heading",
     "level": 1,
     "metadata": {},
     "source": [
      "Other Stuff"
     ]
    },
    {
     "cell_type": "code",
     "collapsed": false,
     "input": [
      "from cerebro2.patcher import Patcher"
     ],
     "language": "python",
     "metadata": {},
     "outputs": [],
     "prompt_number": 18
    },
    {
     "cell_type": "code",
     "collapsed": false,
     "input": [
      "from cerebro2.patcher import readJSON"
     ],
     "language": "python",
     "metadata": {},
     "outputs": [],
     "prompt_number": 19
    },
    {
     "cell_type": "code",
     "collapsed": false,
     "input": [
      "def getActiveColumns():\n",
      "    activeColumns = []\n",
      "    for iteration in range(1,101):\n",
      "        activeColumns.append(readJSON('/tmp/cerebro2/model/states/'+str(iteration)+'/output/active_columns.json',create=False))\n",
      "    return activeColumns"
     ],
     "language": "python",
     "metadata": {},
     "outputs": [],
     "prompt_number": 34
    },
    {
     "cell_type": "code",
     "collapsed": false,
     "input": [
      "ac=getActiveColumns()"
     ],
     "language": "python",
     "metadata": {},
     "outputs": [],
     "prompt_number": 35
    },
    {
     "cell_type": "code",
     "collapsed": true,
     "input": [
      "ac"
     ],
     "language": "python",
     "metadata": {},
     "outputs": [
      {
       "metadata": {},
       "output_type": "pyout",
       "prompt_number": 36,
       "text": [
        "[[15, 22, 26, 28, 37],\n",
        " [0, 9, 18, 37, 48],\n",
        " [9, 13, 22, 35, 37],\n",
        " [4, 9, 11, 25, 26],\n",
        " [5, 11, 15, 22, 26],\n",
        " [9, 13, 14, 15, 40],\n",
        " [5, 10, 15, 40, 43],\n",
        " [8, 18, 22, 28, 40],\n",
        " [9, 18, 25, 40, 48],\n",
        " [4, 9, 22, 40, 43],\n",
        " [5, 15, 25, 37, 43],\n",
        " [4, 5, 20, 22, 48],\n",
        " [4, 8, 9, 11, 48],\n",
        " [4, 5, 9, 11, 23],\n",
        " [9, 18, 22, 34, 48],\n",
        " [4, 9, 18, 40, 48],\n",
        " [9, 10, 11, 40, 48],\n",
        " [2, 9, 23, 43, 48],\n",
        " [5, 11, 14, 25, 48],\n",
        " [2, 11, 40, 43, 48],\n",
        " [9, 10, 23, 43, 48],\n",
        " [4, 11, 23, 25, 43],\n",
        " [22, 23, 30, 40, 43],\n",
        " [9, 22, 23, 25, 26],\n",
        " [10, 22, 23, 25, 26],\n",
        " [5, 11, 22, 23, 43],\n",
        " [4, 9, 23, 26, 48],\n",
        " [4, 14, 15, 25, 26],\n",
        " [4, 14, 15, 22, 43],\n",
        " [5, 11, 22, 26, 48],\n",
        " [5, 9, 14, 15, 25],\n",
        " [4, 9, 25, 40, 43],\n",
        " [5, 9, 15, 25, 40],\n",
        " [4, 5, 15, 23, 26],\n",
        " [4, 9, 14, 20, 26],\n",
        " [2, 9, 22, 40, 48],\n",
        " [2, 9, 15, 23, 26],\n",
        " [5, 9, 15, 23, 28],\n",
        " [9, 14, 20, 26, 40],\n",
        " [15, 18, 40, 43, 48],\n",
        " [18, 23, 26, 30, 43],\n",
        " [4, 15, 26, 40, 48],\n",
        " [5, 9, 18, 26, 48],\n",
        " [4, 14, 15, 26, 43],\n",
        " [5, 15, 22, 23, 26],\n",
        " [2, 4, 9, 23, 40],\n",
        " [2, 10, 18, 22, 23],\n",
        " [11, 18, 23, 43, 48],\n",
        " [23, 25, 30, 40, 43],\n",
        " [4, 9, 11, 26, 40],\n",
        " [15, 23, 30, 43, 48],\n",
        " [3, 12, 21, 27, 33],\n",
        " [7, 24, 42, 46, 47],\n",
        " [6, 36, 39, 44, 45],\n",
        " [1, 17, 19, 41, 49],\n",
        " [16, 29, 31, 32, 38],\n",
        " [11, 20, 23, 40, 43],\n",
        " [2, 4, 20, 26, 43],\n",
        " [18, 23, 26, 42, 43],\n",
        " [4, 15, 23, 26, 43],\n",
        " [4, 9, 22, 30, 40],\n",
        " [2, 4, 9, 18, 40],\n",
        " [18, 22, 23, 30, 38],\n",
        " [9, 11, 23, 30, 48],\n",
        " [4, 14, 15, 23, 37],\n",
        " [11, 15, 23, 26, 48],\n",
        " [9, 10, 15, 26, 40],\n",
        " [11, 18, 20, 23, 30],\n",
        " [9, 20, 30, 37, 40],\n",
        " [14, 18, 30, 40, 48],\n",
        " [4, 9, 26, 37, 40],\n",
        " [4, 9, 15, 40, 48],\n",
        " [11, 14, 22, 23, 48],\n",
        " [20, 23, 30, 40, 48],\n",
        " [5, 14, 15, 18, 26],\n",
        " [4, 18, 20, 40, 48],\n",
        " [5, 11, 14, 18, 40],\n",
        " [4, 11, 18, 30, 48],\n",
        " [5, 14, 15, 20, 30],\n",
        " [22, 26, 37, 38, 48],\n",
        " [4, 5, 15, 22, 23],\n",
        " [2, 4, 18, 45, 48],\n",
        " [4, 5, 15, 26, 30],\n",
        " [9, 15, 20, 22, 30],\n",
        " [11, 14, 16, 20, 34],\n",
        " [4, 9, 10, 18, 23],\n",
        " [15, 23, 25, 40, 48],\n",
        " [4, 14, 16, 24, 26],\n",
        " [10, 14, 16, 40, 48],\n",
        " [4, 18, 26, 43, 48],\n",
        " [2, 10, 15, 18, 48],\n",
        " [5, 18, 30, 40, 43],\n",
        " [4, 11, 30, 43, 48],\n",
        " [9, 10, 11, 15, 40],\n",
        " [4, 5, 15, 43, 45],\n",
        " [4, 5, 11, 15, 45],\n",
        " [9, 20, 23, 30, 48],\n",
        " [14, 15, 18, 25, 26],\n",
        " [5, 22, 26, 30, 43],\n",
        " [5, 14, 15, 23, 43]]"
       ]
      }
     ],
     "prompt_number": 36
    },
    {
     "cell_type": "code",
     "collapsed": false,
     "input": [
      "from IPython.display import HTML\n",
      "HTML('<iframe src=http://localhost:8000 width=100% height=600></iframe>')"
     ],
     "language": "python",
     "metadata": {},
     "outputs": [
      {
       "html": [
        "<iframe src=http://localhost:8000 width=100% height=600></iframe>"
       ],
       "metadata": {},
       "output_type": "pyout",
       "prompt_number": 88,
       "text": [
        "<IPython.core.display.HTML at 0xaf2af64c>"
       ]
      }
     ],
     "prompt_number": 88
    },
    {
     "cell_type": "heading",
     "level": 1,
     "metadata": {},
     "source": [
      "Data Loading Function Thing"
     ]
    },
    {
     "cell_type": "code",
     "collapsed": false,
     "input": [
      "from cerebro2.paths import Paths\n",
      "import json"
     ],
     "language": "python",
     "metadata": {},
     "outputs": [],
     "prompt_number": 23
    },
    {
     "cell_type": "code",
     "collapsed": false,
     "input": [
      "def readJSON(filepath):\n",
      "  with open(filepath, 'r') as infile:\n",
      "    return np.array(json.load(infile))"
     ],
     "language": "python",
     "metadata": {},
     "outputs": [],
     "prompt_number": 26
    },
    {
     "cell_type": "code",
     "collapsed": false,
     "input": [
      "P=Paths('/tmp/cerebro2')"
     ],
     "language": "python",
     "metadata": {},
     "outputs": [],
     "prompt_number": 4
    },
    {
     "cell_type": "code",
     "collapsed": false,
     "input": [
      "P.activeColumns('output',10)"
     ],
     "language": "python",
     "metadata": {},
     "outputs": [
      {
       "metadata": {},
       "output_type": "pyout",
       "prompt_number": 17,
       "text": [
        "'/tmp/cerebro2/states/10/output/active_columns.json'"
       ]
      }
     ],
     "prompt_number": 17
    },
    {
     "cell_type": "code",
     "collapsed": false,
     "input": [
      "readJSON('/tmp/cerebro2/model/states/10/output/proximal_synapses.json')"
     ],
     "language": "python",
     "metadata": {},
     "outputs": [
      {
       "metadata": {},
       "output_type": "pyout",
       "prompt_number": 30,
       "text": [
        "array([  3.00000000e+00,   1.25000000e+02,   1.22160003e-01])"
       ]
      }
     ],
     "prompt_number": 30
    },
    {
     "cell_type": "markdown",
     "metadata": {},
     "source": [
      "``History(modelID).activeColumns()``\n",
      "    \n",
      " - creates data fetcher class\n",
      " - init sets the path to the files\n",
      " - this class has functions that fetch lists of the data\n",
      " \n",
      "patcher function when run, creates a history instance and attches it to the sp instance\n",
      "\n",
      "``spInstance.History.activeColumns()``\n",
      " - you can use tab autocomplete to see the available data(loading functions)\n",
      "\n",
      "\n",
      "``somewhereElse.actualActiveColumnPlot(dataArray1,dataArray2,optionalMatplotlibArgs)``  \n",
      "``ruplot.activeColumnPlot(spInstance, optionalTimeRange, optionalMatplotlibArgs)``  \n",
      "``ruplot.activeColumnPlot(modelID, ...)``\n"
     ]
    },
    {
     "cell_type": "code",
     "collapsed": false,
     "input": [
      "def somePlot():\n",
      "    if not actualData:\n",
      "        datahistory = History(modelID)\n",
      "        datahistory = spInstance.history\n",
      "        \n",
      "        dataArray1 = datahistory.something()\n",
      "    \n",
      "    #carry on with plot function\n",
      "    \n",
      "    "
     ],
     "language": "python",
     "metadata": {},
     "outputs": []
    },
    {
     "cell_type": "code",
     "collapsed": false,
     "input": [
      "class R():\n",
      "    def __init__(self, ID=\"foorg\"):\n",
      "        self.ID=ID\n",
      "    def getNothing(self):\n",
      "        return \"nothing\"\n",
      "    def f(self,a):\n",
      "        if a \n",
      "        return (a,b,c)"
     ],
     "language": "python",
     "metadata": {},
     "outputs": [],
     "prompt_number": 62
    },
    {
     "cell_type": "code",
     "collapsed": false,
     "input": [
      "r=R()"
     ],
     "language": "python",
     "metadata": {},
     "outputs": [],
     "prompt_number": 64
    },
    {
     "cell_type": "code",
     "collapsed": false,
     "input": [],
     "language": "python",
     "metadata": {},
     "outputs": [
      {
       "ename": "SyntaxError",
       "evalue": "invalid syntax (<ipython-input-70-e2c8baa2f8c1>, line 1)",
       "output_type": "pyerr",
       "traceback": [
        "\u001b[1;36m  File \u001b[1;32m\"<ipython-input-70-e2c8baa2f8c1>\"\u001b[1;36m, line \u001b[1;32m1\u001b[0m\n\u001b[1;33m    4.__class__()\u001b[0m\n\u001b[1;37m              ^\u001b[0m\n\u001b[1;31mSyntaxError\u001b[0m\u001b[1;31m:\u001b[0m invalid syntax\n"
       ]
      }
     ],
     "prompt_number": 70
    },
    {
     "cell_type": "heading",
     "level": 1,
     "metadata": {},
     "source": [
      "Thoughts"
     ]
    },
    {
     "cell_type": "markdown",
     "metadata": {},
     "source": [
      "- Useful functions for Importing Data\n",
      "- List of example data .csv's ?\n",
      "- Useful Methods in NuPIC - in the temporal pooler and spatial pooler (compute, get_ouput, etc)\n",
      "- Useful Plots - array plots, line plots, interactive things?\n",
      "- Create some NuPIC specific plots - such as permanence plot"
     ]
    },
    {
     "cell_type": "heading",
     "level": 1,
     "metadata": {},
     "source": [
      "Hinton Plot"
     ]
    },
    {
     "cell_type": "code",
     "collapsed": false,
     "input": [
      "def hinton(matrix, max_weight=None, ax=None):\n",
      "    \"\"\"Draw Hinton diagram for visualizing a weight matrix.\"\"\"\n",
      "    ax = ax if ax is not None else plt.gca()\n",
      "\n",
      "    if not max_weight:\n",
      "        max_weight = 2**np.ceil(np.log(np.abs(matrix).max())/np.log(2))\n",
      "\n",
      "    ax.patch.set_facecolor('gray')\n",
      "    ax.set_aspect('equal', 'box')\n",
      "    ax.xaxis.set_major_locator(plt.NullLocator())\n",
      "    ax.yaxis.set_major_locator(plt.NullLocator())\n",
      "\n",
      "    for (x,y),w in np.ndenumerate(matrix):\n",
      "        color = 'white' if w > 0 else 'black'\n",
      "        size = np.sqrt(np.abs(w))\n",
      "        rect = plt.Rectangle([x - size / 2, y - size / 2], size, size,\n",
      "                             facecolor=color, edgecolor=color)\n",
      "        ax.add_patch(rect)\n",
      "\n",
      "    ax.autoscale_view()\n",
      "    ax.invert_yaxis()"
     ],
     "language": "python",
     "metadata": {},
     "outputs": [],
     "prompt_number": 40
    },
    {
     "cell_type": "code",
     "collapsed": false,
     "input": [
      "hinton(np.random.rand(20, 20) - 0.5)"
     ],
     "language": "python",
     "metadata": {},
     "outputs": [
      {
       "metadata": {},
       "output_type": "display_data",
       "png": "[encoded data removed]",
       "text": [
        "<matplotlib.figure.Figure at 0xaf79852c>"
       ]
      }
     ],
     "prompt_number": 41
    },
    {
     "cell_type": "heading",
     "level": 1,
     "metadata": {},
     "source": [
      "Assortment of Matplotlib plots"
     ]
    },
    {
     "cell_type": "code",
     "collapsed": false,
     "input": [
      "plt.hlines([1,2,4,5],[0,0,3,0],[1,2,5,1],colors=((1,0,1)))"
     ],
     "language": "python",
     "metadata": {},
     "outputs": [
      {
       "metadata": {},
       "output_type": "pyout",
       "prompt_number": 42,
       "text": [
        "<matplotlib.collections.LineCollection at 0xaf3adb6c>"
       ]
      },
      {
       "metadata": {},
       "output_type": "display_data",
       "png": "[encoded data removed]",
       "text": [
        "<matplotlib.figure.Figure at 0xaf71d58c>"
       ]
      }
     ],
     "prompt_number": 42
    },
    {
     "cell_type": "code",
     "collapsed": false,
     "input": [
      "plt.matshow(np.random.randn(10,20))"
     ],
     "language": "python",
     "metadata": {},
     "outputs": [
      {
       "metadata": {},
       "output_type": "pyout",
       "prompt_number": 43,
       "text": [
        "<matplotlib.image.AxesImage at 0xaf7c21ec>"
       ]
      },
      {
       "metadata": {},
       "output_type": "display_data",
       "png": "[encoded data removed]",
       "text": [
        "<matplotlib.figure.Figure at 0xaf31deac>"
       ]
      }
     ],
     "prompt_number": 43
    },
    {
     "cell_type": "code",
     "collapsed": false,
     "input": [
      "plt.pcolormesh(np.random.randn(10,20))"
     ],
     "language": "python",
     "metadata": {},
     "outputs": [
      {
       "metadata": {},
       "output_type": "pyout",
       "prompt_number": 44,
       "text": [
        "<matplotlib.collections.QuadMesh at 0xaf6fe9ec>"
       ]
      },
      {
       "metadata": {},
       "output_type": "display_data",
       "png": "[encoded data removed]",
       "text": [
        "<matplotlib.figure.Figure at 0xaf7840ec>"
       ]
      }
     ],
     "prompt_number": 44
    }
   ],
   "metadata": {}
  }
 ]
}