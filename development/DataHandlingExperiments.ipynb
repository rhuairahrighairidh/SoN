{
 "metadata": {
  "name": "",
  "signature": "sha256:e54ae42217efa50c97308cd363920bb961889e8746d937dc78de890ef8f6cbf8"
 },
 "nbformat": 3,
 "nbformat_minor": 0,
 "worksheets": [
  {
   "cells": [
    {
     "cell_type": "code",
     "collapsed": false,
     "input": [
      "import pandas as pd"
     ],
     "language": "python",
     "metadata": {},
     "outputs": [],
     "prompt_number": 1
    },
    {
     "cell_type": "code",
     "collapsed": false,
     "input": [
      "import numpy as np"
     ],
     "language": "python",
     "metadata": {},
     "outputs": [],
     "prompt_number": 2
    },
    {
     "cell_type": "code",
     "collapsed": false,
     "input": [
      "import mpld3"
     ],
     "language": "python",
     "metadata": {},
     "outputs": [],
     "prompt_number": 3
    },
    {
     "cell_type": "code",
     "collapsed": false,
     "input": [
      "pd.DataFrame([[1,0,0],[1,0,1],[0,1,1]],index=['one','two','three'])"
     ],
     "language": "python",
     "metadata": {},
     "outputs": [
      {
       "html": [
        "<div style=\"max-height:1000px;max-width:1500px;overflow:auto;\">\n",
        "<table border=\"1\" class=\"dataframe\">\n",
        "  <thead>\n",
        "    <tr style=\"text-align: right;\">\n",
        "      <th></th>\n",
        "      <th>0</th>\n",
        "      <th>1</th>\n",
        "      <th>2</th>\n",
        "    </tr>\n",
        "  </thead>\n",
        "  <tbody>\n",
        "    <tr>\n",
        "      <th>one</th>\n",
        "      <td> 1</td>\n",
        "      <td> 0</td>\n",
        "      <td> 0</td>\n",
        "    </tr>\n",
        "    <tr>\n",
        "      <th>two</th>\n",
        "      <td> 1</td>\n",
        "      <td> 0</td>\n",
        "      <td> 1</td>\n",
        "    </tr>\n",
        "    <tr>\n",
        "      <th>three</th>\n",
        "      <td> 0</td>\n",
        "      <td> 1</td>\n",
        "      <td> 1</td>\n",
        "    </tr>\n",
        "  </tbody>\n",
        "</table>\n",
        "</div>"
       ],
       "metadata": {},
       "output_type": "pyout",
       "prompt_number": 6,
       "text": [
        "       0  1  2\n",
        "one    1  0  0\n",
        "two    1  0  1\n",
        "three  0  1  1"
       ]
      }
     ],
     "prompt_number": 6
    },
    {
     "cell_type": "code",
     "collapsed": false,
     "input": [
      "import matplotlib.pyplot as plt\n",
      "%matplotlib inline"
     ],
     "language": "python",
     "metadata": {},
     "outputs": [],
     "prompt_number": 4
    },
    {
     "cell_type": "code",
     "collapsed": false,
     "input": [
      "np.random.randint(0,10,[10,20])"
     ],
     "language": "python",
     "metadata": {},
     "outputs": [
      {
       "metadata": {},
       "output_type": "pyout",
       "prompt_number": 4,
       "text": [
        "array([[0, 4, 7, 5, 0, 7, 0, 9, 7, 6, 3, 0, 5, 7, 9, 2, 4, 1, 7, 5],\n",
        "       [8, 1, 7, 1, 4, 1, 4, 7, 6, 1, 0, 0, 7, 0, 4, 7, 0, 7, 8, 7],\n",
        "       [8, 4, 7, 0, 2, 1, 8, 1, 9, 5, 4, 6, 6, 1, 3, 7, 7, 0, 9, 3],\n",
        "       [3, 1, 2, 7, 9, 6, 3, 3, 4, 4, 9, 9, 1, 7, 1, 2, 5, 2, 4, 1],\n",
        "       [9, 4, 2, 3, 8, 0, 7, 0, 4, 9, 5, 6, 4, 3, 6, 2, 9, 0, 7, 7],\n",
        "       [7, 5, 6, 9, 0, 2, 6, 4, 9, 7, 7, 4, 1, 9, 9, 1, 4, 2, 5, 2],\n",
        "       [8, 8, 2, 3, 2, 4, 6, 0, 2, 1, 1, 5, 6, 6, 2, 4, 4, 4, 7, 1],\n",
        "       [8, 5, 0, 0, 6, 9, 2, 2, 5, 6, 4, 3, 5, 3, 5, 5, 1, 0, 6, 9],\n",
        "       [2, 4, 8, 7, 3, 7, 2, 2, 2, 7, 8, 8, 1, 5, 8, 7, 9, 8, 3, 4],\n",
        "       [3, 3, 2, 0, 8, 7, 6, 2, 4, 9, 4, 9, 3, 7, 1, 8, 4, 7, 9, 9]])"
       ]
      }
     ],
     "prompt_number": 4
    },
    {
     "cell_type": "code",
     "collapsed": false,
     "input": [
      "df=pd.DataFrame(np.random.randint(0,10,[10,20]))"
     ],
     "language": "python",
     "metadata": {},
     "outputs": [],
     "prompt_number": 19
    },
    {
     "cell_type": "code",
     "collapsed": false,
     "input": [
      "df"
     ],
     "language": "python",
     "metadata": {},
     "outputs": [
      {
       "html": [
        "<div style=\"max-height:1000px;max-width:1500px;overflow:auto;\">\n",
        "<table border=\"1\" class=\"dataframe\">\n",
        "  <thead>\n",
        "    <tr style=\"text-align: right;\">\n",
        "      <th></th>\n",
        "      <th>0</th>\n",
        "      <th>1</th>\n",
        "      <th>2</th>\n",
        "      <th>3</th>\n",
        "      <th>4</th>\n",
        "      <th>5</th>\n",
        "      <th>6</th>\n",
        "      <th>7</th>\n",
        "      <th>8</th>\n",
        "      <th>9</th>\n",
        "      <th>10</th>\n",
        "      <th>11</th>\n",
        "      <th>12</th>\n",
        "      <th>13</th>\n",
        "      <th>14</th>\n",
        "      <th>15</th>\n",
        "      <th>16</th>\n",
        "      <th>17</th>\n",
        "      <th>18</th>\n",
        "      <th>19</th>\n",
        "    </tr>\n",
        "  </thead>\n",
        "  <tbody>\n",
        "    <tr>\n",
        "      <th>0</th>\n",
        "      <td> 9</td>\n",
        "      <td> 5</td>\n",
        "      <td> 9</td>\n",
        "      <td> 1</td>\n",
        "      <td> 1</td>\n",
        "      <td> 9</td>\n",
        "      <td> 8</td>\n",
        "      <td> 1</td>\n",
        "      <td> 9</td>\n",
        "      <td> 0</td>\n",
        "      <td> 8</td>\n",
        "      <td> 0</td>\n",
        "      <td> 9</td>\n",
        "      <td> 8</td>\n",
        "      <td> 9</td>\n",
        "      <td> 1</td>\n",
        "      <td> 8</td>\n",
        "      <td> 3</td>\n",
        "      <td> 3</td>\n",
        "      <td> 1</td>\n",
        "    </tr>\n",
        "    <tr>\n",
        "      <th>1</th>\n",
        "      <td> 2</td>\n",
        "      <td> 6</td>\n",
        "      <td> 1</td>\n",
        "      <td> 8</td>\n",
        "      <td> 0</td>\n",
        "      <td> 7</td>\n",
        "      <td> 2</td>\n",
        "      <td> 3</td>\n",
        "      <td> 3</td>\n",
        "      <td> 3</td>\n",
        "      <td> 8</td>\n",
        "      <td> 6</td>\n",
        "      <td> 6</td>\n",
        "      <td> 3</td>\n",
        "      <td> 9</td>\n",
        "      <td> 0</td>\n",
        "      <td> 8</td>\n",
        "      <td> 7</td>\n",
        "      <td> 2</td>\n",
        "      <td> 2</td>\n",
        "    </tr>\n",
        "    <tr>\n",
        "      <th>2</th>\n",
        "      <td> 6</td>\n",
        "      <td> 8</td>\n",
        "      <td> 5</td>\n",
        "      <td> 5</td>\n",
        "      <td> 7</td>\n",
        "      <td> 7</td>\n",
        "      <td> 9</td>\n",
        "      <td> 2</td>\n",
        "      <td> 0</td>\n",
        "      <td> 9</td>\n",
        "      <td> 1</td>\n",
        "      <td> 9</td>\n",
        "      <td> 0</td>\n",
        "      <td> 9</td>\n",
        "      <td> 3</td>\n",
        "      <td> 7</td>\n",
        "      <td> 1</td>\n",
        "      <td> 4</td>\n",
        "      <td> 9</td>\n",
        "      <td> 5</td>\n",
        "    </tr>\n",
        "    <tr>\n",
        "      <th>3</th>\n",
        "      <td> 6</td>\n",
        "      <td> 6</td>\n",
        "      <td> 3</td>\n",
        "      <td> 7</td>\n",
        "      <td> 4</td>\n",
        "      <td> 7</td>\n",
        "      <td> 2</td>\n",
        "      <td> 9</td>\n",
        "      <td> 5</td>\n",
        "      <td> 7</td>\n",
        "      <td> 4</td>\n",
        "      <td> 5</td>\n",
        "      <td> 5</td>\n",
        "      <td> 0</td>\n",
        "      <td> 9</td>\n",
        "      <td> 2</td>\n",
        "      <td> 9</td>\n",
        "      <td> 4</td>\n",
        "      <td> 8</td>\n",
        "      <td> 6</td>\n",
        "    </tr>\n",
        "    <tr>\n",
        "      <th>4</th>\n",
        "      <td> 5</td>\n",
        "      <td> 8</td>\n",
        "      <td> 4</td>\n",
        "      <td> 5</td>\n",
        "      <td> 5</td>\n",
        "      <td> 8</td>\n",
        "      <td> 5</td>\n",
        "      <td> 3</td>\n",
        "      <td> 7</td>\n",
        "      <td> 3</td>\n",
        "      <td> 9</td>\n",
        "      <td> 3</td>\n",
        "      <td> 4</td>\n",
        "      <td> 5</td>\n",
        "      <td> 3</td>\n",
        "      <td> 7</td>\n",
        "      <td> 9</td>\n",
        "      <td> 1</td>\n",
        "      <td> 5</td>\n",
        "      <td> 6</td>\n",
        "    </tr>\n",
        "    <tr>\n",
        "      <th>5</th>\n",
        "      <td> 5</td>\n",
        "      <td> 7</td>\n",
        "      <td> 0</td>\n",
        "      <td> 0</td>\n",
        "      <td> 6</td>\n",
        "      <td> 2</td>\n",
        "      <td> 6</td>\n",
        "      <td> 5</td>\n",
        "      <td> 9</td>\n",
        "      <td> 9</td>\n",
        "      <td> 4</td>\n",
        "      <td> 9</td>\n",
        "      <td> 6</td>\n",
        "      <td> 4</td>\n",
        "      <td> 3</td>\n",
        "      <td> 5</td>\n",
        "      <td> 0</td>\n",
        "      <td> 8</td>\n",
        "      <td> 1</td>\n",
        "      <td> 4</td>\n",
        "    </tr>\n",
        "    <tr>\n",
        "      <th>6</th>\n",
        "      <td> 4</td>\n",
        "      <td> 6</td>\n",
        "      <td> 7</td>\n",
        "      <td> 2</td>\n",
        "      <td> 2</td>\n",
        "      <td> 6</td>\n",
        "      <td> 5</td>\n",
        "      <td> 4</td>\n",
        "      <td> 4</td>\n",
        "      <td> 0</td>\n",
        "      <td> 5</td>\n",
        "      <td> 5</td>\n",
        "      <td> 2</td>\n",
        "      <td> 1</td>\n",
        "      <td> 3</td>\n",
        "      <td> 5</td>\n",
        "      <td> 1</td>\n",
        "      <td> 9</td>\n",
        "      <td> 1</td>\n",
        "      <td> 4</td>\n",
        "    </tr>\n",
        "    <tr>\n",
        "      <th>7</th>\n",
        "      <td> 5</td>\n",
        "      <td> 5</td>\n",
        "      <td> 1</td>\n",
        "      <td> 0</td>\n",
        "      <td> 8</td>\n",
        "      <td> 0</td>\n",
        "      <td> 4</td>\n",
        "      <td> 8</td>\n",
        "      <td> 3</td>\n",
        "      <td> 8</td>\n",
        "      <td> 0</td>\n",
        "      <td> 1</td>\n",
        "      <td> 5</td>\n",
        "      <td> 3</td>\n",
        "      <td> 0</td>\n",
        "      <td> 8</td>\n",
        "      <td> 5</td>\n",
        "      <td> 6</td>\n",
        "      <td> 0</td>\n",
        "      <td> 4</td>\n",
        "    </tr>\n",
        "    <tr>\n",
        "      <th>8</th>\n",
        "      <td> 9</td>\n",
        "      <td> 6</td>\n",
        "      <td> 5</td>\n",
        "      <td> 9</td>\n",
        "      <td> 5</td>\n",
        "      <td> 9</td>\n",
        "      <td> 3</td>\n",
        "      <td> 7</td>\n",
        "      <td> 3</td>\n",
        "      <td> 8</td>\n",
        "      <td> 9</td>\n",
        "      <td> 9</td>\n",
        "      <td> 1</td>\n",
        "      <td> 6</td>\n",
        "      <td> 1</td>\n",
        "      <td> 5</td>\n",
        "      <td> 6</td>\n",
        "      <td> 5</td>\n",
        "      <td> 3</td>\n",
        "      <td> 7</td>\n",
        "    </tr>\n",
        "    <tr>\n",
        "      <th>9</th>\n",
        "      <td> 9</td>\n",
        "      <td> 1</td>\n",
        "      <td> 6</td>\n",
        "      <td> 9</td>\n",
        "      <td> 4</td>\n",
        "      <td> 4</td>\n",
        "      <td> 0</td>\n",
        "      <td> 1</td>\n",
        "      <td> 6</td>\n",
        "      <td> 6</td>\n",
        "      <td> 6</td>\n",
        "      <td> 8</td>\n",
        "      <td> 6</td>\n",
        "      <td> 4</td>\n",
        "      <td> 4</td>\n",
        "      <td> 2</td>\n",
        "      <td> 5</td>\n",
        "      <td> 5</td>\n",
        "      <td> 4</td>\n",
        "      <td> 4</td>\n",
        "    </tr>\n",
        "  </tbody>\n",
        "</table>\n",
        "</div>"
       ],
       "metadata": {},
       "output_type": "pyout",
       "prompt_number": 20,
       "text": [
        "   0   1   2   3   4   5   6   7   8   9   10  11  12  13  14  15  16  17  18  \\\n",
        "0   9   5   9   1   1   9   8   1   9   0   8   0   9   8   9   1   8   3   3   \n",
        "1   2   6   1   8   0   7   2   3   3   3   8   6   6   3   9   0   8   7   2   \n",
        "2   6   8   5   5   7   7   9   2   0   9   1   9   0   9   3   7   1   4   9   \n",
        "3   6   6   3   7   4   7   2   9   5   7   4   5   5   0   9   2   9   4   8   \n",
        "4   5   8   4   5   5   8   5   3   7   3   9   3   4   5   3   7   9   1   5   \n",
        "5   5   7   0   0   6   2   6   5   9   9   4   9   6   4   3   5   0   8   1   \n",
        "6   4   6   7   2   2   6   5   4   4   0   5   5   2   1   3   5   1   9   1   \n",
        "7   5   5   1   0   8   0   4   8   3   8   0   1   5   3   0   8   5   6   0   \n",
        "8   9   6   5   9   5   9   3   7   3   8   9   9   1   6   1   5   6   5   3   \n",
        "9   9   1   6   9   4   4   0   1   6   6   6   8   6   4   4   2   5   5   4   \n",
        "\n",
        "   19  \n",
        "0   1  \n",
        "1   2  \n",
        "2   5  \n",
        "3   6  \n",
        "4   6  \n",
        "5   4  \n",
        "6   4  \n",
        "7   4  \n",
        "8   7  \n",
        "9   4  "
       ]
      }
     ],
     "prompt_number": 20
    },
    {
     "cell_type": "code",
     "collapsed": false,
     "input": [
      "pd.options.display.mpl_style = 'default'"
     ],
     "language": "python",
     "metadata": {},
     "outputs": [],
     "prompt_number": 3
    },
    {
     "cell_type": "code",
     "collapsed": false,
     "input": [
      "pp=df[3].plot(kind='bar')\n",
      "pp = plt.gcf()"
     ],
     "language": "python",
     "metadata": {},
     "outputs": [
      {
       "metadata": {},
       "output_type": "display_data",
       "png": "[encoded data removed]",
       "text": [
        "<matplotlib.figure.Figure at 0xa743224c>"
       ]
      }
     ],
     "prompt_number": 49
    },
    {
     "cell_type": "code",
     "collapsed": false,
     "input": [
      "plt.plot([1,2,3,4],[8,7,6,5])\n",
      "mp=plt.gcf()"
     ],
     "language": "python",
     "metadata": {},
     "outputs": [
      {
       "metadata": {},
       "output_type": "display_data",
       "png": "[encoded data removed]",
       "text": [
        "<matplotlib.figure.Figure at 0xa74b1b0c>"
       ]
      }
     ],
     "prompt_number": 47
    },
    {
     "cell_type": "code",
     "collapsed": false,
     "input": [
      "df = pd.DataFrame({'A' : ['foo', 'bar', 'foo', 'bar','foo', 'bar', 'foo', 'foo'],\n",
      "                   'B' : ['one', 'one', 'two', 'three','two', 'two', 'one', 'three'],\n",
      "                   'C' : np.random.randn(8),\n",
      "                   'D' : np.random.randn(8)})"
     ],
     "language": "python",
     "metadata": {},
     "outputs": [],
     "prompt_number": 5
    },
    {
     "cell_type": "code",
     "collapsed": false,
     "input": [
      "df"
     ],
     "language": "python",
     "metadata": {},
     "outputs": [
      {
       "html": [
        "<div style=\"max-height:1000px;max-width:1500px;overflow:auto;\">\n",
        "<table border=\"1\" class=\"dataframe\">\n",
        "  <thead>\n",
        "    <tr style=\"text-align: right;\">\n",
        "      <th></th>\n",
        "      <th>A</th>\n",
        "      <th>B</th>\n",
        "      <th>C</th>\n",
        "      <th>D</th>\n",
        "    </tr>\n",
        "  </thead>\n",
        "  <tbody>\n",
        "    <tr>\n",
        "      <th>0</th>\n",
        "      <td> foo</td>\n",
        "      <td>   one</td>\n",
        "      <td>-0.110169</td>\n",
        "      <td> 0.827837</td>\n",
        "    </tr>\n",
        "    <tr>\n",
        "      <th>1</th>\n",
        "      <td> bar</td>\n",
        "      <td>   one</td>\n",
        "      <td>-0.273581</td>\n",
        "      <td> 0.541986</td>\n",
        "    </tr>\n",
        "    <tr>\n",
        "      <th>2</th>\n",
        "      <td> foo</td>\n",
        "      <td>   two</td>\n",
        "      <td>-0.708151</td>\n",
        "      <td> 0.946734</td>\n",
        "    </tr>\n",
        "    <tr>\n",
        "      <th>3</th>\n",
        "      <td> bar</td>\n",
        "      <td> three</td>\n",
        "      <td>-0.076184</td>\n",
        "      <td> 0.657701</td>\n",
        "    </tr>\n",
        "    <tr>\n",
        "      <th>4</th>\n",
        "      <td> foo</td>\n",
        "      <td>   two</td>\n",
        "      <td> 0.704696</td>\n",
        "      <td>-0.509284</td>\n",
        "    </tr>\n",
        "    <tr>\n",
        "      <th>5</th>\n",
        "      <td> bar</td>\n",
        "      <td>   two</td>\n",
        "      <td>-0.423099</td>\n",
        "      <td> 1.695561</td>\n",
        "    </tr>\n",
        "    <tr>\n",
        "      <th>6</th>\n",
        "      <td> foo</td>\n",
        "      <td>   one</td>\n",
        "      <td>-0.037505</td>\n",
        "      <td>-0.092202</td>\n",
        "    </tr>\n",
        "    <tr>\n",
        "      <th>7</th>\n",
        "      <td> foo</td>\n",
        "      <td> three</td>\n",
        "      <td> 0.762293</td>\n",
        "      <td> 2.191766</td>\n",
        "    </tr>\n",
        "  </tbody>\n",
        "</table>\n",
        "</div>"
       ],
       "metadata": {},
       "output_type": "pyout",
       "prompt_number": 6,
       "text": [
        "     A      B         C         D\n",
        "0  foo    one -0.110169  0.827837\n",
        "1  bar    one -0.273581  0.541986\n",
        "2  foo    two -0.708151  0.946734\n",
        "3  bar  three -0.076184  0.657701\n",
        "4  foo    two  0.704696 -0.509284\n",
        "5  bar    two -0.423099  1.695561\n",
        "6  foo    one -0.037505 -0.092202\n",
        "7  foo  three  0.762293  2.191766"
       ]
      }
     ],
     "prompt_number": 6
    },
    {
     "cell_type": "code",
     "collapsed": false,
     "input": [
      "df.groupby(['A','B']).sum()"
     ],
     "language": "python",
     "metadata": {},
     "outputs": [
      {
       "html": [
        "<div style=\"max-height:1000px;max-width:1500px;overflow:auto;\">\n",
        "<table border=\"1\" class=\"dataframe\">\n",
        "  <thead>\n",
        "    <tr style=\"text-align: right;\">\n",
        "      <th></th>\n",
        "      <th></th>\n",
        "      <th>C</th>\n",
        "      <th>D</th>\n",
        "    </tr>\n",
        "    <tr>\n",
        "      <th>A</th>\n",
        "      <th>B</th>\n",
        "      <th></th>\n",
        "      <th></th>\n",
        "    </tr>\n",
        "  </thead>\n",
        "  <tbody>\n",
        "    <tr>\n",
        "      <th rowspan=\"3\" valign=\"top\">bar</th>\n",
        "      <th>one</th>\n",
        "      <td>-0.273581</td>\n",
        "      <td> 0.541986</td>\n",
        "    </tr>\n",
        "    <tr>\n",
        "      <th>three</th>\n",
        "      <td>-0.076184</td>\n",
        "      <td> 0.657701</td>\n",
        "    </tr>\n",
        "    <tr>\n",
        "      <th>two</th>\n",
        "      <td>-0.423099</td>\n",
        "      <td> 1.695561</td>\n",
        "    </tr>\n",
        "    <tr>\n",
        "      <th rowspan=\"3\" valign=\"top\">foo</th>\n",
        "      <th>one</th>\n",
        "      <td>-0.147674</td>\n",
        "      <td> 0.735635</td>\n",
        "    </tr>\n",
        "    <tr>\n",
        "      <th>three</th>\n",
        "      <td> 0.762293</td>\n",
        "      <td> 2.191766</td>\n",
        "    </tr>\n",
        "    <tr>\n",
        "      <th>two</th>\n",
        "      <td>-0.003455</td>\n",
        "      <td> 0.437450</td>\n",
        "    </tr>\n",
        "  </tbody>\n",
        "</table>\n",
        "</div>"
       ],
       "metadata": {},
       "output_type": "pyout",
       "prompt_number": 14,
       "text": [
        "                  C         D\n",
        "A   B                        \n",
        "bar one   -0.273581  0.541986\n",
        "    three -0.076184  0.657701\n",
        "    two   -0.423099  1.695561\n",
        "foo one   -0.147674  0.735635\n",
        "    three  0.762293  2.191766\n",
        "    two   -0.003455  0.437450"
       ]
      }
     ],
     "prompt_number": 14
    },
    {
     "cell_type": "code",
     "collapsed": false,
     "input": [
      "tuples = list(zip(*[['bar', 'bar', 'baz', 'baz','foo', 'foo', 'qux', 'qux'],\n",
      "                    ['one', 'two', 'one', 'two','one', 'two', 'one', 'two']]))\n",
      "tuples"
     ],
     "language": "python",
     "metadata": {},
     "outputs": [
      {
       "metadata": {},
       "output_type": "pyout",
       "prompt_number": 16,
       "text": [
        "[('bar', 'one'),\n",
        " ('bar', 'two'),\n",
        " ('baz', 'one'),\n",
        " ('baz', 'two'),\n",
        " ('foo', 'one'),\n",
        " ('foo', 'two'),\n",
        " ('qux', 'one'),\n",
        " ('qux', 'two')]"
       ]
      }
     ],
     "prompt_number": 16
    },
    {
     "cell_type": "code",
     "collapsed": false,
     "input": [
      "index = pd.MultiIndex.from_tuples(tuples, names=['first', 'second'])\n",
      "df = pd.DataFrame(np.random.randn(8, 2), index=index, columns=['A', 'B'])\n",
      "df"
     ],
     "language": "python",
     "metadata": {},
     "outputs": [
      {
       "html": [
        "<div style=\"max-height:1000px;max-width:1500px;overflow:auto;\">\n",
        "<table border=\"1\" class=\"dataframe\">\n",
        "  <thead>\n",
        "    <tr style=\"text-align: right;\">\n",
        "      <th></th>\n",
        "      <th></th>\n",
        "      <th>A</th>\n",
        "      <th>B</th>\n",
        "    </tr>\n",
        "    <tr>\n",
        "      <th>first</th>\n",
        "      <th>second</th>\n",
        "      <th></th>\n",
        "      <th></th>\n",
        "    </tr>\n",
        "  </thead>\n",
        "  <tbody>\n",
        "    <tr>\n",
        "      <th rowspan=\"2\" valign=\"top\">bar</th>\n",
        "      <th>one</th>\n",
        "      <td>-1.671384</td>\n",
        "      <td> 1.175504</td>\n",
        "    </tr>\n",
        "    <tr>\n",
        "      <th>two</th>\n",
        "      <td> 0.269558</td>\n",
        "      <td>-1.855022</td>\n",
        "    </tr>\n",
        "    <tr>\n",
        "      <th rowspan=\"2\" valign=\"top\">baz</th>\n",
        "      <th>one</th>\n",
        "      <td> 0.779328</td>\n",
        "      <td> 1.211971</td>\n",
        "    </tr>\n",
        "    <tr>\n",
        "      <th>two</th>\n",
        "      <td>-2.199456</td>\n",
        "      <td> 0.127586</td>\n",
        "    </tr>\n",
        "    <tr>\n",
        "      <th rowspan=\"2\" valign=\"top\">foo</th>\n",
        "      <th>one</th>\n",
        "      <td> 0.904517</td>\n",
        "      <td>-0.287967</td>\n",
        "    </tr>\n",
        "    <tr>\n",
        "      <th>two</th>\n",
        "      <td> 0.449378</td>\n",
        "      <td> 0.700550</td>\n",
        "    </tr>\n",
        "    <tr>\n",
        "      <th rowspan=\"2\" valign=\"top\">qux</th>\n",
        "      <th>one</th>\n",
        "      <td> 0.250170</td>\n",
        "      <td> 1.201079</td>\n",
        "    </tr>\n",
        "    <tr>\n",
        "      <th>two</th>\n",
        "      <td>-0.982856</td>\n",
        "      <td>-0.162263</td>\n",
        "    </tr>\n",
        "  </tbody>\n",
        "</table>\n",
        "</div>"
       ],
       "metadata": {},
       "output_type": "pyout",
       "prompt_number": 18,
       "text": [
        "                     A         B\n",
        "first second                    \n",
        "bar   one    -1.671384  1.175504\n",
        "      two     0.269558 -1.855022\n",
        "baz   one     0.779328  1.211971\n",
        "      two    -2.199456  0.127586\n",
        "foo   one     0.904517 -0.287967\n",
        "      two     0.449378  0.700550\n",
        "qux   one     0.250170  1.201079\n",
        "      two    -0.982856 -0.162263"
       ]
      }
     ],
     "prompt_number": 18
    },
    {
     "cell_type": "code",
     "collapsed": false,
     "input": [
      "df = pd.DataFrame({'A' : ['one', 'one', 'two', 'three'] * 3,\n",
      "                   'B' : ['A', 'B', 'C'] * 4,\n",
      "                   'C' : ['foo', 'foo', 'foo', 'bar', 'bar', 'bar'] * 2,\n",
      "                   'D' : np.random.randn(12),\n",
      "                   'E' : np.random.randn(12)})"
     ],
     "language": "python",
     "metadata": {},
     "outputs": [],
     "prompt_number": 19
    },
    {
     "cell_type": "code",
     "collapsed": false,
     "input": [
      "df"
     ],
     "language": "python",
     "metadata": {},
     "outputs": [
      {
       "html": [
        "<div style=\"max-height:1000px;max-width:1500px;overflow:auto;\">\n",
        "<table border=\"1\" class=\"dataframe\">\n",
        "  <thead>\n",
        "    <tr style=\"text-align: right;\">\n",
        "      <th></th>\n",
        "      <th>A</th>\n",
        "      <th>B</th>\n",
        "      <th>C</th>\n",
        "      <th>D</th>\n",
        "      <th>E</th>\n",
        "    </tr>\n",
        "  </thead>\n",
        "  <tbody>\n",
        "    <tr>\n",
        "      <th>0 </th>\n",
        "      <td>   one</td>\n",
        "      <td> A</td>\n",
        "      <td> foo</td>\n",
        "      <td> 0.529812</td>\n",
        "      <td> 0.352160</td>\n",
        "    </tr>\n",
        "    <tr>\n",
        "      <th>1 </th>\n",
        "      <td>   one</td>\n",
        "      <td> B</td>\n",
        "      <td> foo</td>\n",
        "      <td>-0.623007</td>\n",
        "      <td> 0.290627</td>\n",
        "    </tr>\n",
        "    <tr>\n",
        "      <th>2 </th>\n",
        "      <td>   two</td>\n",
        "      <td> C</td>\n",
        "      <td> foo</td>\n",
        "      <td>-0.573015</td>\n",
        "      <td> 1.154132</td>\n",
        "    </tr>\n",
        "    <tr>\n",
        "      <th>3 </th>\n",
        "      <td> three</td>\n",
        "      <td> A</td>\n",
        "      <td> bar</td>\n",
        "      <td> 0.977115</td>\n",
        "      <td>-0.458374</td>\n",
        "    </tr>\n",
        "    <tr>\n",
        "      <th>4 </th>\n",
        "      <td>   one</td>\n",
        "      <td> B</td>\n",
        "      <td> bar</td>\n",
        "      <td>-1.088947</td>\n",
        "      <td> 0.668629</td>\n",
        "    </tr>\n",
        "    <tr>\n",
        "      <th>5 </th>\n",
        "      <td>   one</td>\n",
        "      <td> C</td>\n",
        "      <td> bar</td>\n",
        "      <td> 2.171138</td>\n",
        "      <td> 0.132387</td>\n",
        "    </tr>\n",
        "    <tr>\n",
        "      <th>6 </th>\n",
        "      <td>   two</td>\n",
        "      <td> A</td>\n",
        "      <td> foo</td>\n",
        "      <td> 1.902729</td>\n",
        "      <td> 0.583591</td>\n",
        "    </tr>\n",
        "    <tr>\n",
        "      <th>7 </th>\n",
        "      <td> three</td>\n",
        "      <td> B</td>\n",
        "      <td> foo</td>\n",
        "      <td> 0.797802</td>\n",
        "      <td> 0.765162</td>\n",
        "    </tr>\n",
        "    <tr>\n",
        "      <th>8 </th>\n",
        "      <td>   one</td>\n",
        "      <td> C</td>\n",
        "      <td> foo</td>\n",
        "      <td> 0.582088</td>\n",
        "      <td> 1.388921</td>\n",
        "    </tr>\n",
        "    <tr>\n",
        "      <th>9 </th>\n",
        "      <td>   one</td>\n",
        "      <td> A</td>\n",
        "      <td> bar</td>\n",
        "      <td>-0.433451</td>\n",
        "      <td>-0.371148</td>\n",
        "    </tr>\n",
        "    <tr>\n",
        "      <th>10</th>\n",
        "      <td>   two</td>\n",
        "      <td> B</td>\n",
        "      <td> bar</td>\n",
        "      <td> 1.877547</td>\n",
        "      <td>-0.811497</td>\n",
        "    </tr>\n",
        "    <tr>\n",
        "      <th>11</th>\n",
        "      <td> three</td>\n",
        "      <td> C</td>\n",
        "      <td> bar</td>\n",
        "      <td> 0.496034</td>\n",
        "      <td> 0.549952</td>\n",
        "    </tr>\n",
        "  </tbody>\n",
        "</table>\n",
        "</div>"
       ],
       "metadata": {},
       "output_type": "pyout",
       "prompt_number": 20,
       "text": [
        "        A  B    C         D         E\n",
        "0     one  A  foo  0.529812  0.352160\n",
        "1     one  B  foo -0.623007  0.290627\n",
        "2     two  C  foo -0.573015  1.154132\n",
        "3   three  A  bar  0.977115 -0.458374\n",
        "4     one  B  bar -1.088947  0.668629\n",
        "5     one  C  bar  2.171138  0.132387\n",
        "6     two  A  foo  1.902729  0.583591\n",
        "7   three  B  foo  0.797802  0.765162\n",
        "8     one  C  foo  0.582088  1.388921\n",
        "9     one  A  bar -0.433451 -0.371148\n",
        "10    two  B  bar  1.877547 -0.811497\n",
        "11  three  C  bar  0.496034  0.549952"
       ]
      }
     ],
     "prompt_number": 20
    },
    {
     "cell_type": "code",
     "collapsed": false,
     "input": [
      "pd.pivot_table(df, values='D', index=['A', 'B'], columns=['C'])"
     ],
     "language": "python",
     "metadata": {},
     "outputs": [
      {
       "html": [
        "<div style=\"max-height:1000px;max-width:1500px;overflow:auto;\">\n",
        "<table border=\"1\" class=\"dataframe\">\n",
        "  <thead>\n",
        "    <tr style=\"text-align: right;\">\n",
        "      <th></th>\n",
        "      <th>C</th>\n",
        "      <th>bar</th>\n",
        "      <th>foo</th>\n",
        "    </tr>\n",
        "    <tr>\n",
        "      <th>A</th>\n",
        "      <th>B</th>\n",
        "      <th></th>\n",
        "      <th></th>\n",
        "    </tr>\n",
        "  </thead>\n",
        "  <tbody>\n",
        "    <tr>\n",
        "      <th rowspan=\"3\" valign=\"top\">one</th>\n",
        "      <th>A</th>\n",
        "      <td>-0.433451</td>\n",
        "      <td> 0.529812</td>\n",
        "    </tr>\n",
        "    <tr>\n",
        "      <th>B</th>\n",
        "      <td>-1.088947</td>\n",
        "      <td>-0.623007</td>\n",
        "    </tr>\n",
        "    <tr>\n",
        "      <th>C</th>\n",
        "      <td> 2.171138</td>\n",
        "      <td> 0.582088</td>\n",
        "    </tr>\n",
        "    <tr>\n",
        "      <th rowspan=\"3\" valign=\"top\">three</th>\n",
        "      <th>A</th>\n",
        "      <td> 0.977115</td>\n",
        "      <td>      NaN</td>\n",
        "    </tr>\n",
        "    <tr>\n",
        "      <th>B</th>\n",
        "      <td>      NaN</td>\n",
        "      <td> 0.797802</td>\n",
        "    </tr>\n",
        "    <tr>\n",
        "      <th>C</th>\n",
        "      <td> 0.496034</td>\n",
        "      <td>      NaN</td>\n",
        "    </tr>\n",
        "    <tr>\n",
        "      <th rowspan=\"3\" valign=\"top\">two</th>\n",
        "      <th>A</th>\n",
        "      <td>      NaN</td>\n",
        "      <td> 1.902729</td>\n",
        "    </tr>\n",
        "    <tr>\n",
        "      <th>B</th>\n",
        "      <td> 1.877547</td>\n",
        "      <td>      NaN</td>\n",
        "    </tr>\n",
        "    <tr>\n",
        "      <th>C</th>\n",
        "      <td>      NaN</td>\n",
        "      <td>-0.573015</td>\n",
        "    </tr>\n",
        "  </tbody>\n",
        "</table>\n",
        "</div>"
       ],
       "metadata": {},
       "output_type": "pyout",
       "prompt_number": 21,
       "text": [
        "C             bar       foo\n",
        "A     B                    \n",
        "one   A -0.433451  0.529812\n",
        "      B -1.088947 -0.623007\n",
        "      C  2.171138  0.582088\n",
        "three A  0.977115       NaN\n",
        "      B       NaN  0.797802\n",
        "      C  0.496034       NaN\n",
        "two   A       NaN  1.902729\n",
        "      B  1.877547       NaN\n",
        "      C       NaN -0.573015"
       ]
      }
     ],
     "prompt_number": 21
    },
    {
     "cell_type": "code",
     "collapsed": false,
     "input": [
      "d=np.random.random_integers(0,9,[4,4])"
     ],
     "language": "python",
     "metadata": {},
     "outputs": [],
     "prompt_number": 28
    },
    {
     "cell_type": "code",
     "collapsed": false,
     "input": [
      "s=pd.Series([a,b,c,d],index=['one','two','three','four'])"
     ],
     "language": "python",
     "metadata": {},
     "outputs": [],
     "prompt_number": 30
    },
    {
     "cell_type": "code",
     "collapsed": false,
     "input": [
      "s"
     ],
     "language": "python",
     "metadata": {},
     "outputs": [
      {
       "metadata": {},
       "output_type": "pyout",
       "prompt_number": 31,
       "text": [
        "one      [[6, 3, 1, 8], [8, 8, 3, 1], [5, 6, 9, 0], [2,...\n",
        "two      [[0, 8, 2, 6], [1, 8, 4, 7], [5, 4, 2, 5], [1,...\n",
        "three    [[2, 4, 3, 2], [0, 4, 2, 3], [8, 5, 5, 2], [6,...\n",
        "four     [[7, 8, 9, 8], [4, 1, 3, 5], [7, 9, 8, 0], [1,...\n",
        "dtype: object"
       ]
      }
     ],
     "prompt_number": 31
    },
    {
     "cell_type": "code",
     "collapsed": false,
     "input": [
      "s.one"
     ],
     "language": "python",
     "metadata": {},
     "outputs": [
      {
       "metadata": {},
       "output_type": "pyout",
       "prompt_number": 34,
       "text": [
        "array([[6, 3, 1, 8],\n",
        "       [8, 8, 3, 1],\n",
        "       [5, 6, 9, 0],\n",
        "       [2, 4, 9, 4]])"
       ]
      }
     ],
     "prompt_number": 34
    },
    {
     "cell_type": "heading",
     "level": 1,
     "metadata": {},
     "source": [
      "HDF5"
     ]
    },
    {
     "cell_type": "code",
     "collapsed": false,
     "input": [
      "from nitpick.fileIO import History"
     ],
     "language": "python",
     "metadata": {},
     "outputs": [],
     "prompt_number": 5
    },
    {
     "cell_type": "code",
     "collapsed": false,
     "input": [
      "h=History()"
     ],
     "language": "python",
     "metadata": {},
     "outputs": [],
     "prompt_number": 6
    },
    {
     "cell_type": "code",
     "collapsed": false,
     "input": [
      "prox=h.proximalSynapses()"
     ],
     "language": "python",
     "metadata": {},
     "outputs": [],
     "prompt_number": 7
    },
    {
     "cell_type": "code",
     "collapsed": false,
     "input": [
      "max(map(len,prox))"
     ],
     "language": "python",
     "metadata": {},
     "outputs": [
      {
       "metadata": {},
       "output_type": "pyout",
       "prompt_number": 13,
       "text": [
        "1887"
       ]
      }
     ],
     "prompt_number": 13
    },
    {
     "cell_type": "code",
     "collapsed": false,
     "input": [
      "len(prox)"
     ],
     "language": "python",
     "metadata": {},
     "outputs": [
      {
       "metadata": {},
       "output_type": "pyout",
       "prompt_number": 14,
       "text": [
        "300"
       ]
      }
     ],
     "prompt_number": 14
    },
    {
     "cell_type": "code",
     "collapsed": false,
     "input": [
      "paddedProx = []\n",
      "for item in prox:\n",
      "    item = np.asarray(prox[0])\n",
      "    padBy = 1887-len(item)\n",
      "    i = np.asarray([[1,2,3],[4,5,6]])\n",
      "    paddedProx.append(np.pad(item,[[0,padBy],[0,0]],mode='constant'))"
     ],
     "language": "python",
     "metadata": {},
     "outputs": [],
     "prompt_number": 35
    },
    {
     "cell_type": "code",
     "collapsed": false,
     "input": [
      "Prox = np.asarray(paddedProx)"
     ],
     "language": "python",
     "metadata": {},
     "outputs": [],
     "prompt_number": 36
    },
    {
     "cell_type": "code",
     "collapsed": false,
     "input": [
      "Prox.shape"
     ],
     "language": "python",
     "metadata": {},
     "outputs": [
      {
       "metadata": {},
       "output_type": "pyout",
       "prompt_number": 39,
       "text": [
        "(300, 1887, 3)"
       ]
      }
     ],
     "prompt_number": 39
    },
    {
     "cell_type": "code",
     "collapsed": false,
     "input": [
      "P = pd.Panel(Prox,minor_axis=['column','input','permanence'])"
     ],
     "language": "python",
     "metadata": {},
     "outputs": [],
     "prompt_number": 44
    },
    {
     "cell_type": "code",
     "collapsed": false,
     "input": [
      "P.iloc[100]['permanence'].plot()"
     ],
     "language": "python",
     "metadata": {},
     "outputs": [
      {
       "metadata": {},
       "output_type": "pyout",
       "prompt_number": 50,
       "text": [
        "<matplotlib.axes.AxesSubplot at 0xac90fcec>"
       ]
      },
      {
       "output_type": "stream",
       "stream": "stderr",
       "text": [
        "/home/ruaridh/.local/lib/python2.7/site-packages/matplotlib/font_manager.py:1236: UserWarning: findfont: Font family ['monospace'] not found. Falling back to Bitstream Vera Sans\n",
        "  (prop.get_family(), self.defaultFamily[fontext]))\n"
       ]
      },
      {
       "metadata": {},
       "output_type": "display_data",
       "png": "[encoded data removed]",
       "text": [
        "<matplotlib.figure.Figure at 0xac90ff8c>"
       ]
      }
     ],
     "prompt_number": 50
    },
    {
     "cell_type": "code",
     "collapsed": false,
     "input": [
      "%ls"
     ],
     "language": "python",
     "metadata": {},
     "outputs": [
      {
       "output_type": "stream",
       "stream": "stdout",
       "text": [
        "CodeNotes.ipynb                ProjectNameIdeas.txt\r\n",
        "Experimental Plots.ipynb       ProjectNameIdeas.txt~\r\n",
        "ExperimentingWithPandas.ipynb  \u001b[0m\u001b[01;34mswarmy\u001b[0m/\r\n",
        "HotGymDemo.ipynb               test.h5\r\n",
        "HotGym.ipynb                   ThoughtsAndExperiments.ipynb\r\n"
       ]
      }
     ],
     "prompt_number": 54
    },
    {
     "cell_type": "code",
     "collapsed": false,
     "input": [
      "P.to_hdf('test.h5','synapses',format='fixed')"
     ],
     "language": "python",
     "metadata": {},
     "outputs": [],
     "prompt_number": 65
    },
    {
     "cell_type": "code",
     "collapsed": false,
     "input": [
      "%timeit pd.read_hdf('test.h5','synapses',format='fixed')"
     ],
     "language": "python",
     "metadata": {},
     "outputs": [
      {
       "output_type": "stream",
       "stream": "stdout",
       "text": [
        "10 loops, best of 3: 25.9 ms per loop\n"
       ]
      }
     ],
     "prompt_number": 66
    },
    {
     "cell_type": "code",
     "collapsed": false,
     "input": [
      "%timeit h.proximalSynapses()"
     ],
     "language": "python",
     "metadata": {},
     "outputs": [
      {
       "output_type": "stream",
       "stream": "stdout",
       "text": [
        "1 loops, best of 3: 767 ms per loop\n"
       ]
      }
     ],
     "prompt_number": 58
    },
    {
     "cell_type": "code",
     "collapsed": false,
     "input": [
      "print str(round(100* 25.9/767.0,3))+\"% the speed of text files\""
     ],
     "language": "python",
     "metadata": {},
     "outputs": [
      {
       "output_type": "stream",
       "stream": "stdout",
       "text": [
        "3.377% the speed of text files\n"
       ]
      }
     ],
     "prompt_number": 73
    },
    {
     "cell_type": "code",
     "collapsed": false,
     "input": [
      "import os\n",
      "os.path.getsize('test.h5')"
     ],
     "language": "python",
     "metadata": {},
     "outputs": [
      {
       "metadata": {},
       "output_type": "pyout",
       "prompt_number": 84,
       "text": [
        "27376218L"
       ]
      }
     ],
     "prompt_number": 84
    },
    {
     "cell_type": "code",
     "collapsed": false,
     "input": [
      "def _total_size(source):\n",
      "    total_size = os.path.getsize(source)\n",
      "    for item in os.listdir(source):\n",
      "        itempath = os.path.join(source, item)\n",
      "        if os.path.isfile(itempath):\n",
      "            total_size += os.path.getsize(itempath)\n",
      "        elif os.path.isdir(itempath):\n",
      "            total_size += _total_size(itempath)\n",
      "    return total_size"
     ],
     "language": "python",
     "metadata": {},
     "outputs": [],
     "prompt_number": 82
    },
    {
     "cell_type": "code",
     "collapsed": false,
     "input": [
      "_total_size(\"/tmp/cerebro2/model\")"
     ],
     "language": "python",
     "metadata": {},
     "outputs": [
      {
       "metadata": {},
       "output_type": "pyout",
       "prompt_number": 83,
       "text": [
        "18281099L"
       ]
      }
     ],
     "prompt_number": 83
    },
    {
     "cell_type": "code",
     "collapsed": false,
     "input": [],
     "language": "python",
     "metadata": {},
     "outputs": []
    }
   ],
   "metadata": {}
  }
 ]
}