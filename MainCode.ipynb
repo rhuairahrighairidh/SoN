{
 "metadata": {
  "name": "",
  "signature": "sha256:77cca346902b60244e991851849328c600c81ee863b3e383c529e10ad3355fe5"
 },
 "nbformat": 3,
 "nbformat_minor": 0,
 "worksheets": [
  {
   "cells": [
    {
     "cell_type": "heading",
     "level": 1,
     "metadata": {},
     "source": [
      "History Object (thing to load in data saved by patcher)"
     ]
    },
    {
     "cell_type": "heading",
     "level": 3,
     "metadata": {},
     "source": [
      "Definition"
     ]
    },
    {
     "cell_type": "code",
     "collapsed": false,
     "input": [
      "import json\n",
      "import os\n",
      "from cerebro2.paths import Paths\n",
      "\n",
      "class History():\n",
      "    def __init__(self, dataDir='/tmp/cerebro2/model', modelID=None):\n",
      "        self.paths = Paths(dataDir, deleteExisting=False)\n",
      "    \n",
      "    def getNumberOfIterations(self):\n",
      "        fileNames = os.listdir(self.paths.states())\n",
      "        listOfIterations = [state for state in fileNames if not state.startswith(\".\")]\n",
      "        return len(listOfIterations)\n",
      "        \n",
      "        \n",
      "        \n",
      "    def inputDimensions(self):\n",
      "        return readJSON(self.paths.dimensions(\"input\"))\n",
      "    \n",
      "    def dimensions(self):\n",
      "        return readJSON(self.paths.dimensions(\"output\"))\n",
      "    \n",
      "    def inputVector(self):\n",
      "        inputVector = []       \n",
      "        for iteration in xrange(1,self.getNumberOfIterations()+1):\n",
      "            inputVector.append(readJSON(self.paths.activeCells(\"input\", iteration)))\n",
      "        return inputVector\n",
      "    \n",
      "    def activeColumns(self):\n",
      "        activeColumns = []       \n",
      "        for iteration in xrange(1,self.getNumberOfIterations()+1):\n",
      "            activeColumns.append(readJSON(self.paths.activeColumns(\"output\", iteration)))\n",
      "        return activeColumns\n",
      "        \n",
      "    def activeCells(self):\n",
      "        activeCells = []       \n",
      "        for iteration in xrange(1,self.getNumberOfIterations()+1):\n",
      "            activeCells.append(readJSON(self.paths.activeCells(\"output\", iteration)))\n",
      "        return activeCells\n",
      "    \n",
      "    def predictiveCells(self):\n",
      "        predictiveCells = []       \n",
      "        for iteration in xrange(1,self.getNumberOfIterations()+1):\n",
      "            predictiveCells.append(readJSON(self.paths.predictedCells(\"output\", iteration)))\n",
      "        return predictiveCells\n",
      "    \n",
      "    def proximalSynapses(self):\n",
      "        proximalSynapses = []       \n",
      "        for iteration in xrange(1,self.getNumberOfIterations()+1):\n",
      "            proximalSynapses.append(readJSON(self.paths.proximalSynapses(\"output\", iteration)))\n",
      "        return proximalSynapses\n",
      "\n",
      "        \n",
      "    #encoder stuff\n",
      "\n",
      "def readJSON(filepath):\n",
      "  with open(filepath, 'r') as infile:\n",
      "    return json.load(infile)"
     ],
     "language": "python",
     "metadata": {},
     "outputs": [],
     "prompt_number": 1
    },
    {
     "cell_type": "markdown",
     "metadata": {},
     "source": [
      "Currently this doesn't do any error handling if files don't exist.\n",
      "Also still need to add encoder data loaders"
     ]
    },
    {
     "cell_type": "heading",
     "level": 3,
     "metadata": {},
     "source": [
      "Usage"
     ]
    },
    {
     "cell_type": "markdown",
     "metadata": {},
     "source": [
      "First create a history object for a particular file path"
     ]
    },
    {
     "cell_type": "code",
     "collapsed": false,
     "input": [
      "h=History()\n",
      "#or h = History('/path/to/saved/data')"
     ],
     "language": "python",
     "metadata": {},
     "outputs": [],
     "prompt_number": 12
    },
    {
     "cell_type": "markdown",
     "metadata": {},
     "source": [
      "Then call whatever piece you want"
     ]
    },
    {
     "cell_type": "code",
     "collapsed": false,
     "input": [
      "h.inputDimensions()"
     ],
     "language": "python",
     "metadata": {},
     "outputs": [
      {
       "metadata": {},
       "output_type": "pyout",
       "prompt_number": 13,
       "text": [
        "[10, 15]"
       ]
      }
     ],
     "prompt_number": 13
    },
    {
     "cell_type": "code",
     "collapsed": false,
     "input": [
      "h.activeColumns()"
     ],
     "language": "python",
     "metadata": {},
     "outputs": [
      {
       "metadata": {},
       "output_type": "pyout",
       "prompt_number": 14,
       "text": [
        "[]"
       ]
      }
     ],
     "prompt_number": 14
    },
    {
     "cell_type": "heading",
     "level": 3,
     "metadata": {},
     "source": [
      "Notes"
     ]
    },
    {
     "cell_type": "markdown",
     "metadata": {},
     "source": [
      " - The aim with this was to make it as thin as possible - don't do any processing of the data, just load it in, in the same way it was saved\n",
      " - loading the proximal synapses takes a while, might be an idea to change everything to use numpy arrays\n",
      " - It feels like there is a lot of almost repeated code in the patcher. Is ther a better way of doing things?\n",
      " - It would be nice to have a powerful way of slicing and dicing the data - for example a easy way to get a list of all the SDR's produced by a particular category of input, or an easy way to get the history of the synapses connected to one column."
     ]
    },
    {
     "cell_type": "heading",
     "level": 3,
     "metadata": {},
     "source": [
      "Patch the patcher (modify it so that it adds a history object onto the spatial or temporal pooler instance)"
     ]
    },
    {
     "cell_type": "markdown",
     "metadata": {},
     "source": [
      "Idealy this would just be part of the actual patcher code, rather than another patch."
     ]
    },
    {
     "cell_type": "code",
     "collapsed": false,
     "input": [
      "from cerebro2.patcher import Patcher\n",
      "from cerebro2.paths import Paths"
     ],
     "language": "python",
     "metadata": {},
     "outputs": [],
     "prompt_number": 2
    },
    {
     "cell_type": "code",
     "collapsed": false,
     "input": [
      "originalPatchSP = Patcher.patchSP\n",
      "def modifiedPatchSP(*args, **kwargs):\n",
      "    result = originalPatchSP(*args, **kwargs)\n",
      "    args[1].history = History()\n",
      "    return result\n",
      "Patcher.patchSP = modifiedPatchSP"
     ],
     "language": "python",
     "metadata": {},
     "outputs": [],
     "prompt_number": 3
    },
    {
     "cell_type": "heading",
     "level": 4,
     "metadata": {},
     "source": [
      "Example Usage"
     ]
    },
    {
     "cell_type": "markdown",
     "metadata": {},
     "source": [
      "Create a spatial pooler and patch it"
     ]
    },
    {
     "cell_type": "code",
     "collapsed": false,
     "input": [
      "from nupic.research.spatial_pooler import SpatialPooler"
     ],
     "language": "python",
     "metadata": {},
     "outputs": [],
     "prompt_number": 4
    },
    {
     "cell_type": "code",
     "collapsed": false,
     "input": [
      "sp = SpatialPooler(\n",
      "                   inputDimensions=[25, 25],\n",
      "                   columnDimensions=[20, 20],\n",
      "                   potentialRadius=4,\n",
      "                   potentialPct=0.5,\n",
      "                   synPermInactiveDec=0.1,\n",
      "                   synPermActiveInc=0.1,\n",
      "                   synPermConnected=0.1,\n",
      "                   localAreaDensity=0.1,\n",
      "                   numActiveColumnsPerInhArea=-1,\n",
      "                   globalInhibition=True)"
     ],
     "language": "python",
     "metadata": {},
     "outputs": [],
     "prompt_number": 5
    },
    {
     "cell_type": "code",
     "collapsed": false,
     "input": [
      "p=Patcher()\n",
      "p.patchSP(sp)"
     ],
     "language": "python",
     "metadata": {},
     "outputs": [],
     "prompt_number": 6
    },
    {
     "cell_type": "markdown",
     "metadata": {},
     "source": [
      "Then call whatever piece you need"
     ]
    },
    {
     "cell_type": "code",
     "collapsed": false,
     "input": [
      "sp.history.dimensions()"
     ],
     "language": "python",
     "metadata": {},
     "outputs": [
      {
       "metadata": {},
       "output_type": "pyout",
       "prompt_number": 15,
       "text": [
        "[20, 20]"
       ]
      }
     ],
     "prompt_number": 15
    },
    {
     "cell_type": "heading",
     "level": 1,
     "metadata": {},
     "source": [
      "Plots"
     ]
    },
    {
     "cell_type": "heading",
     "level": 2,
     "metadata": {},
     "source": [
      "Initialization"
     ]
    },
    {
     "cell_type": "code",
     "collapsed": false,
     "input": [
      "import matplotlib.pyplot as plt\n",
      "import numpy as np\n",
      "%matplotlib inline"
     ],
     "language": "python",
     "metadata": {},
     "outputs": [],
     "prompt_number": 8
    },
    {
     "cell_type": "heading",
     "level": 2,
     "metadata": {},
     "source": [
      "SDR Difference Bar Chart"
     ]
    },
    {
     "cell_type": "markdown",
     "metadata": {},
     "source": [
      "This plot aims to show the difference between succesive SDR's.\n",
      "\n",
      " - The dark orange bar shows the number of the cells that were active in the previous timestep AND are still active now. (1&#10140;1)\n",
      " - The dark green bar shows the number of cells that are active this timestep AND also weren't active before. (0&#10140;1)\n",
      " - The light green bar shows the number of cells that were active in the previous timestep but are no longer active. (1&#10140;0)\n",
      " \n",
      "These bars also mean different things when they're added together. The bottom two bars together show the total number of active cells for the current timestep. And the top two bars together shows the hamming distance (between this timestep and the previous one)."
     ]
    },
    {
     "cell_type": "heading",
     "level": 4,
     "metadata": {},
     "source": [
      "Get some input"
     ]
    },
    {
     "cell_type": "markdown",
     "metadata": {},
     "source": [
      "The data here was produced by a small spatial pooler fed with random data (from the Cerebro2 spatial pooler demo)."
     ]
    },
    {
     "cell_type": "code",
     "collapsed": false,
     "input": [
      "h = History()\n",
      "activeColumns = np.asarray(h.activeColumns())"
     ],
     "language": "python",
     "metadata": {},
     "outputs": [],
     "prompt_number": 17
    },
    {
     "cell_type": "code",
     "collapsed": false,
     "input": [
      "print activeColumns[:5]"
     ],
     "language": "python",
     "metadata": {},
     "outputs": [
      {
       "output_type": "stream",
       "stream": "stdout",
       "text": [
        "[[ 27  42  44  59  63  65  66  76 105 107 121 126 148 150 162 177 189 192\n",
        "  202 218 228 237 248 255 259 268 269 275 277 281 283 284 286 302 312 317\n",
        "  328 331 348 368]\n",
        " [  1   3   5  11  37  59  61  73  89  97 122 133 137 146 150 175 196 208\n",
        "  228 235 236 245 246 252 260 261 268 273 278 290 301 303 307 330 331 345\n",
        "  349 360 363 392]\n",
        " [  0   1  29  46  68 106 110 135 138 140 162 177 183 186 195 196 201 218\n",
        "  235 237 244 254 257 259 268 272 283 297 302 307 315 318 335 348 354 360\n",
        "  370 380 382 387]\n",
        " [  1  13  32  33  40  42  59  71  92 101 124 133 175 185 196 208 216 218\n",
        "  226 234 235 237 238 259 261 268 277 278 283 284 301 302 303 307 328 348\n",
        "  360 364 370 376]\n",
        " [  1   4  11  35  36  39  44  47  52  53  55  59  66  67  71  73  89  92\n",
        "   96 107 113 124 130 133 175 237 238 261 262 268 278 284 297 301 305 328\n",
        "  331 370 383 398]]\n"
       ]
      }
     ],
     "prompt_number": 19
    },
    {
     "cell_type": "heading",
     "level": 4,
     "metadata": {},
     "source": [
      "Transform the input before plotting. (compute the differences between the states)"
     ]
    },
    {
     "cell_type": "code",
     "collapsed": false,
     "input": [
      "import itertools\n",
      "#Example function from itertools documentation. Used for looping through a list in pairs\n",
      "def pairwise(iterable):\n",
      "    \"s -> (s0,s1), (s1,s2), (s2, s3), ...\"\n",
      "    a, b = itertools.tee(iterable)\n",
      "    next(b, None)\n",
      "    return itertools.izip(a, b)\n",
      "\n",
      "turnOns=[]\n",
      "turnOffs=[]\n",
      "stayOns=[]\n",
      "\n",
      "for inputPair in pairwise(activeColumns):\n",
      "    numberThatTurnOn = len(np.setdiff1d(*inputPair))\n",
      "    numberThatTurnOff = len(np.setdiff1d(*inputPair)) # \"remove from arr1 all the elements that are also in arr2\"\n",
      "    numberThatStayOn = len(np.intersect1d(*inputPair))\n",
      "    turnOns.append(numberThatTurnOn)\n",
      "    turnOffs.append(numberThatTurnOff)\n",
      "    stayOns.append(numberThatStayOn)"
     ],
     "language": "python",
     "metadata": {},
     "outputs": [],
     "prompt_number": 20
    },
    {
     "cell_type": "code",
     "collapsed": false,
     "input": [
      "print turnOns[:20]\n",
      "print turnOffs[:20]\n",
      "print stayOns[:20]"
     ],
     "language": "python",
     "metadata": {},
     "outputs": [
      {
       "output_type": "stream",
       "stream": "stdout",
       "text": [
        "[35, 34, 27, 24, 19, 21, 21, 24, 20, 20, 16, 22, 14, 20, 14, 24, 25, 20, 21, 19]\n",
        "[35, 34, 27, 24, 19, 21, 21, 24, 20, 20, 16, 22, 14, 20, 14, 24, 25, 20, 21, 19]\n",
        "[5, 6, 13, 16, 21, 19, 19, 16, 20, 20, 24, 18, 26, 20, 26, 16, 15, 20, 19, 21]\n"
       ]
      }
     ],
     "prompt_number": 21
    },
    {
     "cell_type": "heading",
     "level": 4,
     "metadata": {},
     "source": [
      "Draw the plot"
     ]
    },
    {
     "cell_type": "code",
     "collapsed": false,
     "input": [
      "#Set up the colors used for the bars\n",
      "darkOrange = np.array([96,63,32])/255.0\n",
      "darkGreen = np.array([67,93,51])/255.0\n",
      "lightGreen = np.array([160,191,139])/255.0"
     ],
     "language": "python",
     "metadata": {},
     "outputs": [],
     "prompt_number": 22
    },
    {
     "cell_type": "code",
     "collapsed": false,
     "input": [
      "(figure,axes) = plt.subplots()\n",
      "#Set the bars so that the edges lie on whole numbers - to emphasise that that each bar shows the difference between consecutive states\n",
      "xPositionsOfBars = np.arange(activeColumns.shape[0]-1)\n",
      "#Plot the bars (as a stacked bar chart (which matplotlib doesn't seem to automatically support))\n",
      "axes.bar(xPositionsOfBars,stayOns, width=1, color=darkOrange)\n",
      "axes.bar(xPositionsOfBars,turnOns, width=1, color=darkGreen, bottom=stayOns)\n",
      "axes.bar(xPositionsOfBars,turnOffs, width=1, color=lightGreen, bottom=[stayOns[j] +turnOns[j] for j in range(len(stayOns))])\n",
      "#get rid of annoying gap at the end\n",
      "axes.set_xlim(right=xPositionsOfBars[-1]+1)\n",
      "#set the tallest column to a set aspec ratio (actually uses the maximum of the y axis, not the maximum column height)\n",
      "\n",
      "barScreenAspectRatio=15\n",
      "axes.set_aspect(barScreenAspectRatio/axes.get_ylim()[1], adjustable='box-forced')\n",
      "#make the plot bigger\n",
      "figure.set_size_inches(16,17)\n",
      "\n",
      "\n",
      "#Set up another axis to show percentage\n",
      "def convertToPercentage(numberOfCells,totalNumberOfCells=400):\n",
      "    return 100*float(numberOfCells)/float(totalNumberOfCells)\n",
      "\n",
      "percentageAxis = axes.twinx()\n",
      "percentageAxis.set_ylim(bottom=convertToPercentage(axes.get_ylim()[0]),top=convertToPercentage(axes.get_ylim()[1]))\n",
      "percentageAxis.set_aspect(barScreenAspectRatio/percentageAxis.get_ylim()[1], adjustable='box-forced')\n",
      "percentageAxis.set_ylabel(\"%\")\n"
     ],
     "language": "python",
     "metadata": {},
     "outputs": [
      {
       "metadata": {},
       "output_type": "pyout",
       "prompt_number": 23,
       "text": [
        "<matplotlib.text.Text at 0xaef2e38c>"
       ]
      },
      {
       "metadata": {},
       "output_type": "display_data",
       "png": "[encoded data removed]",
       "text": [
        "<matplotlib.figure.Figure at 0xb1783bec>"
       ]
      }
     ],
     "prompt_number": 23
    },
    {
     "cell_type": "heading",
     "level": 2,
     "metadata": {},
     "source": [
      "Active Column Plot"
     ]
    },
    {
     "cell_type": "markdown",
     "metadata": {},
     "source": [
      "This plot shows the active cells/columns in a region at each timestep.\n",
      "\n",
      "Time increases to the right. Each horizontal line represents one cell. The dots show when it was active. The dots that lie vertically above each other show the active cells at that time step.  \n",
      "All topology has been removed in this plot. The left-most dot on any line shows when that cell was first active."
     ]
    },
    {
     "cell_type": "heading",
     "level": 4,
     "metadata": {},
     "source": [
      "Get some input"
     ]
    },
    {
     "cell_type": "markdown",
     "metadata": {},
     "source": [
      "The data here was produced by a small spatial pooler fed with random data (from the Cerebro2 spatial pooler demo)."
     ]
    },
    {
     "cell_type": "code",
     "collapsed": false,
     "input": [
      "h = History()\n",
      "activeColumns = np.asarray(h.activeColumns())"
     ],
     "language": "python",
     "metadata": {},
     "outputs": [],
     "prompt_number": 5
    },
    {
     "cell_type": "code",
     "collapsed": false,
     "input": [
      "print activeColumns[:5]"
     ],
     "language": "python",
     "metadata": {},
     "outputs": [
      {
       "output_type": "stream",
       "stream": "stdout",
       "text": [
        "[[ 27  42  44  59  63  65  66  76 105 107 121 126 148 150 162 177 189 192\n",
        "  202 218 228 237 248 255 259 268 269 275 277 281 283 284 286 302 312 317\n",
        "  328 331 348 368]\n",
        " [  1   3   5  11  37  59  61  73  89  97 122 133 137 146 150 175 196 208\n",
        "  228 235 236 245 246 252 260 261 268 273 278 290 301 303 307 330 331 345\n",
        "  349 360 363 392]\n",
        " [  0   1  29  46  68 106 110 135 138 140 162 177 183 186 195 196 201 218\n",
        "  235 237 244 254 257 259 268 272 283 297 302 307 315 318 335 348 354 360\n",
        "  370 380 382 387]\n",
        " [  1  13  32  33  40  42  59  71  92 101 124 133 175 185 196 208 216 218\n",
        "  226 234 235 237 238 259 261 268 277 278 283 284 301 302 303 307 328 348\n",
        "  360 364 370 376]\n",
        " [  1   4  11  35  36  39  44  47  52  53  55  59  66  67  71  73  89  92\n",
        "   96 107 113 124 130 133 175 237 238 261 262 268 278 284 297 301 305 328\n",
        "  331 370 383 398]]\n"
       ]
      }
     ],
     "prompt_number": 26
    },
    {
     "cell_type": "heading",
     "level": 4,
     "metadata": {},
     "source": [
      "Transform the input before plotting (convert the column indices into x&y coordinates)"
     ]
    },
    {
     "cell_type": "markdown",
     "metadata": {},
     "source": [
      "Each active column is plotted as a point.  \n",
      "The x value is the iteration. The y value is the iteration when that column was first active."
     ]
    },
    {
     "cell_type": "code",
     "collapsed": false,
     "input": [
      "#Calculate x values -FIX THIS - it won't work if the number of active columns varies with time\n",
      "xValues = np.array([range(activeColumns.shape[0])])\n",
      "xValues = np.repeat(xValues.T,activeColumns.shape[1],axis=1)\n",
      "xValues = xValues.flatten()\n",
      "\n",
      "#Calculate y values\n",
      "def transformActiveColumnIndexes(activeColumns):\n",
      "    \n",
      "    pastIndexes = []\n",
      "    yValues = []\n",
      "    for activeColumn in activeColumns.flatten():\n",
      "        if activeColumn not in pastIndexes:\n",
      "            pastIndexes.append(activeColumn)\n",
      "        yValue = pastIndexes.index(activeColumn)\n",
      "        yValues.append(yValue)\n",
      "        \n",
      "    return yValues\n",
      "\n",
      "yValues = np.asarray(transformActiveColumnIndexes(activeColumns))"
     ],
     "language": "python",
     "metadata": {},
     "outputs": [],
     "prompt_number": 27
    },
    {
     "cell_type": "code",
     "collapsed": false,
     "input": [
      "print xValues[:20]\n",
      "print activeColumns.flatten()[:20]\n",
      "print yValues[:20]"
     ],
     "language": "python",
     "metadata": {},
     "outputs": [
      {
       "output_type": "stream",
       "stream": "stdout",
       "text": [
        "[0 0 0 0 0 0 0 0 0 0 0 0 0 0 0 0 0 0 0 0]\n",
        "[ 27  42  44  59  63  65  66  76 105 107 121 126 148 150 162 177 189 192\n",
        " 202 218]\n",
        "[ 0  1  2  3  4  5  6  7  8  9 10 11 12 13 14 15 16 17 18 19]\n"
       ]
      }
     ],
     "prompt_number": 28
    },
    {
     "cell_type": "heading",
     "level": 4,
     "metadata": {},
     "source": [
      "Draw The Plot"
     ]
    },
    {
     "cell_type": "code",
     "collapsed": false,
     "input": [
      "import matplotlib\n",
      "\n",
      "#set up plot\n",
      "(figure,axes) = plt.subplots()\n",
      "#plot\n",
      "axes.plot(xValues,yValues,'.')\n",
      "#display the horizontal grid\n",
      "axes.minorticks_on()\n",
      "axes.grid(True,axis='y',which='both',linestyle='solid',color=(0.7,0.7,0.7))\n",
      "#Set the horizontal gridlines to have spacing of 1\n",
      "axes.yaxis.set_minor_locator(matplotlib.ticker.MultipleLocator(1))\n",
      "\n",
      "#set plot aspect ratio so the axes are even. Make the plot bigger (the plot expands to the maximum size allowed by aspect ratio)\n",
      "axes.set_aspect(aspect='equal')\n",
      "figure.set_size_inches(25,25)\n"
     ],
     "language": "python",
     "metadata": {},
     "outputs": [
      {
       "metadata": {},
       "output_type": "display_data",
       "png": "[encoded data removed]",
       "text": [
        "<matplotlib.figure.Figure at 0xaf0c8aec>"
       ]
      }
     ],
     "prompt_number": 32
    },
    {
     "cell_type": "markdown",
     "metadata": {},
     "source": [
      "Whats going on in the middle? boosting? If the boost factors were saved by the patcher it would be really easy to check (```print sp.history.boostFactors()[40:60]```)"
     ]
    },
    {
     "cell_type": "heading",
     "level": 1,
     "metadata": {},
     "source": [
      "Another Plot"
     ]
    },
    {
     "cell_type": "code",
     "collapsed": false,
     "input": [],
     "language": "python",
     "metadata": {},
     "outputs": []
    }
   ],
   "metadata": {}
  }
 ]
}