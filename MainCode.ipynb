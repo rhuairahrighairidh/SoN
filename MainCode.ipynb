{
 "metadata": {
  "name": "",
  "signature": "sha256:9072906ea753911a071d79373fc59f02c8b7db028f17fef9e51dcb391d1b9d16"
 },
 "nbformat": 3,
 "nbformat_minor": 0,
 "worksheets": [
  {
   "cells": [
    {
     "cell_type": "heading",
     "level": 1,
     "metadata": {},
     "source": [
      "History Object (thing to load in data saved by patcher)"
     ]
    },
    {
     "cell_type": "heading",
     "level": 3,
     "metadata": {},
     "source": [
      "Definition"
     ]
    },
    {
     "cell_type": "code",
     "collapsed": false,
     "input": [
      "import json\n",
      "import os\n",
      "from cerebro2.paths import Paths\n",
      "\n",
      "class History():\n",
      "    def __init__(self, dataDir='/tmp/cerebro2/model', modelID=None):\n",
      "        self.paths = Paths(dataDir, deleteExisting=False)\n",
      "    \n",
      "    def getNumberOfIterations(self):\n",
      "        fileNames = os.listdir(self.paths.states())\n",
      "        listOfIterations = [state for state in fileNames if not state.startswith(\".\")]\n",
      "        return len(listOfIterations)\n",
      "        \n",
      "        \n",
      "        \n",
      "    def inputDimensions(self):\n",
      "        return readJSON(self.paths.dimensions(\"input\"))\n",
      "    \n",
      "    def dimensions(self):\n",
      "        return readJSON(self.paths.dimensions(\"output\"))\n",
      "    \n",
      "    def inputVector(self):\n",
      "        inputVector = []       \n",
      "        for iteration in xrange(1,self.getNumberOfIterations()+1):\n",
      "            inputVector.append(readJSON(self.paths.activeCells(\"input\", iteration)))\n",
      "        return inputVector\n",
      "    \n",
      "    def activeColumns(self):\n",
      "        activeColumns = []       \n",
      "        for iteration in xrange(1,self.getNumberOfIterations()+1):\n",
      "            activeColumns.append(readJSON(self.paths.activeColumns(\"output\", iteration)))\n",
      "        return activeColumns\n",
      "        \n",
      "    def activeCells(self):\n",
      "        activeCells = []       \n",
      "        for iteration in xrange(1,self.getNumberOfIterations()+1):\n",
      "            activeCells.append(readJSON(self.paths.activeCells(\"output\", iteration)))\n",
      "        return activeCells\n",
      "    \n",
      "    def predictiveCells(self):\n",
      "        predictiveCells = []       \n",
      "        for iteration in xrange(1,self.getNumberOfIterations()+1):\n",
      "            predictiveCells.append(readJSON(self.paths.predictedCells(\"output\", iteration)))\n",
      "        return predictiveCells\n",
      "    \n",
      "    def proximalSynapses(self):\n",
      "        proximalSynapses = []       \n",
      "        for iteration in xrange(1,self.getNumberOfIterations()+1):\n",
      "            proximalSynapses.append(readJSON(self.paths.proximalSynapses(\"output\", iteration)))\n",
      "        return proximalSynapses\n",
      "\n",
      "        \n",
      "    #encoder stuff\n",
      "\n",
      "def readJSON(filepath):\n",
      "  with open(filepath, 'r') as infile:\n",
      "    return json.load(infile)"
     ],
     "language": "python",
     "metadata": {},
     "outputs": [],
     "prompt_number": 2
    },
    {
     "cell_type": "markdown",
     "metadata": {},
     "source": [
      "Currently this doesn't do any error handling if files don't exist.\n",
      "Also still need to add encoder data loaders"
     ]
    },
    {
     "cell_type": "heading",
     "level": 3,
     "metadata": {},
     "source": [
      "Usage"
     ]
    },
    {
     "cell_type": "markdown",
     "metadata": {},
     "source": [
      "First create a history object for a particular file path"
     ]
    },
    {
     "cell_type": "code",
     "collapsed": false,
     "input": [
      "h=History()\n",
      "#or h = History('/path/to/saved/data')"
     ],
     "language": "python",
     "metadata": {},
     "outputs": [],
     "prompt_number": 42
    },
    {
     "cell_type": "markdown",
     "metadata": {},
     "source": [
      "Then call whatever piece you want"
     ]
    },
    {
     "cell_type": "code",
     "collapsed": false,
     "input": [
      "h.inputDimensions()"
     ],
     "language": "python",
     "metadata": {},
     "outputs": [
      {
       "metadata": {},
       "output_type": "pyout",
       "prompt_number": 45,
       "text": [
        "[10, 15]"
       ]
      }
     ],
     "prompt_number": 45
    },
    {
     "cell_type": "code",
     "collapsed": false,
     "input": [
      "h.activeColumns()"
     ],
     "language": "python",
     "metadata": {},
     "outputs": [
      {
       "metadata": {},
       "output_type": "pyout",
       "prompt_number": 46,
       "text": [
        "[[18, 27, 39, 42, 46],\n",
        " [15, 16, 20, 22, 27],\n",
        " [18, 25, 27, 46, 49],\n",
        " [13, 20, 39, 42, 49],\n",
        " [0, 16, 27, 39, 49],\n",
        " [18, 22, 27, 39, 49],\n",
        " [16, 18, 27, 39, 46],\n",
        " [1, 20, 33, 46, 49],\n",
        " [18, 22, 32, 42, 49],\n",
        " [18, 22, 27, 46, 48],\n",
        " [18, 19, 20, 27, 49],\n",
        " [18, 27, 39, 46, 49],\n",
        " [22, 27, 39, 46, 49],\n",
        " [20, 33, 39, 46, 49],\n",
        " [18, 27, 39, 46, 49],\n",
        " [18, 22, 27, 33, 46],\n",
        " [15, 22, 27, 33, 49],\n",
        " [18, 19, 20, 27, 46],\n",
        " [20, 27, 33, 39, 48],\n",
        " [15, 20, 22, 39, 48],\n",
        " [18, 19, 20, 25, 39],\n",
        " [7, 25, 27, 33, 49],\n",
        " [7, 22, 27, 46, 49],\n",
        " [18, 27, 33, 48, 49],\n",
        " [0, 1, 22, 33, 49],\n",
        " [15, 25, 27, 33, 39],\n",
        " [16, 27, 33, 45, 46],\n",
        " [7, 18, 27, 46, 48],\n",
        " [7, 25, 33, 39, 48],\n",
        " [15, 25, 27, 39, 49],\n",
        " [15, 25, 27, 29, 46],\n",
        " [7, 15, 19, 22, 49],\n",
        " [15, 25, 27, 33, 49],\n",
        " [7, 15, 25, 33, 49],\n",
        " [15, 20, 25, 27, 45],\n",
        " [7, 15, 19, 22, 49],\n",
        " [7, 15, 18, 22, 25],\n",
        " [7, 25, 33, 39, 45],\n",
        " [15, 20, 27, 45, 46],\n",
        " [15, 22, 27, 33, 49],\n",
        " [15, 20, 33, 46, 48],\n",
        " [15, 18, 22, 25, 39],\n",
        " [18, 27, 33, 45, 47],\n",
        " [20, 22, 25, 27, 33],\n",
        " [9, 15, 22, 33, 48],\n",
        " [7, 15, 22, 25, 33],\n",
        " [22, 25, 33, 45, 49],\n",
        " [0, 16, 18, 20, 46],\n",
        " [20, 33, 39, 42, 49],\n",
        " [15, 22, 25, 42, 45],\n",
        " [15, 19, 25, 33, 48],\n",
        " [12, 17, 30, 35, 41],\n",
        " [5, 8, 11, 23, 36],\n",
        " [10, 21, 31, 40, 44],\n",
        " [3, 26, 34, 37, 38],\n",
        " [2, 4, 6, 14, 28],\n",
        " [19, 24, 39, 43, 46],\n",
        " [15, 17, 19, 25, 48],\n",
        " [0, 2, 15, 33, 46],\n",
        " [7, 15, 18, 39, 46],\n",
        " [7, 22, 42, 45, 46],\n",
        " [15, 22, 25, 27, 33],\n",
        " [18, 20, 27, 42, 48],\n",
        " [15, 39, 45, 48, 49],\n",
        " [15, 22, 25, 39, 49],\n",
        " [15, 18, 45, 48, 49],\n",
        " [5, 7, 19, 45, 46],\n",
        " [7, 22, 25, 45, 46],\n",
        " [20, 22, 37, 39, 46],\n",
        " [18, 45, 46, 48, 49],\n",
        " [15, 18, 20, 36, 39],\n",
        " [27, 39, 42, 45, 46],\n",
        " [22, 27, 37, 45, 48],\n",
        " [18, 22, 33, 39, 48],\n",
        " [15, 25, 37, 42, 45],\n",
        " [9, 15, 20, 42, 49],\n",
        " [9, 15, 20, 39, 45],\n",
        " [7, 33, 39, 48, 49],\n",
        " [15, 20, 25, 27, 45],\n",
        " [27, 33, 39, 46, 49],\n",
        " [7, 25, 27, 37, 45],\n",
        " [9, 22, 27, 33, 37],\n",
        " [25, 37, 39, 42, 45],\n",
        " [0, 19, 20, 25, 49],\n",
        " [22, 26, 33, 39, 45],\n",
        " [9, 39, 45, 46, 49],\n",
        " [15, 18, 20, 27, 45],\n",
        " [15, 25, 27, 45, 46],\n",
        " [15, 22, 33, 37, 45],\n",
        " [12, 15, 22, 45, 46],\n",
        " [34, 39, 42, 46, 49],\n",
        " [18, 22, 23, 33, 45],\n",
        " [15, 18, 20, 22, 39],\n",
        " [7, 9, 15, 25, 45],\n",
        " [0, 27, 33, 42, 48],\n",
        " [15, 39, 45, 46, 49],\n",
        " [0, 19, 27, 33, 49],\n",
        " [0, 1, 9, 27, 39],\n",
        " [18, 19, 20, 45, 49],\n",
        " [7, 15, 25, 26, 33]]"
       ]
      }
     ],
     "prompt_number": 46
    },
    {
     "cell_type": "heading",
     "level": 3,
     "metadata": {},
     "source": [
      "Notes"
     ]
    },
    {
     "cell_type": "markdown",
     "metadata": {},
     "source": [
      " - The aim with this was to make it as thin as possible - don't do any processing of the data, just load it in, in the same way it was saved\n",
      " - loading the proximal synapses takes a while, might be an idea to change everything to use numpy arrays\n",
      " - It feels like there is a lot of almost repeated code in the patcher. Is ther a better way of doing things?\n",
      " - It would be nice to have a powerful way of slicing and dicing the data - for example a easy way to get a list of all the SDR's produced by a particular category of input, or an easy way to get the history of the synapses connected to one column."
     ]
    },
    {
     "cell_type": "heading",
     "level": 3,
     "metadata": {},
     "source": [
      "Patch the patcher (modify it so that it adds a history object onto the spatial or temporal pooler instance)"
     ]
    },
    {
     "cell_type": "markdown",
     "metadata": {},
     "source": [
      "Idealy this would just be part of the actual patcher code, rather than another patch."
     ]
    },
    {
     "cell_type": "code",
     "collapsed": false,
     "input": [
      "from cerebro2.patcher import Patcher\n",
      "from cerebro2.paths import Paths"
     ],
     "language": "python",
     "metadata": {},
     "outputs": [],
     "prompt_number": 2
    },
    {
     "cell_type": "code",
     "collapsed": false,
     "input": [
      "originalPatchSP = Patcher.patchSP\n",
      "def modifiedPatchSP(*args, **kwargs):\n",
      "    result = originalPatchSP(*args, **kwargs)\n",
      "    args[1].history = History()\n",
      "    return result\n",
      "Patcher.patchSP = modifiedPatchSP"
     ],
     "language": "python",
     "metadata": {},
     "outputs": [],
     "prompt_number": 5
    },
    {
     "cell_type": "heading",
     "level": 4,
     "metadata": {},
     "source": [
      "Example Usage"
     ]
    },
    {
     "cell_type": "markdown",
     "metadata": {},
     "source": [
      "Create a spatial pooler and patch it"
     ]
    },
    {
     "cell_type": "code",
     "collapsed": false,
     "input": [
      "from nupic.research.spatial_pooler import SpatialPooler"
     ],
     "language": "python",
     "metadata": {},
     "outputs": [],
     "prompt_number": 3
    },
    {
     "cell_type": "code",
     "collapsed": false,
     "input": [
      "sp = SpatialPooler(\n",
      "                   inputDimensions=[10, 15],\n",
      "                   columnDimensions=[5, 10],\n",
      "                   potentialRadius=2,\n",
      "                   potentialPct=0.5,\n",
      "                   synPermInactiveDec=0.1,\n",
      "                   synPermActiveInc=0.1,\n",
      "                   synPermConnected=0.1,\n",
      "                   localAreaDensity=0.1,\n",
      "                   numActiveColumnsPerInhArea=-1,\n",
      "                   globalInhibition=True)"
     ],
     "language": "python",
     "metadata": {},
     "outputs": [],
     "prompt_number": 4
    },
    {
     "cell_type": "code",
     "collapsed": false,
     "input": [
      "p=Patcher()\n",
      "p.patchSP(sp)"
     ],
     "language": "python",
     "metadata": {},
     "outputs": [],
     "prompt_number": 6
    },
    {
     "cell_type": "markdown",
     "metadata": {},
     "source": [
      "Then call whatever piece you need"
     ]
    },
    {
     "cell_type": "code",
     "collapsed": false,
     "input": [
      "sp.history.dimensions()"
     ],
     "language": "python",
     "metadata": {},
     "outputs": [
      {
       "metadata": {},
       "output_type": "pyout",
       "prompt_number": 9,
       "text": [
        "[5, 10]"
       ]
      }
     ],
     "prompt_number": 9
    },
    {
     "cell_type": "heading",
     "level": 1,
     "metadata": {},
     "source": [
      "Plots"
     ]
    },
    {
     "cell_type": "heading",
     "level": 2,
     "metadata": {},
     "source": [
      "Initialization"
     ]
    },
    {
     "cell_type": "code",
     "collapsed": false,
     "input": [
      "import matplotlib.pyplot as plt\n",
      "import numpy as np\n",
      "%matplotlib inline"
     ],
     "language": "python",
     "metadata": {},
     "outputs": [],
     "prompt_number": 4
    },
    {
     "cell_type": "heading",
     "level": 2,
     "metadata": {},
     "source": [
      "SDR Difference Bar Chart"
     ]
    },
    {
     "cell_type": "markdown",
     "metadata": {},
     "source": [
      "This plot aims to show the difference between succesive SDR's.\n",
      "\n",
      " - The dark orange bar shows the number of the cells that were active in the previous timestep AND are still active now. (1&#10140;1)\n",
      " - The dark green bar shows the number of cells that are active this timestep AND also weren't active before. (0&#10140;1)\n",
      " - The light green bar shows the number of cells that were active in the previous timestep but are no longer active. (1&#10140;0)\n",
      " \n",
      "These bars also mean different things when they're added together. The bottom two bars together show the total number of active cells for the current timestep. And the top two bars together shows the hamming distance (between this timestep and the previous one)."
     ]
    },
    {
     "cell_type": "heading",
     "level": 4,
     "metadata": {},
     "source": [
      "Get some input"
     ]
    },
    {
     "cell_type": "markdown",
     "metadata": {},
     "source": [
      "The data here was produced by a small spatial pooler fed with random data (from the Cerebro2 spatial pooler demo)."
     ]
    },
    {
     "cell_type": "code",
     "collapsed": false,
     "input": [
      "h = History()\n",
      "activeColumns = np.asarray(h.activeColumns())"
     ],
     "language": "python",
     "metadata": {},
     "outputs": [],
     "prompt_number": 83
    },
    {
     "cell_type": "code",
     "collapsed": false,
     "input": [
      "activeColumns[:10]"
     ],
     "language": "python",
     "metadata": {},
     "outputs": [
      {
       "metadata": {},
       "output_type": "pyout",
       "prompt_number": 84,
       "text": [
        "array([[ 7, 11, 17, 24, 37],\n",
        "       [ 3, 11, 13, 24, 42],\n",
        "       [ 3, 11, 28, 37, 45],\n",
        "       [ 3, 14, 24, 29, 30],\n",
        "       [11, 18, 19, 31, 43],\n",
        "       [11, 19, 24, 37, 45],\n",
        "       [ 9, 11, 24, 37, 45],\n",
        "       [ 4, 11, 19, 24, 45],\n",
        "       [ 2, 11, 14, 18, 19],\n",
        "       [ 3,  4, 11, 24, 45]])"
       ]
      }
     ],
     "prompt_number": 84
    },
    {
     "cell_type": "heading",
     "level": 4,
     "metadata": {},
     "source": [
      "Transform the input before plotting. (compute the differences between the states)"
     ]
    },
    {
     "cell_type": "code",
     "collapsed": false,
     "input": [
      "import itertools\n",
      "#Example function from itertools documentation. Used for looping through a list in pairs\n",
      "def pairwise(iterable):\n",
      "    \"s -> (s0,s1), (s1,s2), (s2, s3), ...\"\n",
      "    a, b = itertools.tee(iterable)\n",
      "    next(b, None)\n",
      "    return itertools.izip(a, b)\n",
      "\n",
      "turnOns=[]\n",
      "turnOffs=[]\n",
      "stayOns=[]\n",
      "\n",
      "for inputPair in pairwise(activeColumns):\n",
      "    numberThatTurnOn = len(np.setdiff1d(*inputPair))\n",
      "    numberThatTurnOff = len(np.setdiff1d(*inputPair)) # \"remove from arr1 all the elements that are also in arr2\"\n",
      "    numberThatStayOn = len(np.intersect1d(*inputPair))\n",
      "    turnOns.append(numberThatTurnOn)\n",
      "    turnOffs.append(numberThatTurnOff)\n",
      "    stayOns.append(numberThatStayOn)"
     ],
     "language": "python",
     "metadata": {},
     "outputs": [],
     "prompt_number": 116
    },
    {
     "cell_type": "code",
     "collapsed": false,
     "input": [
      "print turnOns[:20]\n",
      "print turnOffs[:20]\n",
      "print stayOns[:20]"
     ],
     "language": "python",
     "metadata": {},
     "outputs": [
      {
       "output_type": "stream",
       "stream": "stdout",
       "text": [
        "[3, 3, 4, 5, 3, 1, 2, 3, 4, 3, 2, 2, 3, 4, 4, 2, 5, 3, 4, 5]\n",
        "[3, 3, 4, 5, 3, 1, 2, 3, 4, 3, 2, 2, 3, 4, 4, 2, 5, 3, 4, 5]\n",
        "[2, 2, 1, 0, 2, 4, 3, 2, 1, 2, 3, 3, 2, 1, 1, 3, 0, 2, 1, 0]\n"
       ]
      }
     ],
     "prompt_number": 87
    },
    {
     "cell_type": "heading",
     "level": 4,
     "metadata": {},
     "source": [
      "Draw the plot"
     ]
    },
    {
     "cell_type": "code",
     "collapsed": false,
     "input": [
      "#Set up the colors used for the bars\n",
      "darkOrange = np.array([96,63,32])/255.0\n",
      "darkGreen = np.array([67,93,51])/255.0\n",
      "lightGreen = np.array([160,191,139])/255.0"
     ],
     "language": "python",
     "metadata": {},
     "outputs": [],
     "prompt_number": 88
    },
    {
     "cell_type": "code",
     "collapsed": false,
     "input": [
      "(figure,axes) = plt.subplots()\n",
      "#Set the bars so that the edges lie on whole numbers - to emphasise that that each bar shows the difference between consecutive states\n",
      "xPositionsOfBars = np.arange(activeColumns.shape[0]-1)\n",
      "axes.bar(xPositionsOfBars,stayOns, width=1, color=darkOrange)\n",
      "axes.bar(xPositionsOfBars,turnOns, width=1, color=darkGreen, bottom=stayOns)\n",
      "axes.bar(xPositionsOfBars,turnOffs, width=1, color=lightGreen, bottom=[stayOns[j] +turnOns[j] for j in range(len(stayOns))])\n",
      "#get rid of annoying gap at the end\n",
      "axes.set_xlim(right=xPositionsOfBars[-1]+1)\n",
      "#set the tallest column to a set aspec ratio (actually uses the maximum of the y axis, not the maximum column height)\n",
      "barScreenAspectRatio=15\n",
      "axes.set_aspect(barScreenAspectRatio/axes.get_ylim()[1])\n",
      "figure.set_size_inches(15,7)"
     ],
     "language": "python",
     "metadata": {},
     "outputs": [
      {
       "metadata": {},
       "output_type": "display_data",
       "png": "[encoded data removed]",
       "text": [
        "<matplotlib.figure.Figure at 0xaf906dec>"
       ]
      }
     ],
     "prompt_number": 121
    },
    {
     "cell_type": "heading",
     "level": 2,
     "metadata": {},
     "source": [
      "Active Column Plot"
     ]
    },
    {
     "cell_type": "markdown",
     "metadata": {},
     "source": [
      "This plot shows the active cells/columns in a region at each timestep.\n",
      "\n",
      "Time increases to the right. Each horizontal line represents one cell. The dots show when it was active. The dots that lie vertically above each other show the active cells at that time step.  \n",
      "All topology has been removed in this plot. The left-most dot on any line shows when that cell was first active."
     ]
    },
    {
     "cell_type": "heading",
     "level": 4,
     "metadata": {},
     "source": [
      "Get some input"
     ]
    },
    {
     "cell_type": "markdown",
     "metadata": {},
     "source": [
      "The data here was produced by a small spatial pooler fed with random data (from the Cerebro2 spatial pooler demo)."
     ]
    },
    {
     "cell_type": "code",
     "collapsed": false,
     "input": [
      "h = History()\n",
      "activeColumns = np.asarray(h.activeColumns())"
     ],
     "language": "python",
     "metadata": {},
     "outputs": [],
     "prompt_number": 5
    },
    {
     "cell_type": "code",
     "collapsed": false,
     "input": [
      "activeColumns[:10]"
     ],
     "language": "python",
     "metadata": {},
     "outputs": [
      {
       "metadata": {},
       "output_type": "pyout",
       "prompt_number": 6,
       "text": [
        "array([[ 7, 11, 17, 24, 37],\n",
        "       [ 3, 11, 13, 24, 42],\n",
        "       [ 3, 11, 28, 37, 45],\n",
        "       [ 3, 14, 24, 29, 30],\n",
        "       [11, 18, 19, 31, 43],\n",
        "       [11, 19, 24, 37, 45],\n",
        "       [ 9, 11, 24, 37, 45],\n",
        "       [ 4, 11, 19, 24, 45],\n",
        "       [ 2, 11, 14, 18, 19],\n",
        "       [ 3,  4, 11, 24, 45]])"
       ]
      }
     ],
     "prompt_number": 6
    },
    {
     "cell_type": "heading",
     "level": 4,
     "metadata": {},
     "source": [
      "Transform the input before plotting (convert the column indices into x&y coordinates)"
     ]
    },
    {
     "cell_type": "markdown",
     "metadata": {},
     "source": [
      "Each active column is plotted as a point.  \n",
      "The x value is the iteration. The y value is the iteration when that column was first active."
     ]
    },
    {
     "cell_type": "code",
     "collapsed": false,
     "input": [
      "#Calculate x values -FIX THIS - it won't work if the number of active columns varies with time\n",
      "xValues = np.array([range(activeColumns.shape[0])])\n",
      "xValues = np.repeat(xValues.T,activeColumns.shape[1],axis=1)\n",
      "xValues = xValues.flatten()\n",
      "\n",
      "#Calculate y values\n",
      "def transformActiveColumnIndexes(activeColumns):\n",
      "    \n",
      "    pastIndexes = []\n",
      "    yValues = []\n",
      "    for activeColumn in activeColumns.flatten():\n",
      "        if activeColumn not in pastIndexes:\n",
      "            pastIndexes.append(activeColumn)\n",
      "        yValue = pastIndexes.index(activeColumn)\n",
      "        yValues.append(yValue)\n",
      "        \n",
      "    return yValues\n",
      "\n",
      "yValues = np.asarray(transformActiveColumnIndexes(activeColumns))"
     ],
     "language": "python",
     "metadata": {},
     "outputs": [],
     "prompt_number": 7
    },
    {
     "cell_type": "code",
     "collapsed": false,
     "input": [
      "print xValues[:20]\n",
      "print activeColumns.flatten()[:20]\n",
      "print yValues[:20]"
     ],
     "language": "python",
     "metadata": {},
     "outputs": [
      {
       "output_type": "stream",
       "stream": "stdout",
       "text": [
        "[0 0 0 0 0 1 1 1 1 1 2 2 2 2 2 3 3 3 3 3]\n",
        "[ 7 11 17 24 37  3 11 13 24 42  3 11 28 37 45  3 14 24 29 30]\n",
        "[ 0  1  2  3  4  5  1  6  3  7  5  1  8  4  9  5 10  3 11 12]\n"
       ]
      }
     ],
     "prompt_number": 8
    },
    {
     "cell_type": "heading",
     "level": 4,
     "metadata": {},
     "source": [
      "Draw The Plot"
     ]
    },
    {
     "cell_type": "code",
     "collapsed": false,
     "input": [
      "import matplotlib\n",
      "\n",
      "#set up plot\n",
      "(figure,axes) = plt.subplots()\n",
      "#plot\n",
      "axes.plot(xValues,yValues,'o')\n",
      "#display the horizontal grid\n",
      "axes.minorticks_on()\n",
      "axes.grid(True,axis='y',which='both',linestyle='solid',color=(0.7,0.7,0.7))\n",
      "#Set the horizontal gridlines to have spacing of 1\n",
      "axes.yaxis.set_minor_locator(matplotlib.ticker.MultipleLocator(1))\n",
      "\n",
      "#set plot aspect ratio so the axes are even. Make the plot bigger (the plot expands to the maximum size allowed by aspect ratio)\n",
      "axes.set_aspect(aspect='equal')\n",
      "figure.set_size_inches(15,15)\n"
     ],
     "language": "python",
     "metadata": {},
     "outputs": [
      {
       "metadata": {},
       "output_type": "display_data",
       "png": "[encoded data removed]",
       "text": [
        "<matplotlib.figure.Figure at 0xafc0d62c>"
       ]
      }
     ],
     "prompt_number": 95
    },
    {
     "cell_type": "markdown",
     "metadata": {},
     "source": [
      "Whats going on in the middle? boosting? If the boost factors were saved by the patcher it would be really easy to check (```print sp.history.boostFactors()[40:60]```)"
     ]
    }
   ],
   "metadata": {}
  }
 ]
}