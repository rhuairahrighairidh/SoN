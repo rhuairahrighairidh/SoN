{
 "metadata": {
  "name": "",
  "signature": "sha256:88caca480da2327a1deda95613d25d8ef4cf35c34c6fe973ddae9c604f5d2812"
 },
 "nbformat": 3,
 "nbformat_minor": 0,
 "worksheets": [
  {
   "cells": [
    {
     "cell_type": "heading",
     "level": 1,
     "metadata": {},
     "source": [
      "History Object (thing to load in data saved by patcher)"
     ]
    },
    {
     "cell_type": "heading",
     "level": 3,
     "metadata": {},
     "source": [
      "Definition"
     ]
    },
    {
     "cell_type": "code",
     "collapsed": false,
     "input": [
      "import json\n",
      "import os\n",
      "from cerebro2.paths import Paths\n",
      "\n",
      "class History():\n",
      "    def __init__(self, dataDir='/tmp/cerebro2/model', modelID=None):\n",
      "        self.paths = Paths(dataDir, deleteExisting=False)\n",
      "    \n",
      "    def getNumberOfIterations(self):\n",
      "        fileNames = os.listdir(self.paths.states())\n",
      "        listOfIterations = [state for state in fileNames if not state.startswith(\".\")]\n",
      "        return len(listOfIterations)\n",
      "        \n",
      "        \n",
      "        \n",
      "    def inputDimensions(self):\n",
      "        return readJSON(self.paths.dimensions(\"input\"))\n",
      "    \n",
      "    def dimensions(self):\n",
      "        return readJSON(self.paths.dimensions(\"output\"))\n",
      "    \n",
      "    def inputVector(self):\n",
      "        inputVector = []       \n",
      "        for iteration in xrange(1,self.getNumberOfIterations()+1):\n",
      "            inputVector.append(readJSON(self.paths.activeCells(\"input\", iteration)))\n",
      "        return inputVector\n",
      "    \n",
      "    def activeColumns(self):\n",
      "        activeColumns = []       \n",
      "        for iteration in xrange(1,self.getNumberOfIterations()+1):\n",
      "            activeColumns.append(readJSON(self.paths.activeColumns(\"output\", iteration)))\n",
      "        return activeColumns\n",
      "        \n",
      "    def activeCells(self):\n",
      "        activeCells = []       \n",
      "        for iteration in xrange(1,self.getNumberOfIterations()+1):\n",
      "            activeCells.append(readJSON(self.paths.activeCells(\"output\", iteration)))\n",
      "        return activeCells\n",
      "    \n",
      "    def predictiveCells(self):\n",
      "        predictiveCells = []       \n",
      "        for iteration in xrange(1,self.getNumberOfIterations()+1):\n",
      "            predictiveCells.append(readJSON(self.paths.predictedCells(\"output\", iteration)))\n",
      "        return predictiveCells\n",
      "    \n",
      "    def proximalSynapses(self):\n",
      "        proximalSynapses = []       \n",
      "        for iteration in xrange(1,self.getNumberOfIterations()+1):\n",
      "            proximalSynapses.append(readJSON(self.paths.proximalSynapses(\"output\", iteration)))\n",
      "        return proximalSynapses\n",
      "\n",
      "        \n",
      "    #encoder stuff\n",
      "\n",
      "def readJSON(filepath):\n",
      "  with open(filepath, 'r') as infile:\n",
      "    return json.load(infile)"
     ],
     "language": "python",
     "metadata": {},
     "outputs": [],
     "prompt_number": 1
    },
    {
     "cell_type": "heading",
     "level": 3,
     "metadata": {},
     "source": [
      "Usage"
     ]
    },
    {
     "cell_type": "markdown",
     "metadata": {},
     "source": [
      "First create a history object for a particular file path"
     ]
    },
    {
     "cell_type": "code",
     "collapsed": false,
     "input": [
      "h=History()\n",
      "#or h = History('/path/to/saved/data')"
     ],
     "language": "python",
     "metadata": {},
     "outputs": [],
     "prompt_number": 42
    },
    {
     "cell_type": "markdown",
     "metadata": {},
     "source": [
      "Then call whatever piece you want"
     ]
    },
    {
     "cell_type": "code",
     "collapsed": false,
     "input": [
      "h.inputDimensions()"
     ],
     "language": "python",
     "metadata": {},
     "outputs": [
      {
       "metadata": {},
       "output_type": "pyout",
       "prompt_number": 45,
       "text": [
        "[10, 15]"
       ]
      }
     ],
     "prompt_number": 45
    },
    {
     "cell_type": "code",
     "collapsed": false,
     "input": [
      "h.activeColumns()"
     ],
     "language": "python",
     "metadata": {},
     "outputs": [
      {
       "metadata": {},
       "output_type": "pyout",
       "prompt_number": 46,
       "text": [
        "[[18, 27, 39, 42, 46],\n",
        " [15, 16, 20, 22, 27],\n",
        " [18, 25, 27, 46, 49],\n",
        " [13, 20, 39, 42, 49],\n",
        " [0, 16, 27, 39, 49],\n",
        " [18, 22, 27, 39, 49],\n",
        " [16, 18, 27, 39, 46],\n",
        " [1, 20, 33, 46, 49],\n",
        " [18, 22, 32, 42, 49],\n",
        " [18, 22, 27, 46, 48],\n",
        " [18, 19, 20, 27, 49],\n",
        " [18, 27, 39, 46, 49],\n",
        " [22, 27, 39, 46, 49],\n",
        " [20, 33, 39, 46, 49],\n",
        " [18, 27, 39, 46, 49],\n",
        " [18, 22, 27, 33, 46],\n",
        " [15, 22, 27, 33, 49],\n",
        " [18, 19, 20, 27, 46],\n",
        " [20, 27, 33, 39, 48],\n",
        " [15, 20, 22, 39, 48],\n",
        " [18, 19, 20, 25, 39],\n",
        " [7, 25, 27, 33, 49],\n",
        " [7, 22, 27, 46, 49],\n",
        " [18, 27, 33, 48, 49],\n",
        " [0, 1, 22, 33, 49],\n",
        " [15, 25, 27, 33, 39],\n",
        " [16, 27, 33, 45, 46],\n",
        " [7, 18, 27, 46, 48],\n",
        " [7, 25, 33, 39, 48],\n",
        " [15, 25, 27, 39, 49],\n",
        " [15, 25, 27, 29, 46],\n",
        " [7, 15, 19, 22, 49],\n",
        " [15, 25, 27, 33, 49],\n",
        " [7, 15, 25, 33, 49],\n",
        " [15, 20, 25, 27, 45],\n",
        " [7, 15, 19, 22, 49],\n",
        " [7, 15, 18, 22, 25],\n",
        " [7, 25, 33, 39, 45],\n",
        " [15, 20, 27, 45, 46],\n",
        " [15, 22, 27, 33, 49],\n",
        " [15, 20, 33, 46, 48],\n",
        " [15, 18, 22, 25, 39],\n",
        " [18, 27, 33, 45, 47],\n",
        " [20, 22, 25, 27, 33],\n",
        " [9, 15, 22, 33, 48],\n",
        " [7, 15, 22, 25, 33],\n",
        " [22, 25, 33, 45, 49],\n",
        " [0, 16, 18, 20, 46],\n",
        " [20, 33, 39, 42, 49],\n",
        " [15, 22, 25, 42, 45],\n",
        " [15, 19, 25, 33, 48],\n",
        " [12, 17, 30, 35, 41],\n",
        " [5, 8, 11, 23, 36],\n",
        " [10, 21, 31, 40, 44],\n",
        " [3, 26, 34, 37, 38],\n",
        " [2, 4, 6, 14, 28],\n",
        " [19, 24, 39, 43, 46],\n",
        " [15, 17, 19, 25, 48],\n",
        " [0, 2, 15, 33, 46],\n",
        " [7, 15, 18, 39, 46],\n",
        " [7, 22, 42, 45, 46],\n",
        " [15, 22, 25, 27, 33],\n",
        " [18, 20, 27, 42, 48],\n",
        " [15, 39, 45, 48, 49],\n",
        " [15, 22, 25, 39, 49],\n",
        " [15, 18, 45, 48, 49],\n",
        " [5, 7, 19, 45, 46],\n",
        " [7, 22, 25, 45, 46],\n",
        " [20, 22, 37, 39, 46],\n",
        " [18, 45, 46, 48, 49],\n",
        " [15, 18, 20, 36, 39],\n",
        " [27, 39, 42, 45, 46],\n",
        " [22, 27, 37, 45, 48],\n",
        " [18, 22, 33, 39, 48],\n",
        " [15, 25, 37, 42, 45],\n",
        " [9, 15, 20, 42, 49],\n",
        " [9, 15, 20, 39, 45],\n",
        " [7, 33, 39, 48, 49],\n",
        " [15, 20, 25, 27, 45],\n",
        " [27, 33, 39, 46, 49],\n",
        " [7, 25, 27, 37, 45],\n",
        " [9, 22, 27, 33, 37],\n",
        " [25, 37, 39, 42, 45],\n",
        " [0, 19, 20, 25, 49],\n",
        " [22, 26, 33, 39, 45],\n",
        " [9, 39, 45, 46, 49],\n",
        " [15, 18, 20, 27, 45],\n",
        " [15, 25, 27, 45, 46],\n",
        " [15, 22, 33, 37, 45],\n",
        " [12, 15, 22, 45, 46],\n",
        " [34, 39, 42, 46, 49],\n",
        " [18, 22, 23, 33, 45],\n",
        " [15, 18, 20, 22, 39],\n",
        " [7, 9, 15, 25, 45],\n",
        " [0, 27, 33, 42, 48],\n",
        " [15, 39, 45, 46, 49],\n",
        " [0, 19, 27, 33, 49],\n",
        " [0, 1, 9, 27, 39],\n",
        " [18, 19, 20, 45, 49],\n",
        " [7, 15, 25, 26, 33]]"
       ]
      }
     ],
     "prompt_number": 46
    },
    {
     "cell_type": "heading",
     "level": 3,
     "metadata": {},
     "source": [
      "Notes"
     ]
    },
    {
     "cell_type": "markdown",
     "metadata": {},
     "source": [
      " - The aim with this was to make it as thin as possible - don't do any processing of the data, just load it in, in the same way it was saved\n",
      " - loading the proximal synapses takes a while, might be an idea to change everything to use numpy arrays\n",
      " - It feels like there is a lot of almost repeated code in the patcher. Is ther a better way of doing things?\n",
      " - It would be nice to have a powerful way of slicing and dicing the data - for example a easy way to get a list of all the SDR's produced by a particular class of input, or an easy way to get the history of the synapses connected to one column."
     ]
    },
    {
     "cell_type": "heading",
     "level": 3,
     "metadata": {},
     "source": [
      "Patch the patcher"
     ]
    },
    {
     "cell_type": "code",
     "collapsed": false,
     "input": [
      "from cerebro2.patcher import Patcher\n",
      "from cerebro2.paths import Paths"
     ],
     "language": "python",
     "metadata": {},
     "outputs": [],
     "prompt_number": 2
    },
    {
     "cell_type": "code",
     "collapsed": false,
     "input": [
      "originalPatchSP = Patcher.patchSP\n",
      "def modifiedPatchSP(*args, **kwargs):\n",
      "    result = originalPatchSP(*args, **kwargs)\n",
      "    args[1].history = History()\n",
      "    return result\n",
      "Patcher.patchSP = modifiedPatchSP"
     ],
     "language": "python",
     "metadata": {},
     "outputs": [],
     "prompt_number": 5
    },
    {
     "cell_type": "code",
     "collapsed": false,
     "input": [
      "from nupic.research.spatial_pooler import SpatialPooler"
     ],
     "language": "python",
     "metadata": {},
     "outputs": [],
     "prompt_number": 3
    },
    {
     "cell_type": "code",
     "collapsed": false,
     "input": [
      "sp = SpatialPooler(\n",
      "                   inputDimensions=[10, 15],\n",
      "                   columnDimensions=[5, 10],\n",
      "                   potentialRadius=2,\n",
      "                   potentialPct=0.5,\n",
      "                   synPermInactiveDec=0.1,\n",
      "                   synPermActiveInc=0.1,\n",
      "                   synPermConnected=0.1,\n",
      "                   localAreaDensity=0.1,\n",
      "                   numActiveColumnsPerInhArea=-1,\n",
      "                   globalInhibition=True)"
     ],
     "language": "python",
     "metadata": {},
     "outputs": [],
     "prompt_number": 4
    },
    {
     "cell_type": "code",
     "collapsed": false,
     "input": [
      "p=Patcher()\n",
      "p.patchSP(sp)"
     ],
     "language": "python",
     "metadata": {},
     "outputs": [],
     "prompt_number": 6
    },
    {
     "cell_type": "code",
     "collapsed": false,
     "input": [
      "sp.history.dimensions()"
     ],
     "language": "python",
     "metadata": {},
     "outputs": [
      {
       "metadata": {},
       "output_type": "pyout",
       "prompt_number": 9,
       "text": [
        "[5, 10]"
       ]
      }
     ],
     "prompt_number": 9
    }
   ],
   "metadata": {}
  }
 ]
}