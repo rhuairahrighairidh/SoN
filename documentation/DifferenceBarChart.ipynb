{
 "metadata": {
  "name": "",
  "signature": "sha256:a6aa2d668ce8913ac4eee09351ce0f18aff15036fbf9984b832b9eadff8f3867"
 },
 "nbformat": 3,
 "nbformat_minor": 0,
 "worksheets": [
  {
   "cells": [
    {
     "cell_type": "heading",
     "level": 3,
     "metadata": {},
     "source": [
      "Initialisation"
     ]
    },
    {
     "cell_type": "code",
     "collapsed": false,
     "input": [
      "%cd ..\n",
      "import numpy as np\n",
      "%matplotlib inline"
     ],
     "language": "python",
     "metadata": {},
     "outputs": [],
     "prompt_number": 21
    },
    {
     "cell_type": "heading",
     "level": 1,
     "metadata": {},
     "source": [
      "Difference Bar Chart"
     ]
    },
    {
     "cell_type": "markdown",
     "metadata": {},
     "source": [
      "This plot aims to show the difference between succesive SDR's.\n",
      "\n",
      " - The dark orange bar shows the number of the cells that were active in the previous timestep AND are still active now. (1&#10140;1)\n",
      " - The dark green bar shows the number of cells that are active this timestep AND also weren't active before. (0&#10140;1)\n",
      " - The light green bar shows the number of cells that were active in the previous timestep but are no longer active. (1&#10140;0)\n",
      " \n",
      "These bars also mean different things when they're added together. The bottom two bars together show the total number of active cells for the current timestep. And the top two bars together shows the hamming distance (between this timestep and the previous one)."
     ]
    },
    {
     "cell_type": "heading",
     "level": 3,
     "metadata": {},
     "source": [
      "Get some input"
     ]
    },
    {
     "cell_type": "code",
     "collapsed": false,
     "input": [
      "from fileIO import History\n",
      "h = History('/home/ruaridh/SoN/documentation/exampleData')"
     ],
     "language": "python",
     "metadata": {},
     "outputs": [],
     "prompt_number": 12
    },
    {
     "cell_type": "heading",
     "level": 3,
     "metadata": {},
     "source": [
      "Draw The Plot"
     ]
    },
    {
     "cell_type": "code",
     "collapsed": false,
     "input": [
      "import plots\n",
      "plots.differenceBarChart(h.activeColumns(),h.dimensions())"
     ],
     "language": "python",
     "metadata": {},
     "outputs": [
      {
       "metadata": {},
       "output_type": "display_data",
       "png": "[encoded data removed]",
       "text": [
        "<matplotlib.figure.Figure at 0xa9e0230c>"
       ]
      }
     ],
     "prompt_number": 22
    },
    {
     "cell_type": "code",
     "collapsed": false,
     "input": [],
     "language": "python",
     "metadata": {},
     "outputs": []
    }
   ],
   "metadata": {}
  }
 ]
}