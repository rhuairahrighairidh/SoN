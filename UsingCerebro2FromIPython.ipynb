{
 "metadata": {
  "name": "UsingCerebro2FromIPython"
 }, 
 "nbformat": 2, 
 "worksheets": [
  {
   "cells": [
    {
     "cell_type": "markdown", 
     "source": [
      "##Set up a small spatial pooler and run it on some random data. (Copied from demo_sp.py)"
     ]
    }, 
    {
     "cell_type": "markdown", 
     "source": [
      "Run each cell in sequence."
     ]
    }, 
    {
     "cell_type": "code", 
     "collapsed": true, 
     "input": [
      "import numpy", 
      "from random import randrange"
     ], 
     "language": "python", 
     "outputs": [], 
     "prompt_number": 1
    }, 
    {
     "cell_type": "code", 
     "collapsed": true, 
     "input": [
      "from cerebro2.patcher import Patcher", 
      "from nupic.research.spatial_pooler import SpatialPooler"
     ], 
     "language": "python", 
     "outputs": [], 
     "prompt_number": 2
    }, 
    {
     "cell_type": "code", 
     "collapsed": true, 
     "input": [
      "def generateInput(inputArray):", 
      "  inputArray[0:] = 0", 
      "  for i in range(inputArray.size):", 
      "    inputArray[i] = randrange(2)"
     ], 
     "language": "python", 
     "outputs": [], 
     "prompt_number": 3
    }, 
    {
     "cell_type": "code", 
     "collapsed": true, 
     "input": [
      "sp = SpatialPooler(", 
      "                   inputDimensions=[10, 15],", 
      "                   columnDimensions=[5, 10],", 
      "                   potentialRadius=2,", 
      "                   potentialPct=0.5,", 
      "                   synPermInactiveDec=0.1,", 
      "                   synPermActiveInc=0.1,", 
      "                   synPermConnected=0.1,", 
      "                   localAreaDensity=0.1,", 
      "                   numActiveColumnsPerInhArea=-1,", 
      "                   globalInhibition=True)"
     ], 
     "language": "python", 
     "outputs": [], 
     "prompt_number": 4
    }, 
    {
     "cell_type": "code", 
     "collapsed": true, 
     "input": [
      "inputArray = numpy.zeros(sp.getNumInputs())", 
      "activeArray = numpy.zeros(sp.getNumColumns())"
     ], 
     "language": "python", 
     "outputs": [], 
     "prompt_number": 5
    }, 
    {
     "cell_type": "code", 
     "collapsed": true, 
     "input": [
      "Patcher().patchSP(sp)"
     ], 
     "language": "python", 
     "outputs": [], 
     "prompt_number": 6
    }, 
    {
     "cell_type": "code", 
     "collapsed": true, 
     "input": [
      "for i in range(100):", 
      "    generateInput(inputArray)", 
      "    sp.compute(inputArray, True, activeArray)", 
      "print \"done\""
     ], 
     "language": "python", 
     "outputs": []
    }, 
    {
     "cell_type": "markdown", 
     "source": [
      "##Launch Cerebro 2 From IPython"
     ]
    }, 
    {
     "cell_type": "markdown", 
     "source": [
      "Import relevant modules"
     ]
    }, 
    {
     "cell_type": "code", 
     "collapsed": true, 
     "input": [
      "import subprocess", 
      "import webbrowser"
     ], 
     "language": "python", 
     "outputs": [], 
     "prompt_number": 8
    }, 
    {
     "cell_type": "markdown", 
     "source": [
      "Start the two servers"
     ]
    }, 
    {
     "cell_type": "code", 
     "collapsed": true, 
     "input": [
      "dataServer=subprocess.Popen([\"python\",\"nupic.cerebro2.server/server.py\",\"9090\"])", 
      "displayServer=subprocess.Popen(['python', '-m', 'SimpleHTTPServer', '8000'],cwd='nupic.cerebro2/static')"
     ], 
     "language": "python", 
     "outputs": [], 
     "prompt_number": 13
    }, 
    {
     "cell_type": "markdown", 
     "source": [
      "Launch cerebro 2"
     ]
    }, 
    {
     "cell_type": "code", 
     "collapsed": true, 
     "input": [
      "webbrowser.open(\"http://localhost:8000\")"
     ], 
     "language": "python", 
     "outputs": []
    }, 
    {
     "cell_type": "markdown", 
     "source": [
      "Stop the servers. (Close the browser tab manually)"
     ]
    }, 
    {
     "cell_type": "code", 
     "collapsed": true, 
     "input": [
      "dataServer.kill()", 
      "displayServer.kill()"
     ], 
     "language": "python", 
     "outputs": [], 
     "prompt_number": 19
    }, 
    {
     "cell_type": "markdown", 
     "source": [
      "debugging"
     ]
    }, 
    {
     "cell_type": "code", 
     "collapsed": true, 
     "input": [
      "print \"data server pid:\", dataServer.pid", 
      "print \"display server pid:\", displayServer.pid"
     ], 
     "language": "python", 
     "outputs": []
    }
   ]
  }
 ]
}