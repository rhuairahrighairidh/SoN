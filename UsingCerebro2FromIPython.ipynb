{
 "metadata": {
  "name": "",
  "signature": "sha256:9ababa3fb6083abacdb58dc1dfd6962a0241b3e9128fa0d588de1b9ecbc7082d"
 },
 "nbformat": 3,
 "nbformat_minor": 0,
 "worksheets": [
  {
   "cells": [
    {
     "cell_type": "markdown",
     "metadata": {},
     "source": [
      "##Set up a small spatial pooler and run it on some random data. (Copied from demo_sp.py)"
     ]
    },
    {
     "cell_type": "markdown",
     "metadata": {},
     "source": [
      "Run each cell in sequence."
     ]
    },
    {
     "cell_type": "code",
     "collapsed": true,
     "input": [
      "import numpy\n",
      "from random import randrange"
     ],
     "language": "python",
     "metadata": {},
     "outputs": [],
     "prompt_number": 1
    },
    {
     "cell_type": "code",
     "collapsed": true,
     "input": [
      "from cerebro2.patcher import Patcher\n",
      "from nupic.research.spatial_pooler import SpatialPooler"
     ],
     "language": "python",
     "metadata": {},
     "outputs": [],
     "prompt_number": 2
    },
    {
     "cell_type": "code",
     "collapsed": true,
     "input": [
      "def generateInput(inputArray):\n",
      "  inputArray[0:] = 0\n",
      "  for i in range(inputArray.size):\n",
      "    inputArray[i] = randrange(2)"
     ],
     "language": "python",
     "metadata": {},
     "outputs": [],
     "prompt_number": 3
    },
    {
     "cell_type": "code",
     "collapsed": true,
     "input": [
      "sp = SpatialPooler(\n",
      "                   inputDimensions=[10, 15],\n",
      "                   columnDimensions=[5, 10],\n",
      "                   potentialRadius=2,\n",
      "                   potentialPct=0.5,\n",
      "                   synPermInactiveDec=0.1,\n",
      "                   synPermActiveInc=0.1,\n",
      "                   synPermConnected=0.1,\n",
      "                   localAreaDensity=0.1,\n",
      "                   numActiveColumnsPerInhArea=-1,\n",
      "                   globalInhibition=True)"
     ],
     "language": "python",
     "metadata": {},
     "outputs": [],
     "prompt_number": 4
    },
    {
     "cell_type": "code",
     "collapsed": true,
     "input": [
      "inputArray = numpy.zeros(sp.getNumInputs())\n",
      "activeArray = numpy.zeros(sp.getNumColumns())"
     ],
     "language": "python",
     "metadata": {},
     "outputs": [],
     "prompt_number": 5
    },
    {
     "cell_type": "code",
     "collapsed": true,
     "input": [
      "Patcher().patchSP(sp)"
     ],
     "language": "python",
     "metadata": {},
     "outputs": [],
     "prompt_number": 6
    },
    {
     "cell_type": "code",
     "collapsed": true,
     "input": [
      "for i in range(100):\n",
      "    generateInput(inputArray)\n",
      "    sp.compute(inputArray, True, activeArray)\n",
      "print \"done\""
     ],
     "language": "python",
     "metadata": {},
     "outputs": [
      {
       "output_type": "stream",
       "stream": "stdout",
       "text": [
        "done\n"
       ]
      }
     ],
     "prompt_number": 7
    },
    {
     "cell_type": "markdown",
     "metadata": {},
     "source": [
      "##Launch Cerebro 2 From IPython"
     ]
    },
    {
     "cell_type": "markdown",
     "metadata": {},
     "source": [
      "Import relevant modules"
     ]
    },
    {
     "cell_type": "code",
     "collapsed": true,
     "input": [
      "import subprocess\n",
      "import webbrowser"
     ],
     "language": "python",
     "metadata": {},
     "outputs": [],
     "prompt_number": 8
    },
    {
     "cell_type": "markdown",
     "metadata": {},
     "source": [
      "Start the two servers"
     ]
    },
    {
     "cell_type": "code",
     "collapsed": true,
     "input": [
      "dataServer=subprocess.Popen([\"python\",\"/home/ruaridh/Cerebro2/nupic.cerebro2.server/server.py\",\"9090\"])\n",
      "displayServer=subprocess.Popen(['python', '-m', 'SimpleHTTPServer', '8000'],cwd='/home/ruaridh/Cerebro2/nupic.cerebro2/static')"
     ],
     "language": "python",
     "metadata": {},
     "outputs": [],
     "prompt_number": 16
    },
    {
     "cell_type": "markdown",
     "metadata": {},
     "source": [
      "Launch cerebro 2"
     ]
    },
    {
     "cell_type": "code",
     "collapsed": true,
     "input": [
      "webbrowser.open(\"http://localhost:8000\")"
     ],
     "language": "python",
     "metadata": {},
     "outputs": [
      {
       "metadata": {},
       "output_type": "pyout",
       "prompt_number": 17,
       "text": [
        "True"
       ]
      }
     ],
     "prompt_number": 17
    },
    {
     "cell_type": "markdown",
     "metadata": {},
     "source": [
      "Stop the servers. (Close the browser tab manually)"
     ]
    },
    {
     "cell_type": "code",
     "collapsed": true,
     "input": [
      "dataServer.kill()\n",
      "displayServer.kill()"
     ],
     "language": "python",
     "metadata": {},
     "outputs": [],
     "prompt_number": 18
    },
    {
     "cell_type": "markdown",
     "metadata": {},
     "source": [
      "debugging"
     ]
    },
    {
     "cell_type": "code",
     "collapsed": true,
     "input": [
      "print \"data server pid:\", dataServer.pid\n",
      "print \"display server pid:\", displayServer.pid"
     ],
     "language": "python",
     "metadata": {},
     "outputs": [
      {
       "output_type": "stream",
       "stream": "stdout",
       "text": [
        "data server pid: 14047\n",
        "display server pid: 14048\n"
       ]
      }
     ],
     "prompt_number": 19
    },
    {
     "cell_type": "code",
     "collapsed": false,
     "input": [],
     "language": "python",
     "metadata": {},
     "outputs": []
    }
   ],
   "metadata": {}
  }
 ]
}