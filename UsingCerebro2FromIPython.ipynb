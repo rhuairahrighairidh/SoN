{
 "metadata": {
  "name": "",
  "signature": "sha256:6472eb9671443536111f7ed7a7d7211e1934242cdce803da0b8e51bf22749223"
 },
 "nbformat": 3,
 "nbformat_minor": 0,
 "worksheets": [
  {
   "cells": [
    {
     "cell_type": "markdown",
     "metadata": {},
     "source": [
      "##Set up a small spatial pooler and run it on some random data. (Copied from demo_sp.py)"
     ]
    },
    {
     "cell_type": "markdown",
     "metadata": {},
     "source": [
      "Run each cell in sequence."
     ]
    },
    {
     "cell_type": "code",
     "collapsed": true,
     "input": [
      "import numpy\n",
      "from random import randrange"
     ],
     "language": "python",
     "metadata": {},
     "outputs": [],
     "prompt_number": 1
    },
    {
     "cell_type": "code",
     "collapsed": true,
     "input": [
      "from cerebro2.patcher import Patcher\n",
      "from nupic.research.spatial_pooler import SpatialPooler"
     ],
     "language": "python",
     "metadata": {},
     "outputs": [],
     "prompt_number": 2
    },
    {
     "cell_type": "code",
     "collapsed": true,
     "input": [
      "def generateInput(inputArray):\n",
      "  inputArray[0:] = 0\n",
      "  for i in range(inputArray.size):\n",
      "    inputArray[i] = randrange(2)"
     ],
     "language": "python",
     "metadata": {},
     "outputs": [],
     "prompt_number": 3
    },
    {
     "cell_type": "code",
     "collapsed": true,
     "input": [
      "sp = SpatialPooler(\n",
      "                   inputDimensions=[10, 15],\n",
      "                   columnDimensions=[5, 10],\n",
      "                   potentialRadius=2,\n",
      "                   potentialPct=0.5,\n",
      "                   synPermInactiveDec=0.1,\n",
      "                   synPermActiveInc=0.1,\n",
      "                   synPermConnected=0.1,\n",
      "                   localAreaDensity=0.1,\n",
      "                   numActiveColumnsPerInhArea=-1,\n",
      "                   globalInhibition=True)"
     ],
     "language": "python",
     "metadata": {},
     "outputs": [],
     "prompt_number": 4
    },
    {
     "cell_type": "code",
     "collapsed": true,
     "input": [
      "inputArray = numpy.zeros(sp.getNumInputs())\n",
      "activeArray = numpy.zeros(sp.getNumColumns())"
     ],
     "language": "python",
     "metadata": {},
     "outputs": [],
     "prompt_number": 5
    },
    {
     "cell_type": "code",
     "collapsed": true,
     "input": [
      "Patcher().patchSP(sp)"
     ],
     "language": "python",
     "metadata": {},
     "outputs": [],
     "prompt_number": 6
    },
    {
     "cell_type": "code",
     "collapsed": true,
     "input": [
      "for i in range(100):\n",
      "    generateInput(inputArray)\n",
      "    sp.compute(inputArray, True, activeArray)\n",
      "print \"done\""
     ],
     "language": "python",
     "metadata": {},
     "outputs": [
      {
       "output_type": "stream",
       "stream": "stdout",
       "text": [
        "done\n"
       ]
      }
     ],
     "prompt_number": 7
    },
    {
     "cell_type": "markdown",
     "metadata": {},
     "source": [
      "##Launch Cerebro 2 From IPython"
     ]
    },
    {
     "cell_type": "markdown",
     "metadata": {},
     "source": [
      "A convenience function to launch Cerebro2 from within IPython.  \n",
      "This is a bit of a work in process."
     ]
    },
    {
     "cell_type": "heading",
     "level": 3,
     "metadata": {},
     "source": [
      "Import relevant modules"
     ]
    },
    {
     "cell_type": "code",
     "collapsed": true,
     "input": [
      "import subprocess\n",
      "import webbrowser\n",
      "import os"
     ],
     "language": "python",
     "metadata": {},
     "outputs": [],
     "prompt_number": 1
    },
    {
     "cell_type": "heading",
     "level": 3,
     "metadata": {},
     "source": [
      "Define launching function"
     ]
    },
    {
     "cell_type": "markdown",
     "metadata": {},
     "source": [
      "This function launches the cerebro servers and opens a browserpage. It returns the server prosesses as subprocess objects"
     ]
    },
    {
     "cell_type": "code",
     "collapsed": false,
     "input": [
      "def launchCerebro2Servers(pathToCerebro2=\"/home/ruaridh/Cerebro2/\"):\n",
      "    \n",
      "    #Start the two server processes\n",
      "    dataServer=subprocess.Popen([\"python\",os.path.join(pathToCerebro2,\"nupic.cerebro2.server/server.py\"),\"9090\"])\n",
      "    displayServer=subprocess.Popen(['python', '-m', 'SimpleHTTPServer', '8000'],cwd=os.path.join(pathToCerebro2,\"nupic.cerebro2/static\"))\n",
      "    \n",
      "    #Open a browser pag\n",
      "    webbrowser.open(\"http://localhost:8000\")\n",
      "    \n",
      "    #Return objects of the two processes\n",
      "    return (dataServer, displayServer)"
     ],
     "language": "python",
     "metadata": {},
     "outputs": [],
     "prompt_number": 2
    },
    {
     "cell_type": "heading",
     "level": 3,
     "metadata": {},
     "source": [
      "Launch Cerebro2 (and add closing button)"
     ]
    },
    {
     "cell_type": "markdown",
     "metadata": {},
     "source": [
      "This wraps around the server launching function above. It displays a 'shutdown server button' if it is called from an up to date version of IPython. Otherwise it just prints a reminder to shutdown the processes."
     ]
    },
    {
     "cell_type": "code",
     "collapsed": false,
     "input": [
      "try:\n",
      "    from IPython.html import widgets # Widget definitions\n",
      "    from IPython.display import display # Used to display widgets in the notebook\n",
      "except:\n",
      "    servers=launchCerebro2Servers()\n",
      "    print \"Cerebro2 servers started with PIDs \"+str(servers[0].pid)+\" and \"+str(servers[1].pid)\n",
      "    print \"Remember to kill them in the command line or in python with os.kill('PID')\"\n",
      "else:\n",
      "    servers=launchCerebro2Servers()\n",
      "    \n",
      "    button = widgets.ButtonWidget()\n",
      "    button.description = \"Running with PID \"+str(servers[0].pid)+\" and \"+str(servers[1].pid)+\". Click To Shutdown\"\n",
      "\n",
      "    def closeServers(b):\n",
      "        for process in servers:\n",
      "            process.kill() #not sure if this actually kills the processes properly\n",
      "        b.description = \"Sent kill command to servers.\"\n",
      "    button.on_click(closeServers)\n",
      "    \n",
      "    display(button)"
     ],
     "language": "python",
     "metadata": {},
     "outputs": [],
     "prompt_number": 7
    },
    {
     "cell_type": "heading",
     "level": 1,
     "metadata": {},
     "source": [
      "Extension"
     ]
    },
    {
     "cell_type": "markdown",
     "metadata": {},
     "source": [
      "Its possible to display cerebro2 as an embeded webpage within IPython.  \n",
      "Probably not a great idea - it makes it a bit small"
     ]
    },
    {
     "cell_type": "code",
     "collapsed": false,
     "input": [
      "from IPython.display import HTML\n",
      "HTML('<iframe src=http://localhost:8000 width=100% height=600></iframe>')"
     ],
     "language": "python",
     "metadata": {},
     "outputs": [
      {
       "html": [
        "<iframe src=http://localhost:8000 width=100% height=600></iframe>"
       ],
       "metadata": {},
       "output_type": "pyout",
       "prompt_number": 6,
       "text": [
        "<IPython.core.display.HTML at 0xb66b58ac>"
       ]
      }
     ],
     "prompt_number": 6
    }
   ],
   "metadata": {}
  }
 ]
}