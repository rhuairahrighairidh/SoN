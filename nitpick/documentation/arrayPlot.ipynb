{
 "metadata": {
  "name": "",
  "signature": "sha256:90df6b6c51289795e886e3c0c2caae0305d55abf4c5ebf97aa97949022b50f25"
 },
 "nbformat": 3,
 "nbformat_minor": 0,
 "worksheets": [
  {
   "cells": [
    {
     "cell_type": "heading",
     "level": 3,
     "metadata": {},
     "source": [
      "Initialisation"
     ]
    },
    {
     "cell_type": "code",
     "collapsed": false,
     "input": [
      "import numpy as np\n",
      "%matplotlib inline\n",
      "%autosave 0"
     ],
     "language": "python",
     "metadata": {},
     "outputs": [],
     "prompt_number": 1
    },
    {
     "cell_type": "heading",
     "level": 1,
     "metadata": {},
     "source": [
      "Array Plot"
     ]
    },
    {
     "cell_type": "markdown",
     "metadata": {},
     "source": [
      "This plots arrays with a grey square for each item in the array."
     ]
    },
    {
     "cell_type": "heading",
     "level": 3,
     "metadata": {},
     "source": [
      "Generate some input"
     ]
    },
    {
     "cell_type": "code",
     "collapsed": false,
     "input": [
      "integerArray = np.random.randint(0,10,[20,20])\n",
      "print integerArray"
     ],
     "language": "python",
     "metadata": {},
     "outputs": [
      {
       "output_type": "stream",
       "stream": "stdout",
       "text": [
        "[[4 4 2 8 6 2 4 0 0 5 5 6 4 9 0 1 9 9 5 3]\n",
        " [4 5 4 1 1 1 2 5 5 9 7 4 1 0 8 1 1 9 5 9]\n",
        " [9 2 7 5 6 6 2 5 8 0 5 3 9 2 4 6 6 0 3 1]\n",
        " [7 0 3 7 5 4 7 3 1 8 8 0 0 8 0 1 2 8 3 7]\n",
        " [9 8 4 7 3 3 5 9 0 3 9 2 4 8 4 4 4 8 5 9]\n",
        " [7 6 9 5 0 3 9 1 2 2 0 3 1 4 2 9 7 0 0 8]\n",
        " [6 8 6 2 8 5 6 5 1 3 4 6 5 5 0 0 2 9 0 2]\n",
        " [6 8 6 5 6 2 2 3 0 5 8 4 2 9 2 3 4 7 1 3]\n",
        " [3 1 0 5 2 7 7 0 1 3 9 8 8 0 1 6 6 3 6 7]\n",
        " [8 4 1 0 9 4 3 2 8 6 9 4 0 0 4 3 7 7 7 6]\n",
        " [0 5 2 7 4 9 7 7 4 9 7 3 1 6 8 8 1 1 9 4]\n",
        " [6 3 4 8 3 7 6 3 1 9 1 5 6 3 5 9 7 8 8 0]\n",
        " [7 9 3 1 7 4 1 7 9 8 9 8 5 5 8 8 2 3 4 0]\n",
        " [0 5 4 3 3 6 4 3 7 6 1 8 5 2 3 4 0 6 7 2]\n",
        " [0 2 9 6 7 8 1 4 4 7 6 3 6 0 4 1 0 3 7 2]\n",
        " [5 9 2 1 4 6 1 3 6 4 5 2 0 7 3 5 6 0 7 1]\n",
        " [2 8 0 9 6 1 5 2 6 4 6 2 0 4 9 4 8 7 1 6]\n",
        " [9 0 0 1 0 4 8 1 1 5 5 2 2 6 6 0 2 2 5 9]\n",
        " [5 6 7 1 4 7 4 5 6 9 5 5 7 2 3 3 5 0 3 7]\n",
        " [0 8 6 0 6 5 7 0 1 0 1 8 1 6 2 8 2 1 9 0]]\n"
       ]
      }
     ],
     "prompt_number": 13
    },
    {
     "cell_type": "code",
     "collapsed": false,
     "input": [
      "binaryArray = np.random.randint(0,2,[20,20])\n",
      "print binaryArray"
     ],
     "language": "python",
     "metadata": {},
     "outputs": [
      {
       "output_type": "stream",
       "stream": "stdout",
       "text": [
        "[[1 0 0 1 0 0 1 1 0 1 1 0 1 1 0 1 1 1 0 1]\n",
        " [1 1 1 1 0 0 0 1 1 0 1 0 1 1 1 1 0 1 0 0]\n",
        " [0 0 0 0 1 0 0 1 0 1 0 0 1 0 1 0 1 0 0 1]\n",
        " [1 0 1 1 1 0 0 1 1 0 1 0 0 0 0 1 0 0 0 0]\n",
        " [0 0 1 0 0 0 0 1 1 1 1 0 0 0 1 0 0 0 1 1]\n",
        " [1 0 0 1 0 0 0 1 0 0 1 0 1 0 0 1 1 0 0 1]\n",
        " [1 0 1 0 0 1 1 0 0 1 0 1 1 1 1 0 0 0 1 0]\n",
        " [0 1 0 1 0 0 1 0 0 0 0 1 0 1 1 1 1 1 1 0]\n",
        " [0 1 0 1 0 1 0 1 1 0 0 1 0 0 0 0 0 0 1 1]\n",
        " [1 1 1 0 1 0 1 0 0 0 0 0 1 0 0 0 1 0 0 1]\n",
        " [1 1 1 0 0 1 0 1 1 0 0 1 0 0 0 1 0 0 0 0]\n",
        " [1 1 1 0 1 1 0 0 1 1 1 1 0 1 0 1 0 1 0 0]\n",
        " [0 0 1 1 0 0 1 1 1 1 1 0 0 1 1 1 0 0 1 1]\n",
        " [0 1 1 1 1 1 0 1 1 0 0 1 0 0 0 0 1 1 0 1]\n",
        " [0 1 1 1 1 1 0 1 0 1 1 0 1 0 1 0 0 0 1 1]\n",
        " [1 0 1 0 0 0 1 1 1 0 0 1 1 1 1 1 1 0 0 0]\n",
        " [0 0 1 1 1 0 0 0 0 1 0 1 0 1 1 0 1 0 0 1]\n",
        " [0 0 1 1 0 1 0 1 1 0 0 1 0 0 0 1 0 1 0 0]\n",
        " [0 1 1 1 0 0 1 0 1 1 1 1 1 0 1 0 1 1 0 0]\n",
        " [0 0 0 0 1 0 1 0 1 0 1 0 0 1 0 0 0 1 1 0]]\n"
       ]
      }
     ],
     "prompt_number": 14
    },
    {
     "cell_type": "heading",
     "level": 3,
     "metadata": {},
     "source": [
      "Draw The Plot"
     ]
    },
    {
     "cell_type": "code",
     "collapsed": false,
     "input": [
      "from nitpick import plots\n",
      "plots.arrayPlot(array)"
     ],
     "language": "python",
     "metadata": {},
     "outputs": [
      {
       "metadata": {},
       "output_type": "display_data",
       "png": "[encoded data removed]",
       "text": [
        "<matplotlib.figure.Figure at 0xb1c3e1cc>"
       ]
      }
     ],
     "prompt_number": 11
    },
    {
     "cell_type": "code",
     "collapsed": false,
     "input": [
      "plots.arrayPlot(binaryArray)"
     ],
     "language": "python",
     "metadata": {},
     "outputs": [
      {
       "metadata": {},
       "output_type": "display_data",
       "png": "[encoded data removed]",
       "text": [
        "<matplotlib.figure.Figure at 0xb1c6ff2c>"
       ]
      }
     ],
     "prompt_number": 15
    },
    {
     "cell_type": "heading",
     "level": 3,
     "metadata": {},
     "source": [
      "Implementation Details"
     ]
    },
    {
     "cell_type": "markdown",
     "metadata": {},
     "source": [
      " - The grid lines get in the way when plotting very large arrays - maybe put in argument to turn them off\n",
      " - The color bar on the side is always the same height as the plot, so it gets unreadable for short plot"
     ]
    }
   ],
   "metadata": {}
  }
 ]
}