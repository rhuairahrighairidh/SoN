{
 "metadata": {
  "name": "",
  "signature": "sha256:3605bcc6591a1196c51ac85030f9fe910d26967b887f217de2b080b73f053ed4"
 },
 "nbformat": 3,
 "nbformat_minor": 0,
 "worksheets": [
  {
   "cells": [
    {
     "cell_type": "heading",
     "level": 3,
     "metadata": {},
     "source": [
      "Initialisation"
     ]
    },
    {
     "cell_type": "code",
     "collapsed": false,
     "input": [
      "import numpy as np\n",
      "%matplotlib inline\n",
      "%autosave 0"
     ],
     "language": "python",
     "metadata": {},
     "outputs": [
      {
       "javascript": [
        "IPython.notebook.set_autosave_interval(0)"
       ],
       "metadata": {},
       "output_type": "display_data"
      },
      {
       "output_type": "stream",
       "stream": "stdout",
       "text": [
        "Autosave disabled\n"
       ]
      }
     ],
     "prompt_number": 1
    },
    {
     "cell_type": "heading",
     "level": 1,
     "metadata": {},
     "source": [
      "Array Plot"
     ]
    },
    {
     "cell_type": "markdown",
     "metadata": {},
     "source": [
      "This plots arrays with a grey square for each item in the array.  \n",
      "There is also a reshape option for reshaping arrays that are awkard shapes - like 1D ones. Reshape will try and reshape the array into as close to the target aspect ratio as possible whilst keeping whole numbers on each side.  It can be provided with ```True``` -> reshape to golden ratio, ```5``` -> reshape to specified aspect ratio, ```[2,3]``` -> reshape to the aspect ratio given as an array shape.  \n",
      "There is also an option (```grid=false```) to turn off the grid lines."
     ]
    },
    {
     "cell_type": "heading",
     "level": 3,
     "metadata": {},
     "source": [
      "Generate some input"
     ]
    },
    {
     "cell_type": "code",
     "collapsed": false,
     "input": [
      "integerArray = np.random.randint(0,10,[20,20])\n",
      "print integerArray"
     ],
     "language": "python",
     "metadata": {},
     "outputs": [
      {
       "output_type": "stream",
       "stream": "stdout",
       "text": [
        "[[0 7 7 7 3 7 1 9 1 0 4 9 5 5 8 1 9 9 1 6]\n",
        " [1 4 4 8 1 5 4 1 3 7 4 7 3 8 8 4 8 2 7 1]\n",
        " [9 3 9 1 1 6 6 0 3 9 6 6 0 7 3 0 7 7 1 7]\n",
        " [7 0 9 1 5 8 1 3 9 5 8 9 6 6 4 7 7 1 3 9]\n",
        " [4 5 8 1 6 6 5 3 0 2 9 6 7 9 8 3 1 0 8 3]\n",
        " [5 8 2 7 9 7 0 0 1 5 3 9 5 8 2 8 7 6 1 7]\n",
        " [3 3 3 7 0 6 8 3 2 8 5 5 6 4 9 5 7 3 6 7]\n",
        " [1 4 2 4 3 7 3 9 4 1 8 9 5 0 4 0 1 7 2 2]\n",
        " [1 6 9 8 6 6 5 1 0 7 2 4 1 2 8 9 0 8 7 1]\n",
        " [3 7 4 6 4 2 5 6 7 9 8 5 9 8 1 0 6 9 4 8]\n",
        " [0 5 1 6 4 5 0 1 7 9 3 2 7 1 0 9 2 7 6 4]\n",
        " [8 1 7 6 5 5 0 2 5 2 2 6 7 8 6 8 0 0 0 5]\n",
        " [5 3 8 9 0 9 0 3 9 6 8 3 8 3 8 3 1 3 7 2]\n",
        " [9 7 6 5 2 8 3 8 5 4 7 9 7 8 8 2 3 6 1 2]\n",
        " [0 5 2 4 9 1 8 7 1 3 8 8 9 0 4 9 8 2 8 5]\n",
        " [1 4 8 3 1 2 1 4 6 4 6 6 9 9 0 6 4 0 2 8]\n",
        " [8 5 7 6 8 7 8 3 6 1 6 6 5 7 3 8 9 2 0 1]\n",
        " [2 1 6 5 9 6 0 3 6 9 2 2 4 9 9 8 0 8 6 3]\n",
        " [0 6 0 9 8 3 8 3 5 5 4 4 4 8 2 1 5 6 9 0]\n",
        " [8 3 5 8 0 9 1 4 7 9 7 9 9 8 1 0 4 1 4 0]]\n"
       ]
      }
     ],
     "prompt_number": 2
    },
    {
     "cell_type": "code",
     "collapsed": false,
     "input": [
      "binaryArray = np.random.randint(0,2,[20,20])\n",
      "print binaryArray"
     ],
     "language": "python",
     "metadata": {},
     "outputs": [
      {
       "output_type": "stream",
       "stream": "stdout",
       "text": [
        "[[0 0 1 1 0 1 1 1 0 0 1 1 1 0 0 1 0 0 1 1]\n",
        " [1 1 1 1 1 1 0 1 1 1 0 1 0 1 0 0 1 1 1 0]\n",
        " [0 1 1 1 1 1 1 1 0 1 1 0 0 1 0 0 1 1 0 1]\n",
        " [1 0 0 0 1 0 1 0 0 1 0 0 1 1 1 1 0 1 1 1]\n",
        " [0 1 0 1 1 0 1 1 0 0 1 1 1 0 1 1 1 0 0 0]\n",
        " [1 1 1 0 0 0 1 1 1 1 0 0 1 1 1 1 1 0 0 0]\n",
        " [1 0 0 0 1 0 0 1 1 0 1 0 1 1 1 1 0 1 1 1]\n",
        " [0 1 0 1 1 1 0 0 1 0 1 1 0 1 1 1 1 1 0 1]\n",
        " [0 1 1 0 0 0 0 1 1 0 0 0 0 1 0 1 1 1 0 0]\n",
        " [1 0 0 0 0 1 0 1 1 1 0 0 1 1 0 1 0 1 0 1]\n",
        " [0 0 1 0 1 0 1 1 0 0 0 1 0 1 1 1 0 0 0 0]\n",
        " [0 1 0 1 0 0 0 0 1 0 1 0 0 1 0 0 0 1 0 0]\n",
        " [0 1 1 0 0 0 0 0 0 1 1 1 1 1 0 1 0 0 1 0]\n",
        " [1 0 1 1 0 1 1 1 1 0 1 1 1 0 1 1 0 1 1 0]\n",
        " [0 0 1 0 0 0 0 1 0 0 1 1 0 0 1 1 0 1 1 1]\n",
        " [0 1 1 1 0 1 1 0 0 1 1 1 0 0 1 0 1 1 0 1]\n",
        " [1 0 0 0 0 0 1 1 0 1 0 0 1 1 1 0 1 1 0 0]\n",
        " [0 0 1 0 1 1 0 1 0 0 0 1 0 1 1 1 1 0 1 1]\n",
        " [0 0 0 0 0 0 1 0 1 0 1 1 0 0 1 0 1 0 0 1]\n",
        " [1 0 0 0 1 0 0 0 1 0 1 0 1 1 1 1 0 0 0 0]]\n"
       ]
      }
     ],
     "prompt_number": 3
    },
    {
     "cell_type": "heading",
     "level": 3,
     "metadata": {},
     "source": [
      "Draw The Plot"
     ]
    },
    {
     "cell_type": "code",
     "collapsed": false,
     "input": [
      "from nitpick import plots\n",
      "plots.arrayPlot(integerArray)"
     ],
     "language": "python",
     "metadata": {},
     "outputs": [
      {
       "metadata": {},
       "output_type": "pyout",
       "prompt_number": 5,
       "text": [
        "(<matplotlib.figure.Figure at 0xb19345ac>,\n",
        " [<matplotlib.axes.AxesSubplot at 0xb19349cc>,\n",
        "  <matplotlib.axes.Axes at 0xb187deec>])"
       ]
      },
      {
       "metadata": {},
       "output_type": "display_data",
       "png": "[encoded data removed]",
       "text": [
        "<matplotlib.figure.Figure at 0xb19345ac>"
       ]
      }
     ],
     "prompt_number": 5
    },
    {
     "cell_type": "code",
     "collapsed": false,
     "input": [
      "plots.arrayPlot(binaryArray)"
     ],
     "language": "python",
     "metadata": {},
     "outputs": [
      {
       "metadata": {},
       "output_type": "pyout",
       "prompt_number": 6,
       "text": [
        "(<matplotlib.figure.Figure at 0xb192db0c>,\n",
        " [<matplotlib.axes.AxesSubplot at 0xb192d64c>,\n",
        "  <matplotlib.axes.Axes at 0xb15eef0c>])"
       ]
      },
      {
       "metadata": {},
       "output_type": "display_data",
       "png": "[encoded data removed]",
       "text": [
        "<matplotlib.figure.Figure at 0xb192db0c>"
       ]
      }
     ],
     "prompt_number": 6
    },
    {
     "cell_type": "code",
     "collapsed": false,
     "input": [
      "plots.arrayPlot(binaryArray, reshape = 8, grid=False)"
     ],
     "language": "python",
     "metadata": {},
     "outputs": [
      {
       "metadata": {},
       "output_type": "pyout",
       "prompt_number": 9,
       "text": [
        "(<matplotlib.figure.Figure at 0xb133ae2c>,\n",
        " [<matplotlib.axes.AxesSubplot at 0xb1376b8c>,\n",
        "  <matplotlib.axes.Axes at 0xb12d022c>])"
       ]
      },
      {
       "metadata": {},
       "output_type": "display_data",
       "png": "[encoded data removed]",
       "text": [
        "<matplotlib.figure.Figure at 0xb133ae2c>"
       ]
      }
     ],
     "prompt_number": 9
    },
    {
     "cell_type": "heading",
     "level": 3,
     "metadata": {},
     "source": [
      "Implementation Details"
     ]
    },
    {
     "cell_type": "markdown",
     "metadata": {},
     "source": [
      "  - The color bar on the side is always the same height as the plot, so it gets unreadable for short plot"
     ]
    },
    {
     "cell_type": "code",
     "collapsed": false,
     "input": [],
     "language": "python",
     "metadata": {},
     "outputs": []
    }
   ],
   "metadata": {}
  }
 ]
}