{
 "metadata": {
  "name": "",
  "signature": "sha256:1d52acba7d3e3dd9af92c0db9e2ab2e3d27c19406be9bfbad8b44e71069ecd56"
 },
 "nbformat": 3,
 "nbformat_minor": 0,
 "worksheets": [
  {
   "cells": [
    {
     "cell_type": "heading",
     "level": 1,
     "metadata": {},
     "source": [
      "How to Add A New Plot"
     ]
    },
    {
     "cell_type": "markdown",
     "metadata": {},
     "source": [
      "If you'd like to add a new plot or visualisation that would be great. It's been designed so that its straight forwards to do so.  \n",
      "Follow these steps  \n",
      "\n",
      "0) Make sure you have cloned the repository  \n",
      "1) Write a new visualisation  \n",
      "2) Write some documentation  \n",
      "2) Add it to nitpick  "
     ]
    },
    {
     "cell_type": "heading",
     "level": 2,
     "metadata": {},
     "source": [
      "0) Make sure you have cloned the repository"
     ]
    },
    {
     "cell_type": "markdown",
     "metadata": {},
     "source": [
      "Refer to the [readme section](https://github.com/rhuairahrighairidh/nitpick#contributor-installation) on this."
     ]
    },
    {
     "cell_type": "heading",
     "level": 2,
     "metadata": {},
     "source": [
      "1) Write A New Plot"
     ]
    },
    {
     "cell_type": "markdown",
     "metadata": {},
     "source": [
      "Nitpick uses matplotlib just now, mainly because its the standard. But [bokeh](http://bokeh.pydata.org) might be incorporated in the future.  \n",
      "The template below shows how all plots are written just now. Each plot is under one function, in a .py file of the same name."
     ]
    },
    {
     "cell_type": "code",
     "collapsed": false,
     "input": [
      "import matplotlib.pyplot as plt\n",
      "#any other imports - you'll probably want numpy\n",
      "\n",
      "def yourFancyNewPlot(inputData, anyOtherArgs):\n",
      "    \"\"\"\n",
      "    A nice doc string.\n",
      "    \"\"\"\n",
      "        \n",
      "    #Some code to maniulate the input data - if its needed\n",
      "    \n",
      "    \n",
      "    #create a matplotlib figure and axes inside it\n",
      "    (figure,axes) = plt.subplots()\n",
      "    \n",
      "    \n",
      "    #Some code to plot the data. For example: axes.plot(inputData)\n",
      "    \n",
      "    \n",
      "    #return the figure instance and its axes so that people can modify the plot as they use it.\n",
      "    return (figure, figure.axes)"
     ],
     "language": "python",
     "metadata": {},
     "outputs": []
    },
    {
     "cell_type": "markdown",
     "metadata": {},
     "source": [
      "In IPython the doc string can be quickly referenced by hitting Shift-Tab.\n",
      "\n",
      "This is just the way plots are written just now. If you have a cool visualisation that doesn't fit these guides then its much better to break them than not use it."
     ]
    },
    {
     "cell_type": "heading",
     "level": 2,
     "metadata": {},
     "source": [
      "2) Write A Documentation Page"
     ]
    },
    {
     "cell_type": "markdown",
     "metadata": {},
     "source": [
      "In the interest of usability, keeping everything documented seems like a good idea.  \n",
      "Its easiest to copy one of the existing doc pages and modify it."
     ]
    },
    {
     "cell_type": "heading",
     "level": 2,
     "metadata": {},
     "source": [
      "3) Add It To Nitpick"
     ]
    },
    {
     "cell_type": "markdown",
     "metadata": {},
     "source": [
      "3.1) Put the plot in the plots folder\n",
      "\n",
      "3.2) Put the documentation page in documentation folder\n",
      "\n",
      "3.3) Submit pull request.\n",
      "\n",
      "\n",
      "Extra Tidying:\n",
      " - Add an import line to __init_\\_.py in the plots folder  \n",
      " - Add a link to your doc page into the documentation contents page"
     ]
    }
   ],
   "metadata": {}
  }
 ]
}