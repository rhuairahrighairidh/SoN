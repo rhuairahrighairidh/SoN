{
 "metadata": {
  "name": "",
  "signature": "sha256:75364c065229617a9a4b95468f4857aa65694d78bb0fefa5b5c08fd428fd5c6f"
 },
 "nbformat": 3,
 "nbformat_minor": 0,
 "worksheets": [
  {
   "cells": [
    {
     "cell_type": "heading",
     "level": 1,
     "metadata": {},
     "source": [
      "Contents"
     ]
    },
    {
     "cell_type": "markdown",
     "metadata": {},
     "source": [
      "###Demos\n",
      "\n",
      " - [IntroductionDemo](IntroductionDemo.ipynb)\n",
      " - [HotGymDemo](HotGymDemo.ipynb)\n",
      " \n",
      "###Plots\n",
      " - [permanencePlot](permanencePlot.ipynb)\n",
      " - [permanenceEvolutionPlot](permanenceEvolutionPlot.ipynb)\n",
      " - [timeOrderedSDRPlot](timeOrderedSDRPlot.ipynb)\n",
      " - [densityOrderedSDRPlot](densityOrderedSDRPlot.ipynb)\n",
      " - [DifferenceBarChart](DifferenceBarChart.ipynb)\n",
      " - [sparseArrayPlot](sparseArrayPlot.ipynb)\n",
      " - [arrayPlot](arrayPlot.ipynb)\n",
      "\n",
      "###Model Data Handling\n",
      " - [fileIO](fileIO.ipynb)"
     ]
    },
    {
     "cell_type": "code",
     "collapsed": false,
     "input": [
      "##A thing to print all the .ipynb files in this directory\n",
      "import os\n",
      "for file in os.listdir(\".\"):\n",
      "    if file.endswith(\".ipynb\"):\n",
      "        print \" - [\"+os.path.splitext(file)[0]+\"](\"+file+\")\""
     ],
     "language": "python",
     "metadata": {},
     "outputs": [
      {
       "output_type": "stream",
       "stream": "stdout",
       "text": [
        " - [ContentsPage](ContentsPage.ipynb)\n",
        " - [permanencePlot](permanencePlot.ipynb)\n",
        " - [timeOrderedSDRPlot](timeOrderedSDRPlot.ipynb)\n",
        " - [permanenceEvolutionPlot](permanenceEvolutionPlot.ipynb)\n",
        " - [DifferenceBarChart](DifferenceBarChart.ipynb)\n",
        " - [densityOrderedSDRPlot](densityOrderedSDRPlot.ipynb)\n",
        " - [fileIO](fileIO.ipynb)\n",
        " - [HotGymDemo](HotGymDemo.ipynb)\n",
        " - [sparseArrayPlot](sparseArrayPlot.ipynb)\n",
        " - [arrayPlot](arrayPlot.ipynb)\n",
        " - [IntroductionDemo](IntroductionDemo.ipynb)\n"
       ]
      }
     ],
     "prompt_number": 1
    },
    {
     "cell_type": "code",
     "collapsed": false,
     "input": [],
     "language": "python",
     "metadata": {},
     "outputs": []
    }
   ],
   "metadata": {}
  }
 ]
}