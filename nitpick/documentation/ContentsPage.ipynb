{
 "metadata": {
  "name": "",
  "signature": "sha256:e290ed3e4a4a56a5fc5e5a552e7cc53c00c68cc68d9dec5920b8e3b9b476c031"
 },
 "nbformat": 3,
 "nbformat_minor": 0,
 "worksheets": [
  {
   "cells": [
    {
     "cell_type": "heading",
     "level": 1,
     "metadata": {},
     "source": [
      "Contents"
     ]
    },
    {
     "cell_type": "markdown",
     "metadata": {},
     "source": [
      "###Demos\n",
      "\n",
      " - [IntroductionDemo](IntroductionDemo.ipynb)\n",
      " - [HotGymDemo](HotGymDemo.ipynb)\n",
      " \n",
      "###Plots\n",
      " - [permanencePlot](permanencePlot.ipynb)\n",
      " - [permanenceEvolutionPlot](permanenceEvolutionPlot.ipynb)\n",
      "\n",
      " - [timeOrderedSDRPlot](timeOrderedSDRPlot.ipynb)\n",
      " - [densityOrderedSDRPlot](densityOrderedSDRPlot.ipynb)\n",
      " \n",
      " - [DifferenceBarChart](DifferenceBarChart.ipynb)\n",
      "\n",
      " - [sparseArrayPlot](sparseArrayPlot.ipynb)\n",
      " - [arrayPlot](arrayPlot.ipynb)\n",
      "\n",
      "###Model Data Handling\n",
      " - [fileIO](fileIO.ipynb)"
     ]
    },
    {
     "cell_type": "code",
     "collapsed": false,
     "input": [
      "##A thing to print all the .ipynb files in this directory\n",
      "import os\n",
      "for file in os.listdir(\".\"):\n",
      "    if file.endswith(\".ipynb\"):\n",
      "        print \" - [\"+os.path.splitext(file)[0]+\"](\"+file+\")\""
     ],
     "language": "python",
     "metadata": {},
     "outputs": [
      {
       "output_type": "stream",
       "stream": "stdout",
       "text": [
        " - [ContentsPage](ContentsPage.ipynb)\n",
        " - [permanencePlot](permanencePlot.ipynb)\n",
        " - [timeOrderedSDRPlot](timeOrderedSDRPlot.ipynb)\n",
        " - [permanenceEvolutionPlot](permanenceEvolutionPlot.ipynb)\n",
        " - [DifferenceBarChart](DifferenceBarChart.ipynb)\n",
        " - [densityOrderedSDRPlot](densityOrderedSDRPlot.ipynb)\n",
        " - [fileIO](fileIO.ipynb)\n",
        " - [HotGymDemo](HotGymDemo.ipynb)\n",
        " - [sparseArrayPlot](sparseArrayPlot.ipynb)\n",
        " - [arrayPlot](arrayPlot.ipynb)\n",
        " - [IntroductionDemo](IntroductionDemo.ipynb)\n"
       ]
      }
     ],
     "prompt_number": 1
    },
    {
     "cell_type": "code",
     "collapsed": false,
     "input": [],
     "language": "python",
     "metadata": {},
     "outputs": []
    }
   ],
   "metadata": {}
  }
 ]
}