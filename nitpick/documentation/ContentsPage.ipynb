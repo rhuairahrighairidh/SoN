{
 "metadata": {
  "name": "",
  "signature": "sha256:a77031d62f6466d9ab0b0c55b83734314bf869c886b3cfce682986f750c0c408"
 },
 "nbformat": 3,
 "nbformat_minor": 0,
 "worksheets": [
  {
   "cells": [
    {
     "cell_type": "heading",
     "level": 1,
     "metadata": {},
     "source": [
      "Contents"
     ]
    },
    {
     "cell_type": "markdown",
     "metadata": {},
     "source": [
      "###Introductorary Demo\n",
      "\n",
      " - [IntroductionDemo](IntroductionDemo.ipynb)\n",
      " \n",
      "###Plots\n",
      " - [permanencePlot](permanencePlot.ipynb)\n",
      " - [permanenceEvolutionPlot](permanenceEvolutionPlot.ipynb)\n",
      "\n",
      " - [timeOrderedSDRPlot](timeOrderedSDRPlot.ipynb)\n",
      " - [densityOrderedSDRPlot](densityOrderedSDRPlot.ipynb)\n",
      " \n",
      " - [DifferenceBarChart](DifferenceBarChart.ipynb)\n",
      "\n",
      " - [sparseArrayPlot](sparseArrayPlot.ipynb)\n",
      " - [arrayPlot](arrayPlot.ipynb)\n",
      "\n",
      "###Model Data Handling\n",
      " - [fileIO](fileIO.ipynb)"
     ]
    },
    {
     "cell_type": "code",
     "collapsed": false,
     "input": [
      "##A thing to print all the .ipynb files in this directory\n",
      "import os\n",
      "for file in os.listdir(\".\"):\n",
      "    if file.endswith(\".ipynb\"):\n",
      "        print \" - [\"+os.path.splitext(file)[0]+\"](\"+file+\")\""
     ],
     "language": "python",
     "metadata": {},
     "outputs": [
      {
       "output_type": "stream",
       "stream": "stdout",
       "text": [
        " - [ContentsPage](ContentsPage.ipynb)\n",
        " - [permanencePlot](permanencePlot.ipynb)\n",
        " - [timeOrderedSDRPlot](timeOrderedSDRPlot.ipynb)\n",
        " - [permanenceEvolutionPlot](permanenceEvolutionPlot.ipynb)\n",
        " - [DifferenceBarChart](DifferenceBarChart.ipynb)\n",
        " - [densityOrderedSDRPlot](densityOrderedSDRPlot.ipynb)\n",
        " - [fileIO](fileIO.ipynb)\n",
        " - [sparseArrayPlot](sparseArrayPlot.ipynb)\n",
        " - [arrayPlot](arrayPlot.ipynb)\n",
        " - [IntroductionDemo](IntroductionDemo.ipynb)\n"
       ]
      }
     ],
     "prompt_number": 1
    }
   ],
   "metadata": {}
  }
 ]
}