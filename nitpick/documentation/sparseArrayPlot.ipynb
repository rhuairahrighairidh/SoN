{
 "metadata": {
  "name": "",
  "signature": "sha256:2a57da95127226c662d683295ef6cf1522f4c0f93169de38d8a61ca17fb53e89"
 },
 "nbformat": 3,
 "nbformat_minor": 0,
 "worksheets": [
  {
   "cells": [
    {
     "cell_type": "heading",
     "level": 3,
     "metadata": {},
     "source": [
      "Initialisation"
     ]
    },
    {
     "cell_type": "code",
     "collapsed": false,
     "input": [
      "import numpy as np\n",
      "%matplotlib inline\n",
      "%autosave 0"
     ],
     "language": "python",
     "metadata": {},
     "outputs": [],
     "prompt_number": 2
    },
    {
     "cell_type": "heading",
     "level": 1,
     "metadata": {},
     "source": [
      "Sparse Array Plot"
     ]
    },
    {
     "cell_type": "markdown",
     "metadata": {},
     "source": [
      "This is a simple wrapper around arrayPlot. It allows you to drectly plot a sparse array (of the kind found in nupic) without having to convert it to a dense array first."
     ]
    },
    {
     "cell_type": "heading",
     "level": 3,
     "metadata": {},
     "source": [
      "Get some input"
     ]
    },
    {
     "cell_type": "code",
     "collapsed": false,
     "input": [
      "from nitpick.fileIO import History\n",
      "h = History('/home/ruaridh/nitpick/nitpick/documentation/exampleData')"
     ],
     "language": "python",
     "metadata": {},
     "outputs": [],
     "prompt_number": 3
    },
    {
     "cell_type": "heading",
     "level": 3,
     "metadata": {},
     "source": [
      "Draw The Plot"
     ]
    },
    {
     "cell_type": "code",
     "collapsed": false,
     "input": [
      "from nitpick import plots\n",
      "plots.sparseArrayPlot(h.activeColumns()[0],h.dimensions())"
     ],
     "language": "python",
     "metadata": {},
     "outputs": [
      {
       "metadata": {},
       "output_type": "display_data",
       "png": "[encoded data removed]",
       "text": [
        "<matplotlib.figure.Figure at 0xb134086c>"
       ]
      }
     ],
     "prompt_number": 8
    },
    {
     "cell_type": "heading",
     "level": 3,
     "metadata": {},
     "source": [
      "Implementation Details"
     ]
    },
    {
     "cell_type": "markdown",
     "metadata": {},
     "source": [
      "This is just a thin wrapper around arrayPlot - it converts the input to a normal array and then passes it to array plot."
     ]
    }
   ],
   "metadata": {}
  }
 ]
}