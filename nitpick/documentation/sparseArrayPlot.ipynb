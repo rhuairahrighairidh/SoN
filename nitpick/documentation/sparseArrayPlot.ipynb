{
 "metadata": {
  "name": "",
  "signature": "sha256:1b5d8cbb43e172dfc3d1cf03370afac9ed64aa29f2afb545ce03fb074fc3d525"
 },
 "nbformat": 3,
 "nbformat_minor": 0,
 "worksheets": [
  {
   "cells": [
    {
     "cell_type": "heading",
     "level": 3,
     "metadata": {},
     "source": [
      "Initialisation"
     ]
    },
    {
     "cell_type": "code",
     "collapsed": false,
     "input": [
      "import numpy as np\n",
      "%matplotlib inline\n",
      "%autosave 0"
     ],
     "language": "python",
     "metadata": {},
     "outputs": [
      {
       "javascript": [
        "IPython.notebook.set_autosave_interval(0)"
       ],
       "metadata": {},
       "output_type": "display_data"
      },
      {
       "output_type": "stream",
       "stream": "stdout",
       "text": [
        "Autosave disabled\n"
       ]
      }
     ],
     "prompt_number": 1
    },
    {
     "cell_type": "heading",
     "level": 1,
     "metadata": {},
     "source": [
      "Sparse Array Plot"
     ]
    },
    {
     "cell_type": "markdown",
     "metadata": {},
     "source": [
      "This is a simple wrapper around arrayPlot. It allows you to drectly plot a sparse array (of the kind found in nupic) without having to convert it to a dense array first.\n",
      "\n",
      "This has the same keyword arguments as arrayPlot"
     ]
    },
    {
     "cell_type": "heading",
     "level": 3,
     "metadata": {},
     "source": [
      "Get some input"
     ]
    },
    {
     "cell_type": "code",
     "collapsed": false,
     "input": [
      "from nitpick.fileIO import History\n",
      "h = History('/home/ruaridh/nitpick/nitpick/documentation/exampleData')"
     ],
     "language": "python",
     "metadata": {},
     "outputs": [],
     "prompt_number": 2
    },
    {
     "cell_type": "heading",
     "level": 3,
     "metadata": {},
     "source": [
      "Draw The Plot"
     ]
    },
    {
     "cell_type": "code",
     "collapsed": false,
     "input": [
      "from nitpick import plots\n",
      "plots.sparseArrayPlot(h.activeColumns()[0],h.dimensions())"
     ],
     "language": "python",
     "metadata": {},
     "outputs": [
      {
       "metadata": {},
       "output_type": "pyout",
       "prompt_number": 3,
       "text": [
        "(<matplotlib.figure.Figure at 0xb18fbd2c>,\n",
        " [<matplotlib.axes.AxesSubplot at 0xb1284b2c>,\n",
        "  <matplotlib.axes.Axes at 0xb123332c>])"
       ]
      },
      {
       "metadata": {},
       "output_type": "display_data",
       "png": "[encoded data removed]",
       "text": [
        "<matplotlib.figure.Figure at 0xb18fbd2c>"
       ]
      }
     ],
     "prompt_number": 3
    },
    {
     "cell_type": "heading",
     "level": 3,
     "metadata": {},
     "source": [
      "Implementation Details"
     ]
    },
    {
     "cell_type": "markdown",
     "metadata": {},
     "source": [
      "This is just a thin wrapper around arrayPlot - it converts the input to a normal array and then passes it to array plot."
     ]
    }
   ],
   "metadata": {}
  }
 ]
}